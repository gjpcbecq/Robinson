{
 "metadata": {
  "name": "",
  "signature": "sha256:27d3ad0c9c7056761c6a10898d2486209d144e1a076cfa586eb1ba921152064e"
 },
 "nbformat": 3,
 "nbformat_minor": 0,
 "worksheets": [
  {
   "cells": [
    {
     "cell_type": "code",
     "collapsed": false,
     "input": [
      "%pylab inline\n",
      "import sys\n",
      "# sys.path.append(\"/Users/becqg/Documents/code/Robinson\")\n",
      "sys.path.append(\"C:\\Users\\Guillaume\\Documents\\projets\\code\\Robinson\")\n",
      "import ER\n",
      "import imp"
     ],
     "language": "python",
     "metadata": {},
     "outputs": [
      {
       "output_type": "stream",
       "stream": "stdout",
       "text": [
        "Populating the interactive namespace from numpy and matplotlib\n"
       ]
      }
     ],
     "prompt_number": 1
    },
    {
     "cell_type": "heading",
     "level": 1,
     "metadata": {},
     "source": [
      "SHAPE"
     ]
    },
    {
     "cell_type": "code",
     "collapsed": false,
     "input": [
      "imp.reload(ER)\n",
      "LB = 2\n",
      "B = numpy.array([-1.25, 1.0])\n",
      "LD = 5\n",
      "D = numpy.array([2.0, 1.0, 0.0, 1.0, 2.0])\n",
      "LA = 2\n",
      "A = numpy.empty(LA)\n",
      "LC = 3\n",
      "C = numpy.empty(LC)\n",
      "ASE = 0\n",
      "SPACE = numpy.empty(3*LA)\n",
      "(A, LC, C, ASE, SPACE) = ER.SHAPE(LB, B, LD, D, LA, A, LC, C, ASE, SPACE)\n",
      "print(A, LC, C, ASE, SPACE)"
     ],
     "language": "python",
     "metadata": {},
     "outputs": [
      {
       "output_type": "stream",
       "stream": "stdout",
       "text": [
        "[ -1.50000000e+000  -1.25000000e+000   2.14207083e-314   2.12358746e-314\n",
        "   2.24888398e-314   0.00000000e+000]\n",
        "(2, array([ -1.50000000e+000,  -1.25000000e+000,  -1.50000000e+000,\n",
        "        -1.25000000e+000,   2.24888398e-314,   0.00000000e+000]), array([ 0.        , -2.00000012]))\n",
        "(array([ 1., -0.]), 3, array([-1.25,  1.  ,  0.  ]), 1.1499999999999999, array([-1.5       , -1.25      , -1.5       , -1.25      ,  1.        ,\n",
        "       -0.83333333]))\n"
       ]
      }
     ],
     "prompt_number": 18
    },
    {
     "cell_type": "code",
     "collapsed": false,
     "input": [],
     "language": "python",
     "metadata": {},
     "outputs": []
    }
   ],
   "metadata": {}
  }
 ]
}