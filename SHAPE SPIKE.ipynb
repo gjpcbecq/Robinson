{
 "metadata": {
  "name": "",
  "signature": "sha256:89bb4df82709097f684dbd3f389f8c2bf220483bec7bacbad4576d62642ed60f"
 },
 "nbformat": 3,
 "nbformat_minor": 0,
 "worksheets": [
  {
   "cells": [
    {
     "cell_type": "code",
     "collapsed": false,
     "input": [
      "%pylab inline\n",
      "import sys\n",
      "# sys.path.append(\"/Users/becqg/Documents/code/Robinson\")\n",
      "sys.path.append(\"C:\\Users\\Guillaume\\Documents\\projets\\code\\Robinson\")\n",
      "import ER\n",
      "import imp"
     ],
     "language": "python",
     "metadata": {},
     "outputs": [
      {
       "output_type": "stream",
       "stream": "stdout",
       "text": [
        "Populating the interactive namespace from numpy and matplotlib\n"
       ]
      }
     ],
     "prompt_number": 7
    },
    {
     "cell_type": "heading",
     "level": 1,
     "metadata": {},
     "source": [
      "SHAPE"
     ]
    },
    {
     "cell_type": "code",
     "collapsed": false,
     "input": [
      "imp.reload(ER)\n",
      "LB = 2\n",
      "B = numpy.array([-1.25, 1.0])\n",
      "LD = 5\n",
      "D = numpy.array([2.0, 1.0, 0.0, 1.0, 2.0])\n",
      "LA = 2\n",
      "A = numpy.empty(LA)\n",
      "LC = 3\n",
      "C = numpy.empty(LC)\n",
      "ASE = 0\n",
      "SPACE = numpy.empty(3*LA)\n",
      "(A, LC, C, ASE, SPACE) = ER.SHAPE(LB, B, LD, D, LA, A, LC, C, ASE, SPACE)\n",
      "print(A)\n",
      "print(LC)\n",
      "print(C)\n",
      "print(ASE)\n",
      "print(SPACE)\n",
      "plot(B, '.-', label=\"B\")\n",
      "plot(D, '.-', label=\"D\")\n",
      "plot(A, '.-', label=\"A\")\n",
      "plot(C, '.-', label=\"C\")\n",
      "legend()"
     ],
     "language": "python",
     "metadata": {},
     "outputs": [
      {
       "output_type": "stream",
       "stream": "stdout",
       "text": [
        "[-1.08040593 -1.01483216]\n",
        "3\n",
        "[ 1.35050742  0.18813427 -1.01483216]\n",
        "0.711085089774\n",
        "[ 2.5625     -1.25       -1.5        -1.25        1.          0.48780488]\n"
       ]
      },
      {
       "metadata": {},
       "output_type": "pyout",
       "prompt_number": 25,
       "text": [
        "<matplotlib.legend.Legend at 0x102239d10>"
       ]
      },
      {
       "metadata": {},
       "output_type": "display_data",
       "png": "[encoded data removed]",
       "text": [
        "<matplotlib.figure.Figure at 0x10f28b790>"
       ]
      }
     ],
     "prompt_number": 25
    },
    {
     "cell_type": "code",
     "collapsed": false,
     "input": [
      "LB = 2\n",
      "B = numpy.array([1.0, -1.25])\n",
      "LD = 5\n",
      "D = numpy.array([2.0, 1.0, 0.0, 1.0, 2.0])\n",
      "LA = 2\n",
      "A = numpy.empty(LA)\n",
      "LC = 3\n",
      "C = numpy.empty(LC)\n",
      "ASE = 0\n",
      "SPACE = numpy.empty(3*LA)\n",
      "(A, LC, C, ASE, SPACE) = ER.SHAPE(LB, B, LD, D, LA, A, LC, C, ASE, SPACE)\n",
      "print(A)\n",
      "print(LC)\n",
      "print(C)\n",
      "print(ASE)\n",
      "print(SPACE)\n",
      "plot(B, '.-', label=\"B\")\n",
      "plot(D, '.-', label=\"D\")\n",
      "plot(A, '.-', label=\"A\")\n",
      "plot(C, '.-', label=\"C\")\n",
      "legend()"
     ],
     "language": "python",
     "metadata": {},
     "outputs": [
      {
       "output_type": "stream",
       "stream": "stdout",
       "text": [
        "[ 0.63387978  0.69945355]\n",
        "3\n",
        "[ 0.63387978 -0.09289617 -0.87431694]\n",
        "0.882513661202\n",
        "[ 2.5625     -1.25        0.75        1.          1.          0.48780488]\n"
       ]
      },
      {
       "metadata": {},
       "output_type": "pyout",
       "prompt_number": 26,
       "text": [
        "<matplotlib.legend.Legend at 0x10efd4dd0>"
       ]
      },
      {
       "metadata": {},
       "output_type": "display_data",
       "png": "[encoded data removed]",
       "text": [
        "<matplotlib.figure.Figure at 0x102221950>"
       ]
      }
     ],
     "prompt_number": 26
    },
    {
     "cell_type": "code",
     "collapsed": false,
     "input": [
      "LB = 3\n",
      "B = numpy.array([1.5625, -1.7677, 1.0])\n",
      "LD = 5\n",
      "D = numpy.array([2.0, 1.0, 0.0, 1.0, 2.0])\n",
      "LA = 2\n",
      "A = numpy.empty(LA)\n",
      "LC = 4\n",
      "C = numpy.empty(LC)\n",
      "ASE = 0\n",
      "SPACE = numpy.empty(3*LA)\n",
      "(A, LC, C, ASE, SPACE) = ER.SHAPE(LB, B, LD, D, LA, A, LC, C, ASE, SPACE)\n",
      "print(A)\n",
      "print(LC)\n",
      "print(C)\n",
      "print(ASE)\n",
      "print(SPACE)\n",
      "plot(B, '.-', label=\"B\")\n",
      "plot(D, '.-', label=\"D\")\n",
      "plot(A, '.-', label=\"A\")\n",
      "plot(C, '.-', label=\"C\")\n",
      "legend()"
     ],
     "language": "python",
     "metadata": {},
     "outputs": [
      {
       "output_type": "stream",
       "stream": "stdout",
       "text": [
        "[ 0.90810727  1.01672395]\n",
        "4\n",
        "[ 1.4189176  -0.01663004 -0.88915567  1.01672395]\n",
        "0.616207087368\n",
        "[ 6.56616954 -4.52973125  1.3573      2.5625      1.          0.68985901]\n"
       ]
      },
      {
       "metadata": {},
       "output_type": "pyout",
       "prompt_number": 27,
       "text": [
        "<matplotlib.legend.Legend at 0x10f013750>"
       ]
      },
      {
       "metadata": {},
       "output_type": "display_data",
       "png": "[encoded data removed]",
       "text": [
        "<matplotlib.figure.Figure at 0x10efbffd0>"
       ]
      }
     ],
     "prompt_number": 27
    },
    {
     "cell_type": "code",
     "collapsed": false,
     "input": [
      "LB = 3\n",
      "B = numpy.array([1.0, -1.7677, 1.56250])\n",
      "LD = 5\n",
      "D = numpy.array([2.0, 1.0, 0.0, 1.0, 2.0])\n",
      "LA = 2\n",
      "A = numpy.empty(LA)\n",
      "LC = 4\n",
      "C = numpy.empty(LC)\n",
      "ASE = 0\n",
      "SPACE = numpy.empty(3*LA)\n",
      "(A, LC, C, ASE, SPACE) = ER.SHAPE(LB, B, LD, D, LA, A, LC, C, ASE, SPACE)\n",
      "print(A)\n",
      "print(LC)\n",
      "print(C)\n",
      "print(ASE)\n",
      "print(SPACE)"
     ],
     "language": "python",
     "metadata": {},
     "outputs": [
      {
       "output_type": "stream",
       "stream": "stdout",
       "text": [
        "[ 0.58119532  0.7912008 ]\n",
        "4\n",
        "[ 0.58119532 -0.23617816 -0.49048797  1.23625125]\n",
        "0.783753627953\n",
        "[ 6.56616954 -4.52973125  0.2323      2.5625      1.          0.68985901]\n"
       ]
      }
     ],
     "prompt_number": 19
    },
    {
     "cell_type": "code",
     "collapsed": false,
     "input": [
      "LB = 5\n",
      "B = numpy.array([2.0, 1.0, 0.0, -1.0, -2.0])\n",
      "LD = 5\n",
      "D = numpy.array([2.0, 1.0, 0.0, 1.0, 2.0])\n",
      "LA = 2\n",
      "A = numpy.empty(LA)\n",
      "LC = 6\n",
      "C = numpy.empty(LC)\n",
      "ASE = 0\n",
      "SPACE = numpy.empty(3*LA)\n",
      "(A, LC, C, ASE, SPACE) = ER.SHAPE(LB, B, LD, D, LA, A, LC, C, ASE, SPACE)\n",
      "print(A)\n",
      "print(LC)\n",
      "print(C)\n",
      "print(ASE)\n",
      "print(SPACE)\n",
      "plot(B, '.-', label=\"B\")\n",
      "plot(D, '.-', label=\"D\")\n",
      "plot(A, '.-', label=\"A\")\n",
      "plot(C, '.-', label=\"C\")\n",
      "legend()"
     ],
     "language": "python",
     "metadata": {},
     "outputs": [
      {
       "output_type": "stream",
       "stream": "stdout",
       "text": [
        "[ 0.  0.]\n",
        "6\n",
        "[ 0.  0.  0.  0.  0.  0.]\n",
        "1.0\n",
        "[ 10.    4.    0.    0.    1.   -0.4]\n"
       ]
      },
      {
       "metadata": {},
       "output_type": "pyout",
       "prompt_number": 28,
       "text": [
        "<matplotlib.legend.Legend at 0x10f047ed0>"
       ]
      },
      {
       "metadata": {},
       "output_type": "display_data",
       "png": "[encoded data removed]",
       "text": [
        "<matplotlib.figure.Figure at 0x10efdf210>"
       ]
      }
     ],
     "prompt_number": 28
    },
    {
     "cell_type": "code",
     "collapsed": false,
     "input": [
      "imp.reload(ER)\n",
      "LB = 5\n",
      "B = numpy.array([2.0, 1, 0, 1, 2])\n",
      "LA = 8\n",
      "A = numpy.empty((LA, ))\n",
      "INDEX = 0\n",
      "ASE = 0\n",
      "S = numpy.empty((2 * (LA + LB - 1) + 3 * LA, ))\n",
      "(A, INDEX, ASE, S) = ER.SPIKE(LB, B, LA, A, INDEX, ASE, S)\n",
      "print(A)\n",
      "print(INDEX)\n",
      "print(ASE)\n",
      "print(S)"
     ],
     "language": "python",
     "metadata": {},
     "outputs": [
      {
       "output_type": "stream",
       "stream": "stdout",
       "text": [
        "[  2.86100878e-01   3.50219657e-01   3.51498807e-01   3.59083486e-01\n",
        "   3.04580577e-01   3.48516596e-01   3.48516596e-01   3.04580577e-01\n",
        "   3.59083486e-01   3.51498807e-01   3.50219657e-01   2.86100878e-01\n",
        "   2.19902553e-01   3.02379914e-02   1.46439491e-01  -7.18177786e-03\n",
        "  -2.31430660e-01   1.22575930e-02  -1.48977398e-01   1.97385807e-01\n",
        "   1.26608960e-01  -1.07337361e-03   5.08211818e-02   7.13899122e-01\n",
        "   1.00000000e+01   4.00000000e+00   1.00000000e+00   4.00000000e+00\n",
        "   4.00000000e+00   0.00000000e+00   0.00000000e+00   0.00000000e+00\n",
        "   0.00000000e+00   0.00000000e+00   0.00000000e+00   0.00000000e+00\n",
        "   0.00000000e+00   0.00000000e+00   0.00000000e+00   2.00000000e+00\n",
        "   1.00000000e+00  -4.28811816e-01   2.12902371e-01  -4.29102656e-01\n",
        "  -2.94552990e-01   2.60955824e-01  -1.11659032e-01   3.08030289e-01]\n",
        "[ 0.06330448 -0.0502363   0.04263694  0.26748755 -0.13617169  0.08894912\n",
        " -0.14457592 -0.00359089]\n",
        "3\n",
        "0.359083486005\n",
        "[  2.86100878e-01   3.50219657e-01   3.51498807e-01   3.59083486e-01\n",
        "   3.04580577e-01   3.48516596e-01   3.48516596e-01   3.04580577e-01\n",
        "   3.59083486e-01   3.51498807e-01   3.50219657e-01   2.86100878e-01\n",
        "   1.26608960e-01  -3.71681104e-02   3.50375843e-02   6.40916514e-01\n",
        "   7.15168385e-02  -1.61091010e-02   1.52558709e-01   2.47045712e-01\n",
        "  -1.86985144e-01   3.33223184e-02  -2.92742724e-01  -7.18177786e-03\n",
        "   1.00000000e+01   4.00000000e+00   1.00000000e+00   4.00000000e+00\n",
        "   4.00000000e+00   0.00000000e+00   0.00000000e+00   0.00000000e+00\n",
        "   1.00000000e+00   0.00000000e+00   1.00000000e+00   2.00000000e+00\n",
        "   0.00000000e+00   0.00000000e+00   0.00000000e+00   0.00000000e+00\n",
        "   1.00000000e+00  -4.28811816e-01   2.12902371e-01  -4.29102656e-01\n",
        "  -2.94552990e-01   2.60955824e-01  -1.11659032e-01   3.08030289e-01]\n"
       ]
      }
     ],
     "prompt_number": 38
    },
    {
     "cell_type": "code",
     "collapsed": false,
     "input": [],
     "language": "python",
     "metadata": {},
     "outputs": []
    }
   ],
   "metadata": {}
  }
 ]
}