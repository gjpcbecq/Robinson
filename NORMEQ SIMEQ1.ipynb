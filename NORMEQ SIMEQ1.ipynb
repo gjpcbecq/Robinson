{
 "metadata": {
  "name": "",
  "signature": "sha256:0874b99c6f4188ecf453a136f88ec2a6ef43e4d5820f4657366689cc1626b671"
 },
 "nbformat": 3,
 "nbformat_minor": 0,
 "worksheets": [
  {
   "cells": [
    {
     "cell_type": "code",
     "collapsed": false,
     "input": [
      "%pylab inline\n",
      "import sys\n",
      "sys.path.append(\"/Users/becqg/Documents/code/Robinson\")\n",
      "import ER\n",
      "import imp"
     ],
     "language": "python",
     "metadata": {},
     "outputs": [
      {
       "output_type": "stream",
       "stream": "stdout",
       "text": [
        "Populating the interactive namespace from numpy and matplotlib\n"
       ]
      }
     ],
     "prompt_number": 1
    },
    {
     "cell_type": "code",
     "collapsed": false,
     "input": [
      "X = ER.sunspot_X\n",
      "Z = X.reshape((3, 100))\n",
      "print(mean(Z[0, :]), mean(Z[1, :]), mean(Z[2, :]))"
     ],
     "language": "python",
     "metadata": {},
     "outputs": [
      {
       "output_type": "stream",
       "stream": "stdout",
       "text": [
        "(46.939999999999998, 63.43, 97.969999999999999)\n"
       ]
      }
     ],
     "prompt_number": 2
    },
    {
     "cell_type": "code",
     "collapsed": false,
     "input": [
      "X0 = ER.sunspot_X.astype('float')\n",
      "X = numpy.zeros((300, ))\n",
      "for i in range(3): \n",
      "    I1 = i * 100\n",
      "    I2 = (i + 1) * 100\n",
      "    (X[I1:I2], AVERAG) = ER.REMAV(100, X0[I1:I2])\n",
      "    print(AVERAG)"
     ],
     "language": "python",
     "metadata": {},
     "outputs": [
      {
       "output_type": "stream",
       "stream": "stdout",
       "text": [
        "46.94\n",
        "63.43\n",
        "97.97\n"
       ]
      }
     ],
     "prompt_number": 3
    },
    {
     "cell_type": "code",
     "collapsed": false,
     "input": [
      "imp.reload(ER)\n",
      "(N, M, LF) = (2, 1, 1)\n",
      "F = numpy.array([])\n",
      "R = numpy.array([7., -1, -1, 3])\n",
      "G = numpy.array([1., 0.])\n",
      "(A, B, F, AP, BP, VA, VB, DA, DB, CA, CB, CF, GAM) = ER.NORMEQ(N, M, LF, R, G)\n",
      "print(A, B, F)"
     ],
     "language": "python",
     "metadata": {},
     "outputs": [
      {
       "output_type": "stream",
       "stream": "stdout",
       "text": [
        "(array([ 1.,  0.,  0.,  1.]), array([ 1.,  0.,  0.,  1.]), array([ 0.15,  0.05]))\n"
       ]
      }
     ],
     "prompt_number": 4
    },
    {
     "cell_type": "code",
     "collapsed": false,
     "input": [
      "imp.reload(ER)\n",
      "(N, M, LF) = (2, 1, 2)\n",
      "R = numpy.array([7., -1, -1, 3, -2, 1, -2, 1])\n",
      "G = numpy.array([1., 0., 0, 1])\n",
      "(A, B, F, AP, BP, VA, VB, DA, DB, CA, CB, CF, GAM) = ER.NORMEQ(N, M, LF, R, G)\n",
      "print(A, B, F)"
     ],
     "language": "python",
     "metadata": {},
     "outputs": [
      {
       "output_type": "stream",
       "stream": "stdout",
       "text": [
        "(array([ 1. ,  0. ,  0. ,  1. ,  0.4, -0.2,  0.8, -0.4]), array([ 1.  ,  0.  ,  0.  ,  1.  ,  0.25,  0.25, -0.25, -0.25]), array([ 0.4 , -0.2 ,  0.25,  0.75]))\n"
       ]
      }
     ],
     "prompt_number": 5
    },
    {
     "cell_type": "markdown",
     "metadata": {},
     "source": [
      "<h2> MAINE </h2>\n",
      "\n",
      "p. 11"
     ]
    },
    {
     "cell_type": "code",
     "collapsed": false,
     "input": [
      "imp.reload(ER)\n",
      "A = array([1, 2, 3., 0, 5, 6, 0, 0, 9])\n",
      "B = empty(3 * 3)\n",
      "B = ER.MAINE(3, A, B)\n",
      "ER.RITE(1, 3, 3, 1, A)\n",
      "ER.RITE(1, 3, 3, 1, B)\n",
      "A = matrix(\"[1, 0, 0; 2, 5, 0; 3, 6, 9]\")\n",
      "B = matrix(\"[1, 0, 0; 0, 0.2, 0; 0, 0, 1./9]\")\n",
      "print(A)\n",
      "print(A * B)\n",
      "print(A.I)"
     ],
     "language": "python",
     "metadata": {},
     "outputs": [
      {
       "output_type": "stream",
       "stream": "stdout",
       "text": [
        "--\n",
        "('M', 1)\n",
        "[[1.0  0.0  0.0] \n",
        " [0.0  0.2  0.0] \n",
        " [0.0  0.0  0.0]]\n",
        "\n",
        "--\n",
        "--\n",
        "('M', 2)\n",
        "[[1.0  0.0  0.0] \n",
        " [0.0  0.2  0.0] \n",
        " [0.0  0.0  0.111111111111]]\n",
        "\n",
        "--\n",
        "[[1.0  0.0  0.0] \n",
        " [2.0  5.0  0.0] \n",
        " [3.0  6.0  9.0]]\n",
        "\n",
        "[[1.0  0.0  0.0] \n",
        " [0.0  0.2  0.0] \n",
        " [0.0  0.0  0.111111111111]]\n",
        "\n",
        "[[1 0 0]\n",
        " [2 5 0]\n",
        " [3 6 9]]\n",
        "[[  1.    0.    0. ]\n",
        " [  2.    1.    0. ]\n",
        " [  3.    1.2  17.1]]\n",
        "[[  1.00000000e+00  -7.40148683e-17   0.00000000e+00]\n",
        " [ -4.00000000e-01   2.00000000e-01  -0.00000000e+00]\n",
        " [ -6.66666667e-02  -1.33333333e-01   1.11111111e-01]]\n"
       ]
      }
     ],
     "prompt_number": 50
    },
    {
     "cell_type": "markdown",
     "metadata": {},
     "source": [
      "<h2> SIMEQ1 </h2>\n",
      "\n",
      "p. 39"
     ]
    },
    {
     "cell_type": "code",
     "collapsed": false,
     "input": [
      "M = 3\n",
      "N = 2\n",
      "B = numpy.zeros((N * N, ))\n",
      "C = numpy.zeros((M * N, ))\n",
      "A = numpy.zeros((M * N, ))\n",
      "B[0*N+0] = 1.\n",
      "B[0*N+1] = 3.\n",
      "B[1*N+0] = 3.\n",
      "C[0*M+0] = 0.\n",
      "C[0*M+1] = 10.\n",
      "C[0*M+2] = 20.\n",
      "C[1*M+0] = 1.\n",
      "C[1*M+1] = 11.\n",
      "C[1*M+2] = 21.\n",
      "A = ER.SIMEQ1(M, N, A, B, C)\n",
      "print(A)"
     ],
     "language": "python",
     "metadata": {},
     "outputs": [
      {
       "output_type": "stream",
       "stream": "stdout",
       "text": [
        "[ 0.33333333  3.66666667  7.         -0.11111111  2.11111111  4.33333333]\n"
       ]
      }
     ],
     "prompt_number": 17
    },
    {
     "cell_type": "code",
     "collapsed": false,
     "input": [
      "M = 3\n",
      "N = 2\n",
      "A = zeros(M * N)\n",
      "B = array([[1., 2.], [0, 2]])\n",
      "C = array([[1., 1.], [0.5, 1.], [2., 1.]])\n",
      "A = ER.SIMEQ1(M, N, A, B, C)\n",
      "print(A)\n",
      "B = matrix(B)\n",
      "C = matrix(C)\n",
      "A = C * B.I\n",
      "print(A)"
     ],
     "language": "python",
     "metadata": {},
     "outputs": [
      {
       "ename": "ValueError",
       "evalue": "setting an array element with a sequence.",
       "output_type": "pyerr",
       "traceback": [
        "\u001b[0;31m---------------------------------------------------------------------------\u001b[0m\n\u001b[0;31mValueError\u001b[0m                                Traceback (most recent call last)",
        "\u001b[0;32m<ipython-input-21-f6b73efd510b>\u001b[0m in \u001b[0;36m<module>\u001b[0;34m()\u001b[0m\n\u001b[1;32m      4\u001b[0m \u001b[0mB\u001b[0m \u001b[0;34m=\u001b[0m \u001b[0marray\u001b[0m\u001b[0;34m(\u001b[0m\u001b[0;34m[\u001b[0m\u001b[0;34m[\u001b[0m\u001b[0;36m1.\u001b[0m\u001b[0;34m,\u001b[0m \u001b[0;36m2.\u001b[0m\u001b[0;34m]\u001b[0m\u001b[0;34m,\u001b[0m \u001b[0;34m[\u001b[0m\u001b[0;36m0\u001b[0m\u001b[0;34m,\u001b[0m \u001b[0;36m2\u001b[0m\u001b[0;34m]\u001b[0m\u001b[0;34m]\u001b[0m\u001b[0;34m)\u001b[0m\u001b[0;34m\u001b[0m\u001b[0m\n\u001b[1;32m      5\u001b[0m \u001b[0mC\u001b[0m \u001b[0;34m=\u001b[0m \u001b[0marray\u001b[0m\u001b[0;34m(\u001b[0m\u001b[0;34m[\u001b[0m\u001b[0;34m[\u001b[0m\u001b[0;36m1.\u001b[0m\u001b[0;34m,\u001b[0m \u001b[0;36m1.\u001b[0m\u001b[0;34m]\u001b[0m\u001b[0;34m,\u001b[0m \u001b[0;34m[\u001b[0m\u001b[0;36m0.5\u001b[0m\u001b[0;34m,\u001b[0m \u001b[0;36m1.\u001b[0m\u001b[0;34m]\u001b[0m\u001b[0;34m,\u001b[0m \u001b[0;34m[\u001b[0m\u001b[0;36m2.\u001b[0m\u001b[0;34m,\u001b[0m \u001b[0;36m1.\u001b[0m\u001b[0;34m]\u001b[0m\u001b[0;34m]\u001b[0m\u001b[0;34m)\u001b[0m\u001b[0;34m\u001b[0m\u001b[0m\n\u001b[0;32m----> 6\u001b[0;31m \u001b[0mA\u001b[0m \u001b[0;34m=\u001b[0m \u001b[0mER\u001b[0m\u001b[0;34m.\u001b[0m\u001b[0mSIMEQ1\u001b[0m\u001b[0;34m(\u001b[0m\u001b[0mM\u001b[0m\u001b[0;34m,\u001b[0m \u001b[0mN\u001b[0m\u001b[0;34m,\u001b[0m \u001b[0mA\u001b[0m\u001b[0;34m,\u001b[0m \u001b[0mB\u001b[0m\u001b[0;34m,\u001b[0m \u001b[0mC\u001b[0m\u001b[0;34m)\u001b[0m\u001b[0;34m\u001b[0m\u001b[0m\n\u001b[0m\u001b[1;32m      7\u001b[0m \u001b[0;32mprint\u001b[0m\u001b[0;34m(\u001b[0m\u001b[0mA\u001b[0m\u001b[0;34m)\u001b[0m\u001b[0;34m\u001b[0m\u001b[0m\n\u001b[1;32m      8\u001b[0m \u001b[0mB\u001b[0m \u001b[0;34m=\u001b[0m \u001b[0mmatrix\u001b[0m\u001b[0;34m(\u001b[0m\u001b[0mB\u001b[0m\u001b[0;34m)\u001b[0m\u001b[0;34m\u001b[0m\u001b[0m\n",
        "\u001b[0;32m/Users/becqg/Documents/code/Robinson/ER.pyc\u001b[0m in \u001b[0;36mSIMEQ1\u001b[0;34m(M, N, A, B, C)\u001b[0m\n\u001b[1;32m   1492\u001b[0m \u001b[0;31m#    print(B)\u001b[0m\u001b[0;34m\u001b[0m\u001b[0;34m\u001b[0m\u001b[0m\n\u001b[1;32m   1493\u001b[0m     \u001b[0mS\u001b[0m \u001b[0;34m=\u001b[0m \u001b[0mnumpy\u001b[0m\u001b[0;34m.\u001b[0m\u001b[0mempty\u001b[0m\u001b[0;34m(\u001b[0m\u001b[0;34m(\u001b[0m\u001b[0mN\u001b[0m \u001b[0;34m*\u001b[0m \u001b[0mN\u001b[0m\u001b[0;34m,\u001b[0m \u001b[0;34m)\u001b[0m\u001b[0;34m)\u001b[0m\u001b[0;34m\u001b[0m\u001b[0m\n\u001b[0;32m-> 1494\u001b[0;31m     \u001b[0mS\u001b[0m \u001b[0;34m=\u001b[0m \u001b[0mMAINE\u001b[0m\u001b[0;34m(\u001b[0m\u001b[0mN\u001b[0m\u001b[0;34m,\u001b[0m \u001b[0mB\u001b[0m\u001b[0;34m,\u001b[0m \u001b[0mS\u001b[0m\u001b[0;34m)\u001b[0m\u001b[0;34m\u001b[0m\u001b[0m\n\u001b[0m\u001b[1;32m   1495\u001b[0m \u001b[0;31m#    print(S)\u001b[0m\u001b[0;34m\u001b[0m\u001b[0;34m\u001b[0m\u001b[0m\n\u001b[1;32m   1496\u001b[0m     \u001b[0mA\u001b[0m \u001b[0;34m=\u001b[0m \u001b[0mnumpy\u001b[0m\u001b[0;34m.\u001b[0m\u001b[0mzeros\u001b[0m\u001b[0;34m(\u001b[0m\u001b[0;34m(\u001b[0m\u001b[0mM\u001b[0m \u001b[0;34m*\u001b[0m \u001b[0mN\u001b[0m\u001b[0;34m,\u001b[0m \u001b[0;34m)\u001b[0m\u001b[0;34m)\u001b[0m\u001b[0;34m\u001b[0m\u001b[0m\n",
        "\u001b[0;32m/Users/becqg/Documents/code/Robinson/ER.pyc\u001b[0m in \u001b[0;36mMAINE\u001b[0;34m(N, A, B)\u001b[0m\n\u001b[1;32m   1736\u001b[0m     \u001b[0mp\u001b[0m\u001b[0;34m.\u001b[0m \u001b[0;36m11\u001b[0m\u001b[0;34m\u001b[0m\u001b[0m\n\u001b[1;32m   1737\u001b[0m     \"\"\"\n\u001b[0;32m-> 1738\u001b[0;31m     \u001b[0mB\u001b[0m\u001b[0;34m[\u001b[0m\u001b[0;36m0\u001b[0m\u001b[0;34m]\u001b[0m \u001b[0;34m=\u001b[0m \u001b[0;36m1.0\u001b[0m \u001b[0;34m/\u001b[0m \u001b[0mA\u001b[0m\u001b[0;34m[\u001b[0m\u001b[0;36m0\u001b[0m\u001b[0;34m]\u001b[0m\u001b[0;34m\u001b[0m\u001b[0m\n\u001b[0m\u001b[1;32m   1739\u001b[0m     \u001b[0;32mif\u001b[0m \u001b[0;34m(\u001b[0m\u001b[0mN\u001b[0m\u001b[0;34m==\u001b[0m\u001b[0;36m1\u001b[0m\u001b[0;34m)\u001b[0m\u001b[0;34m:\u001b[0m\u001b[0;34m\u001b[0m\u001b[0m\n\u001b[1;32m   1740\u001b[0m         \u001b[0;32mreturn\u001b[0m \u001b[0mB\u001b[0m\u001b[0;34m\u001b[0m\u001b[0m\n",
        "\u001b[0;31mValueError\u001b[0m: setting an array element with a sequence."
       ]
      }
     ],
     "prompt_number": 21
    },
    {
     "cell_type": "code",
     "collapsed": false,
     "input": [
      "imp.reload(ER)\n",
      "N = 2\n",
      "A = numpy.array([1.0, 2, 2, 2])\n",
      "B = numpy.empty((N * N, ))\n",
      "B = ER.MAINE(N, A, B)\n",
      "print(B)"
     ],
     "language": "python",
     "metadata": {},
     "outputs": [
      {
       "output_type": "stream",
       "stream": "stdout",
       "text": [
        "[-1.   1.   1.  -0.5]\n"
       ]
      }
     ],
     "prompt_number": 7
    },
    {
     "cell_type": "code",
     "collapsed": false,
     "input": [
      "A"
     ],
     "language": "python",
     "metadata": {},
     "outputs": [
      {
       "metadata": {},
       "output_type": "pyout",
       "prompt_number": 8,
       "text": [
        "array([ 1.,  2.,  2.,  2.])"
       ]
      }
     ],
     "prompt_number": 8
    },
    {
     "cell_type": "code",
     "collapsed": false,
     "input": [
      "N = 2\n",
      "A = numpy.array([7.0, -1, -1, 3])\n",
      "B = numpy.empty((N * N, ))\n",
      "B = ER.MAINE(N, A, B)\n",
      "print(B)"
     ],
     "language": "python",
     "metadata": {},
     "outputs": [
      {
       "output_type": "stream",
       "stream": "stdout",
       "text": [
        "[ 0.15  0.05  0.05  0.35]\n"
       ]
      }
     ],
     "prompt_number": 9
    },
    {
     "cell_type": "code",
     "collapsed": false,
     "input": [
      "A2 = numpy.array([[1.0, 2], [2, 2]])"
     ],
     "language": "python",
     "metadata": {},
     "outputs": [],
     "prompt_number": 10
    },
    {
     "cell_type": "code",
     "collapsed": false,
     "input": [
      "print(numpy.linalg.inv(A2))"
     ],
     "language": "python",
     "metadata": {},
     "outputs": [
      {
       "output_type": "stream",
       "stream": "stdout",
       "text": [
        "[[-1.   1. ]\n",
        " [ 1.  -0.5]]\n"
       ]
      }
     ],
     "prompt_number": 11
    },
    {
     "cell_type": "code",
     "collapsed": false,
     "input": [
      "print(A2)"
     ],
     "language": "python",
     "metadata": {},
     "outputs": [
      {
       "output_type": "stream",
       "stream": "stdout",
       "text": [
        "[[ 1.  2.]\n",
        " [ 2.  2.]]\n"
       ]
      }
     ],
     "prompt_number": 12
    },
    {
     "cell_type": "code",
     "collapsed": false,
     "input": [
      "B2 = numpy.array([[-1, 1], [1, -0.5]])"
     ],
     "language": "python",
     "metadata": {},
     "outputs": [],
     "prompt_number": 13
    },
    {
     "cell_type": "code",
     "collapsed": false,
     "input": [
      "print(B2)"
     ],
     "language": "python",
     "metadata": {},
     "outputs": [
      {
       "output_type": "stream",
       "stream": "stdout",
       "text": [
        "[[-1.   1. ]\n",
        " [ 1.  -0.5]]\n"
       ]
      }
     ],
     "prompt_number": 14
    },
    {
     "cell_type": "code",
     "collapsed": false,
     "input": [
      "print(A2.dot(B2))"
     ],
     "language": "python",
     "metadata": {},
     "outputs": [
      {
       "output_type": "stream",
       "stream": "stdout",
       "text": [
        "[[ 1.  0.]\n",
        " [ 0.  1.]]\n"
       ]
      }
     ],
     "prompt_number": 15
    },
    {
     "cell_type": "code",
     "collapsed": false,
     "input": [
      "N = 4\n",
      "A = numpy.array([2.0, 0, -1, 1, -1, 1, 1, 1, 1, 1, 1, 1, 2, 0, 1, 0])\n",
      "B = numpy.empty((N*N,))\n",
      "B = ER.MAINE(N, A, B)\n",
      "print(B)"
     ],
     "language": "python",
     "metadata": {},
     "outputs": [
      {
       "output_type": "stream",
       "stream": "stdout",
       "text": [
        "[ 0.16666667  0.33333333 -0.33333333  0.66666667  0.33333333  1.33333333\n",
        " -0.66666667  0.66666667 -0.33333333 -0.66666667  0.66666667 -0.33333333\n",
        "  0.66666667  0.66666667 -0.33333333 -0.16666667]\n"
       ]
      }
     ],
     "prompt_number": 16
    },
    {
     "cell_type": "code",
     "collapsed": false,
     "input": [],
     "language": "python",
     "metadata": {},
     "outputs": []
    }
   ],
   "metadata": {}
  }
 ]
}