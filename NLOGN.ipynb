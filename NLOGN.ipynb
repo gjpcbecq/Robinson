{
 "metadata": {
  "name": "",
  "signature": "sha256:8ef79a418982a04cd007d7e11ead519141cf20e67ad8e1eb7394355460da7afa"
 },
 "nbformat": 3,
 "nbformat_minor": 0,
 "worksheets": [
  {
   "cells": [
    {
     "cell_type": "code",
     "collapsed": false,
     "input": [
      "%pylab inline\n",
      "import sys\n",
      "# sys.path.append(\"/Users/becqg/Documents/code/Robinson\")\n",
      "sys.path.append(\"C:\\Users\\Guillaume\\Documents\\projets\\code\\Robinson\")\n",
      "import ER\n",
      "import imp"
     ],
     "language": "python",
     "metadata": {},
     "outputs": [
      {
       "output_type": "stream",
       "stream": "stdout",
       "text": [
        "Populating the interactive namespace from numpy and matplotlib\n"
       ]
      }
     ],
     "prompt_number": 1
    },
    {
     "cell_type": "heading",
     "level": 1,
     "metadata": {},
     "source": [
      "NLOGN"
     ]
    },
    {
     "cell_type": "code",
     "collapsed": false,
     "input": [
      "imp.reload(ER)\n",
      "X = numpy.array([1, 2, 3, 4])\n",
      "N = 2\n",
      "ER.NLOGN(N, X, 1.0)"
     ],
     "language": "python",
     "metadata": {},
     "outputs": [
      {
       "output_type": "stream",
       "stream": "stdout",
       "text": [
        "('LBLOCK', 4, 'LBHALF', 2)\n",
        "('FK', 0, 'WK', (1+0j))\n",
        "('J', 0, 'JH', 2, 'X[JH]', (3+0j))\n",
        "('J', 1, 'JH', 3, 'X[JH]', (4+0j))\n",
        "('LBLOCK', 2, 'LBHALF', 1)\n",
        "('FK', 0, 'WK', (1+0j))\n",
        "('J', 0, 'JH', 1, 'X[JH]', (6+0j))\n",
        "('FK', 1.0, 'WK', (0.7071067811865476+0.7071067811865475j))\n",
        "('J', 2, 'JH', 3, 'X[JH]', (-2+0j))\n",
        "('K', 0, 'X', array([ 10.00000000+0.j        ,  -2.00000000+0.j        ,\n",
        "        -3.41421356-1.41421356j,  -0.58578644+1.41421356j]))\n",
        "('K', 2.0, 'X', array([ 10.00000000+0.j        ,  -3.41421356-1.41421356j,\n",
        "        -2.00000000+0.j        ,  -0.58578644+1.41421356j]))\n",
        "('K', 3.0, 'X', array([ 10.00000000+0.j        ,  -3.41421356-1.41421356j,\n",
        "        -2.00000000+0.j        ,  -0.58578644+1.41421356j]))\n"
       ]
      },
      {
       "metadata": {},
       "output_type": "pyout",
       "prompt_number": 8,
       "text": [
        "array([ 2.50000000+0.j        , -0.85355339-0.35355339j,\n",
        "       -0.50000000+0.j        , -0.14644661+0.35355339j])"
       ]
      }
     ],
     "prompt_number": 8
    },
    {
     "cell_type": "code",
     "collapsed": false,
     "input": [],
     "language": "python",
     "metadata": {},
     "outputs": []
    }
   ],
   "metadata": {}
  }
 ]
}