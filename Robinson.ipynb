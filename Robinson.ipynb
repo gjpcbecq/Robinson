{
 "metadata": {
  "name": "",
  "signature": "sha256:38cd59ed83a15d2833e86e844b7f2a39abf1cb47d5d6769b33f8a4a09dad28f1"
 },
 "nbformat": 3,
 "nbformat_minor": 0,
 "worksheets": [
  {
   "cells": [
    {
     "cell_type": "code",
     "collapsed": false,
     "input": [
      "%pylab inline\n",
      "import sys\n",
      "# sys.path.append(\"/Users/becqg/Documents/code/Robinson\")\n",
      "sys.path.append(\"C:\\Users\\Guillaume\\Documents\\projets\\code\\Robinson\")\n",
      "import ER\n",
      "import imp"
     ],
     "language": "python",
     "metadata": {},
     "outputs": [
      {
       "output_type": "stream",
       "stream": "stdout",
       "text": [
        "Populating the interactive namespace from numpy and matplotlib\n"
       ]
      }
     ],
     "prompt_number": 1
    },
    {
     "cell_type": "markdown",
     "metadata": {},
     "source": [
      "<h2> ATAN2 </h2>"
     ]
    },
    {
     "cell_type": "code",
     "collapsed": false,
     "input": [
      "imp.reload(ER)\n",
      "print(ER.ATAN2(1, 0))\n",
      "print(ER.ATAN2(1, 1))\n",
      "print(ER.ATAN2(0, 1))\n",
      "print(ER.ATAN2(-1, 1))\n",
      "print(ER.ATAN2(-1, 0))\n",
      "print(ER.ATAN2(-1, -1))\n",
      "print(ER.ATAN2(0, -1))\n",
      "print(ER.ATAN2(1, -1))\n",
      "print(ER.ATAN2(0, 0))"
     ],
     "language": "python",
     "metadata": {},
     "outputs": [
      {
       "output_type": "stream",
       "stream": "stdout",
       "text": [
        "1.57079632679\n",
        "0.785398163397\n",
        "0\n",
        "-0.785398163397\n",
        "-1.57079632679\n",
        "-2.35619449019\n",
        "-3.14159265359\n",
        "2.35619449019\n",
        "1.57079632679\n"
       ]
      }
     ],
     "prompt_number": 6
    },
    {
     "cell_type": "code",
     "collapsed": false,
     "input": [
      "help(ER.ATAN2)"
     ],
     "language": "python",
     "metadata": {},
     "outputs": [
      {
       "output_type": "stream",
       "stream": "stdout",
       "text": [
        "Help on function ATAN2 in module ER:\n",
        "\n",
        "ATAN2(Y, X)\n",
        "    Description:\n",
        "    ATAN2(Y,X) computes the arctangent of the complex number X + i Y. \n",
        "    Option:\n",
        "    f95, gnu \n",
        "    Class:\n",
        "    elemental function \n",
        "    Syntax:\n",
        "    X = ATAN2(Y,X) \n",
        "    Arguments:\n",
        "    Y       The type shall be REAL(*). \n",
        "    X       The type and kind type parameter shall be the same as Y. If Y is zero, then X must be nonzero. \n",
        "    \n",
        "    \n",
        "    Return value:\n",
        "    The return value has the same type and kind type parameter as Y. It is the principle value of the complex number X + i Y. If X is nonzero, then it lies in the range -\\pi \\le \u0007rccos (x) \\leq \\pi. The sign is positive if Y is positive. If Y is zero, then the return value is zero if X is positive and \\pi if X is negative. Finally, if X is zero, then the magnitude of the result is \\pi/2. \n",
        "    Example:\n",
        "              program test_atan2\n",
        "                real(4) :: x = 1.e0_4, y = 0.5e0_4\n",
        "                x = atan2(y,x)\n",
        "              end program test_atan2\n",
        "         \n",
        "        \n",
        "        ATAN2(0, 0) = not defined\n",
        "        ATAN2(1, 0) = 0 \n",
        "        ATAN2(0, 1) = pi / 2 = 1.57\n",
        "        ATAN2(-1, 0) = pi = 3.14\n",
        "        ATAN2(0, -1) = -pi / 2 = -1.57\n",
        "\n"
       ]
      }
     ],
     "prompt_number": 119
    },
    {
     "cell_type": "code",
     "collapsed": false,
     "input": [
      "imp.reload(ER)\n",
      "X = numpy.arange(1, 11)\n",
      "Y = ER.ZERO(10)\n",
      "print(Y)\n",
      "print(X)\n",
      "X2 = ER.MOVE(4, X, 1, X, 3)\n",
      "print(X2)"
     ],
     "language": "python",
     "metadata": {},
     "outputs": [
      {
       "output_type": "stream",
       "stream": "stdout",
       "text": [
        "[ 0.  0.  0.  0.  0.  0.  0.  0.  0.  0.]\n",
        "[ 1  2  3  4  5  6  7  8  9 10]\n",
        "[ 1  2  3  2  3  2  3  8  9 10]\n"
       ]
      }
     ],
     "prompt_number": 84
    },
    {
     "cell_type": "code",
     "collapsed": false,
     "input": [
      "imp.reload(ER)\n",
      "ER.DOT(10, X, X) "
     ],
     "language": "python",
     "metadata": {},
     "outputs": [
      {
       "metadata": {},
       "output_type": "pyout",
       "prompt_number": 76,
       "text": [
        "313.0"
       ]
      }
     ],
     "prompt_number": 76
    },
    {
     "cell_type": "code",
     "collapsed": false,
     "input": [
      "numpy.min((2, -1))"
     ],
     "language": "python",
     "metadata": {},
     "outputs": [
      {
       "metadata": {},
       "output_type": "pyout",
       "prompt_number": 68,
       "text": [
        "-1"
       ]
      }
     ],
     "prompt_number": 68
    },
    {
     "cell_type": "code",
     "collapsed": false,
     "input": [
      "imp.reload(ER)\n",
      "G = ER.ZERO(10)\n",
      "G = ER.CROSS(10, X, 10, X, 10)\n",
      "print(G)"
     ],
     "language": "python",
     "metadata": {},
     "outputs": [
      {
       "output_type": "stream",
       "stream": "stdout",
       "text": [
        "[ 285.  218.  152.   92.   79.   80.   66.   56.   29.   10.]\n"
       ]
      }
     ],
     "prompt_number": 86
    },
    {
     "cell_type": "code",
     "collapsed": false,
     "input": [
      "imp.reload(ER)"
     ],
     "language": "python",
     "metadata": {},
     "outputs": [
      {
       "metadata": {},
       "output_type": "pyout",
       "prompt_number": 88,
       "text": [
        "<module 'ER' from 'ER.pyc'>"
       ]
      }
     ],
     "prompt_number": 88
    },
    {
     "cell_type": "code",
     "collapsed": false,
     "input": [
      "X = ER.sunspot_X"
     ],
     "language": "python",
     "metadata": {},
     "outputs": [],
     "prompt_number": 89
    },
    {
     "cell_type": "code",
     "collapsed": false,
     "input": [
      "Z = X.reshape((3, 100))"
     ],
     "language": "python",
     "metadata": {},
     "outputs": [],
     "prompt_number": 90
    },
    {
     "cell_type": "code",
     "collapsed": false,
     "input": [
      "print(mean(Z[0, :]), mean(Z[1, :]), mean(Z[2, :]))"
     ],
     "language": "python",
     "metadata": {},
     "outputs": [
      {
       "output_type": "stream",
       "stream": "stdout",
       "text": [
        "(46.939999999999998, 63.43, 97.969999999999999)\n"
       ]
      }
     ],
     "prompt_number": 91
    },
    {
     "cell_type": "code",
     "collapsed": false,
     "input": [
      "N = 3\n",
      "LX = 100\n",
      "L = 10 "
     ],
     "language": "python",
     "metadata": {},
     "outputs": [],
     "prompt_number": 92
    },
    {
     "cell_type": "code",
     "collapsed": false,
     "input": [
      "imp.reload(ER)\n",
      "L = 4\n",
      "R = numpy.zeros((5, ))\n",
      "R = ER.ZERO(10)\n",
      "R = ER.MACRO(N, LX, X, LX, X, L)\n",
      "print(R)"
     ],
     "language": "python",
     "metadata": {},
     "outputs": [
      {
       "output_type": "stream",
       "stream": "stdout",
       "text": [
        "[ 138375.64    111583.7764   59239.2728    9586.5292   82162.58\n",
        "   57385.6958   34870.4216   21131.8474  -10475.18    -21082.0718\n",
        "  -14959.6136   -3891.4954   82162.58     80203.0058   61581.7416\n",
        "   42512.3774  264368.51    185153.0951  109748.1802   76127.3753\n",
        "   13704.29     20338.1329   49482.4958   53655.9687  -10475.18\n",
        "    5460.8582    8307.9664    7368.4146   13704.29     23665.3129\n",
        "   27971.3458  -13082.1513  197842.91     -3031.3009   -4835.1418\n",
        "    1118.3273]\n"
       ]
      }
     ],
     "prompt_number": 99
    },
    {
     "cell_type": "code",
     "collapsed": false,
     "input": [
      "imp.reload(ER)\n",
      "X0 = ER.sunspot_X.astype('float')\n",
      "X = numpy.zeros((300, ))\n",
      "for i in range(3): \n",
      "    I1 = i * 100\n",
      "    I2 = (i + 1) * 100 \n",
      "    (X[I1:I2], AVERAG) = ER.REMAV(100, X0[I1:I2])\n",
      "    print(AVERAG)\n",
      "print(numpy.round(X, 2))"
     ],
     "language": "python",
     "metadata": {},
     "outputs": [
      {
       "output_type": "stream",
       "stream": "stdout",
       "text": [
        "46.94\n",
        "63.43\n",
        "97.97\n",
        "[  5.40600000e+01   3.50600000e+01   1.90600000e+01  -1.19400000e+01\n",
        "  -1.59400000e+01  -3.99400000e+01  -2.69400000e+01   4.50600000e+01\n",
        "   1.07060000e+02   7.90600000e+01   3.80600000e+01   2.10600000e+01\n",
        "  -8.94000000e+00  -2.39400000e+01  -3.69400000e+01  -2.29400000e+01\n",
        "   3.60600000e+01   8.50600000e+01   8.40600000e+01   7.10600000e+01\n",
        "   4.30600000e+01   2.00600000e+01   1.30600000e+01   6.00000000e-02\n",
        "  -5.94000000e+00  -2.59400000e+01  -3.09400000e+01  -4.09400000e+01\n",
        "  -4.29400000e+01  -3.99400000e+01  -3.29400000e+01  -1.29400000e+01\n",
        "  -1.94000000e+00  -3.94000000e+00   1.06000000e+00  -4.94000000e+00\n",
        "  -1.89400000e+01  -3.69400000e+01  -3.89400000e+01  -4.49400000e+01\n",
        "  -4.69400000e+01  -4.59400000e+01  -4.19400000e+01  -3.49400000e+01\n",
        "  -3.29400000e+01  -1.19400000e+01  -9.40000000e-01  -5.94000000e+00\n",
        "  -1.69400000e+01  -2.29400000e+01  -3.09400000e+01  -3.99400000e+01\n",
        "  -4.29400000e+01  -4.49400000e+01  -3.89400000e+01  -2.99400000e+01\n",
        "  -1.09400000e+01   3.06000000e+00   1.50600000e+01   2.00600000e+01\n",
        "   2.40600000e+01   1.06000000e+00  -1.89400000e+01  -3.89400000e+01\n",
        "  -3.39400000e+01   1.00600000e+01   7.50600000e+01   9.10600000e+01\n",
        "   5.60600000e+01   3.90600000e+01   1.60600000e+01  -9.94000000e+00\n",
        "  -2.29400000e+01  -3.59400000e+01  -3.19400000e+01  -6.94000000e+00\n",
        "   1.50600000e+01   5.10600000e+01   7.70600000e+01   4.90600000e+01\n",
        "   1.90600000e+01   1.70600000e+01   7.06000000e+00  -7.94000000e+00\n",
        "  -2.59400000e+01  -3.99400000e+01  -4.29400000e+01  -2.39400000e+01\n",
        "   8.06000000e+00   4.70600000e+01   4.90600000e+01   3.00600000e+01\n",
        "   1.20600000e+01  -2.94000000e+00   6.00000000e-02  -1.69400000e+01\n",
        "  -3.09400000e+01  -3.99400000e+01  -9.94000000e+00   2.70600000e+01\n",
        "   9.15700000e+01   4.95700000e+01  -6.04300000e+01  -5.34300000e+01\n",
        "  -6.34300000e+01  -6.34300000e+01  -5.14300000e+01   2.25700000e+01\n",
        "   3.85700000e+01  -4.34300000e+01   3.45700000e+01   5.25700000e+01\n",
        "   2.35700000e+01   6.75700000e+01   1.04570000e+02   1.09570000e+02\n",
        "   1.74570000e+02   8.25700000e+01  -6.34300000e+01  -6.34300000e+01\n",
        "  -6.34300000e+01  -6.34300000e+01  -5.14300000e+01  -6.34300000e+01\n",
        "  -2.64300000e+01  -4.94300000e+01  -5.24300000e+01  -3.54300000e+01\n",
        "  -4.44300000e+01  -3.34300000e+01  -5.24300000e+01  -3.74300000e+01\n",
        "  -6.34300000e+01  -3.44300000e+01  -1.64300000e+01  -2.74300000e+01\n",
        "  -2.84300000e+01  -4.64300000e+01  -6.34300000e+01  -6.04300000e+01\n",
        "  -5.74300000e+01  -4.54300000e+01  -4.84300000e+01  -6.34300000e+01\n",
        "  -6.04300000e+01  -5.44300000e+01   5.70000000e-01   6.25700000e+01\n",
        "  -2.54300000e+01  -3.04300000e+01   7.57000000e+00  -3.94300000e+01\n",
        "  -4.34300000e+01  -4.14300000e+01  -5.04300000e+01  -2.84300000e+01\n",
        "   2.05700000e+01   5.55700000e+01   2.25700000e+01   7.57000000e+00\n",
        "   5.15700000e+01   2.75700000e+01  -2.04300000e+01   3.57000000e+00\n",
        "  -3.43000000e+00  -1.44300000e+01   3.65700000e+01   8.65700000e+01\n",
        "   1.14570000e+02   1.23570000e+02   1.25700000e+01   1.15700000e+01\n",
        "   3.65700000e+01   4.57000000e+00   2.95700000e+01  -4.34300000e+01\n",
        "  -1.24300000e+01   8.57000000e+00   5.45700000e+01   8.25700000e+01\n",
        "   3.75700000e+01  -2.43000000e+00   2.35700000e+01  -1.04300000e+01\n",
        "   5.57000000e+00  -1.74300000e+01  -1.64300000e+01  -2.84300000e+01\n",
        "   1.05700000e+01   4.05700000e+01   3.35700000e+01   4.25700000e+01\n",
        "   4.95700000e+01   3.95700000e+01   4.57000000e+00   3.57000000e+00\n",
        "   1.85700000e+01   2.55700000e+01   3.85700000e+01   4.65700000e+01\n",
        "  -3.19700000e+01  -3.59700000e+01  -3.19700000e+01   9.90300000e+01\n",
        "  -3.49700000e+01  -9.79700000e+01   2.30300000e+01  -9.79700000e+01\n",
        "   1.50300000e+01  -7.09700000e+01   9.03000000e+00  -4.79700000e+01\n",
        "   2.40300000e+01   2.90300000e+01   5.40300000e+01   1.18030000e+02\n",
        "   7.30300000e+01  -2.79700000e+01   4.30300000e+01  -2.89700000e+01\n",
        "   6.20300000e+01  -5.97000000e+00  -2.79700000e+01  -5.19700000e+01\n",
        "  -1.97000000e+00  -1.99700000e+01   1.20300000e+01  -1.89700000e+01\n",
        "  -1.29700000e+01   1.50300000e+01  -3.89700000e+01  -1.19700000e+01\n",
        "   1.01030000e+02  -4.49700000e+01  -1.69700000e+01  -1.69700000e+01\n",
        "   5.80300000e+01  -7.09700000e+01  -1.69700000e+01   9.03000000e+00\n",
        "   5.40300000e+01   1.03000000e+00   7.90300000e+01  -4.99700000e+01\n",
        "  -2.79700000e+01   6.00300000e+01  -7.59700000e+01  -5.49700000e+01\n",
        "   4.03000000e+00   1.30300000e+01  -7.97000000e+00  -1.19700000e+01\n",
        "   2.10300000e+01  -1.59700000e+01  -1.89700000e+01   1.30300000e+01\n",
        "  -3.79700000e+01   2.00300000e+01   1.08030000e+02   2.40300000e+01\n",
        "   3.60300000e+01   3.30300000e+01  -1.39700000e+01   2.03000000e+00\n",
        "   1.03000000e+00   1.03000000e+00  -2.89700000e+01  -3.09700000e+01\n",
        "  -7.19700000e+01   8.03000000e+00   1.00300000e+01   5.70300000e+01\n",
        "  -5.79700000e+01  -2.29700000e+01   1.03000000e+00  -1.19700000e+01\n",
        "   2.90300000e+01   1.03030000e+02  -2.19700000e+01  -3.39700000e+01\n",
        "  -6.69700000e+01   4.00300000e+01   6.50300000e+01   3.00000000e-02\n",
        "  -2.79700000e+01   5.70300000e+01  -9.70000000e-01  -1.59700000e+01\n",
        "  -7.97000000e+00   2.40300000e+01  -2.79700000e+01  -1.97000000e+00\n",
        "   1.30300000e+01  -5.59700000e+01  -9.70000000e-01  -6.97000000e+00\n",
        "  -3.39700000e+01  -1.69700000e+01   6.40300000e+01   3.90300000e+01]\n"
       ]
      }
     ],
     "prompt_number": 26
    },
    {
     "cell_type": "code",
     "collapsed": false,
     "input": [
      "N = 3\n",
      "L = 10\n",
      "LX = 100\n",
      "imp.reload(ER)\n",
      "G = ER.MACRO(N, LX, X, LX, X, L)"
     ],
     "language": "python",
     "metadata": {},
     "outputs": [],
     "prompt_number": 115
    },
    {
     "cell_type": "code",
     "collapsed": false,
     "input": [
      "for i in range(L*N*N): \n",
      "    if (mod(i, 10)==0): \n",
      "        print(\"\\n\")\n",
      "    print(G[i])\n"
     ],
     "language": "python",
     "metadata": {},
     "outputs": [
      {
       "output_type": "stream",
       "stream": "stdout",
       "text": [
        "\n",
        "\n",
        "138375.64\n",
        "111583.7764\n",
        "59239.2728\n",
        "9586.5292\n",
        "-23480.8944\n",
        "-36839.918\n",
        "-29301.5216\n",
        "-5983.7252\n",
        "22739.8512\n",
        "45819.6276\n",
        "\n",
        "\n",
        "82162.58\n",
        "57385.6958\n",
        "34870.4216\n",
        "21131.8474\n",
        "6977.7232\n",
        "4816.219\n",
        "13360.0248\n",
        "22951.8206\n",
        "19930.6264\n",
        "5917.2122\n",
        "\n",
        "\n",
        "-10475.18\n",
        "-21082.0718\n",
        "-14959.6136\n",
        "-3891.4954\n",
        "3138.4928\n",
        "-1121.899\n",
        "4226.9792\n",
        "9333.6874\n",
        "12473.2056\n",
        "3470.4038\n",
        "\n",
        "\n",
        "82162.58\n",
        "80203.0058\n",
        "61581.7416\n",
        "42512.3774\n",
        "22924.1032\n",
        "13644.009\n",
        "23779.5348\n",
        "44590.5506\n",
        "66691.9264\n",
        "84172.3822\n",
        "\n",
        "\n",
        "264368.51\n",
        "185153.0951\n",
        "109748.1802\n",
        "76127.3753\n",
        "32662.5704\n",
        "18126.0155\n",
        "15198.8906\n",
        "11155.9757\n",
        "10963.1808\n",
        "19194.2559\n",
        "\n",
        "\n",
        "13704.29\n",
        "20338.1329\n",
        "49482.4958\n",
        "53655.9687\n",
        "18581.9816\n",
        "21326.8245\n",
        "-13912.4526\n",
        "-8638.7497\n",
        "9491.6232\n",
        "-16274.2039\n",
        "\n",
        "\n",
        "-10475.18\n",
        "5460.8582\n",
        "8307.9664\n",
        "7368.4146\n",
        "19236.8128\n",
        "26883.711\n",
        "22032.9692\n",
        "20742.1374\n",
        "11450.0056\n",
        "-7236.0862\n",
        "\n",
        "\n",
        "13704.29\n",
        "23665.3129\n",
        "27971.3458\n",
        "-13082.1513\n",
        "-22132.1684\n",
        "-17065.2755\n",
        "-44741.8026\n",
        "-14862.3397\n",
        "4896.5732\n",
        "-11933.4439\n",
        "\n",
        "\n",
        "197842.91\n",
        "-3031.3009\n",
        "-4835.1418\n",
        "1118.3273\n",
        "8257.3764\n",
        "-18530.3645\n",
        "8233.6046\n",
        "-17112.4063\n",
        "-24421.8572\n",
        "-34044.2481\n"
       ]
      }
     ],
     "prompt_number": 116
    },
    {
     "cell_type": "code",
     "collapsed": false,
     "input": [
      "imp.reload(ER)\n",
      "m = 3\n",
      "M = m + 1\n",
      "costab1 = ER.COSTAB(M)\n",
      "sintab1 = ER.SINTAB(M)\n",
      "print(costab1)\n",
      "print(sintab1)"
     ],
     "language": "python",
     "metadata": {},
     "outputs": [
      {
       "output_type": "stream",
       "stream": "stdout",
       "text": [
        "[ 1.   0.5 -0.5 -1.  -0.5  0.5  1. ]\n",
        "[  0.00000000e+00   8.66025404e-01   8.66025404e-01   1.22464680e-16\n",
        "  -8.66025404e-01  -8.66025404e-01  -2.44929360e-16]\n"
       ]
      }
     ],
     "prompt_number": 10
    },
    {
     "cell_type": "code",
     "collapsed": false,
     "input": [
      "sin(pi / 3)"
     ],
     "language": "python",
     "metadata": {},
     "outputs": [
      {
       "metadata": {},
       "output_type": "pyout",
       "prompt_number": 11,
       "text": [
        "0.8660254037844386"
       ]
      }
     ],
     "prompt_number": 11
    },
    {
     "cell_type": "code",
     "collapsed": false,
     "input": [
      "imp.reload(ER)\n",
      "m = 3\n",
      "M = m + 1\n",
      "TABLE = ER.COSTAB(M)\n",
      "n = 2\n",
      "N = n + 1\n",
      "DATA = numpy.array([1., 1. , 1.])\n",
      "# DATA = numpy.ones((200, ))\n",
      "C = numpy.zeros((m + 1, ))\n",
      "for k in range(M):\n",
      "    K = k + 1\n",
      "    C[k] = ER.COSP(N, DATA, TABLE, M, K)\n",
      "print(C)"
     ],
     "language": "python",
     "metadata": {},
     "outputs": [
      {
       "output_type": "stream",
       "stream": "stdout",
       "text": [
        "(0, 0, 0, 7)\n",
        "(1, 0, 0, 7)\n",
        "(2, 0, 0, 7)\n",
        "(0, 0, 1, 7)\n",
        "(1, 1, 1, 7)\n",
        "(2, 2, 1, 7)\n",
        "(0, 0, 2, 7)\n",
        "(1, 2, 2, 7)\n",
        "(2, 4, 2, 7)\n",
        "(0, 0, 3, 7)\n",
        "(1, 3, 3, 7)\n",
        "(2, 6, 3, 7)\n",
        "[  3.00000000e+00   1.00000000e+00  -2.22044605e-16   1.00000000e+00]\n"
       ]
      }
     ],
     "prompt_number": 54
    },
    {
     "cell_type": "code",
     "collapsed": false,
     "input": [
      "for i in range(1, 2 * M + 3): \n",
      "    print(ER.COSP(N, DATA, TABLE, M, i))\n"
     ],
     "language": "python",
     "metadata": {},
     "outputs": [
      {
       "output_type": "stream",
       "stream": "stdout",
       "text": [
        "(0, 0, 0, 7)\n",
        "(1, 0, 0, 7)\n",
        "(2, 0, 0, 7)\n",
        "3.0\n",
        "(0, 0, 1, 7)\n",
        "(1, 1, 1, 7)\n",
        "(2, 2, 1, 7)\n",
        "1.0\n",
        "(0, 0, 2, 7)\n",
        "(1, 2, 2, 7)\n",
        "(2, 4, 2, 7)\n",
        "-2.22044604925e-16\n",
        "(0, 0, 3, 7)\n",
        "(1, 3, 3, 7)\n",
        "(2, 6, 3, 7)\n",
        "1.0\n",
        "(0, 0, 4, 7)\n",
        "(1, 4, 4, 7)\n",
        "(2, 2, 4, 7)\n",
        "-2.22044604925e-16\n",
        "(0, 0, 5, 7)\n",
        "(1, 5, 5, 7)\n",
        "(2, 4, 5, 7)\n",
        "1.0\n",
        "(0, 0, 6, 7)\n",
        "(1, 6, 6, 7)\n",
        "(2, 6, 6, 7)\n",
        "3.0\n",
        "(0, 0, 7, 7)\n",
        "(1, 1, 7, 7)\n",
        "(2, 2, 7, 7)\n",
        "1.0\n",
        "(0, 0, 8, 7)\n",
        "(1, 2, 8, 7)\n",
        "(2, 4, 8, 7)\n",
        "-2.22044604925e-16\n",
        "(0, 0, 9, 7)\n",
        "(1, 3, 9, 7)\n",
        "(2, 6, 9, 7)\n",
        "1.0\n"
       ]
      }
     ],
     "prompt_number": 55
    },
    {
     "cell_type": "code",
     "collapsed": false,
     "input": [
      "imp.reload(ER)\n",
      "N = 2\n",
      "L = 2\n",
      "R = numpy.array([7., -2, -1, 1, -1, -2, 3, 1])\n",
      "S = ER.QUADCO(L, N, R)\n",
      "print(S)"
     ],
     "language": "python",
     "metadata": {},
     "outputs": [
      {
       "output_type": "stream",
       "stream": "stdout",
       "text": [
        "[  5.00000000e+00   9.00000000e+00   0.00000000e+00  -1.83697020e-16\n",
        "  -1.50000000e+00  -5.00000000e-01   4.00000000e+00   2.00000000e+00]\n"
       ]
      }
     ],
     "prompt_number": 22
    },
    {
     "cell_type": "code",
     "collapsed": false,
     "input": [
      "imp.reload(ER)\n",
      "\n",
      "N = 3\n",
      "L = 10\n",
      "LX = 100\n",
      "R = ER.MACRO(N, LX, X, LX, X, L)\n",
      "S = ER.QUADCO(L, N, R)\n",
      "print(S.reshape((N * N, L)))"
     ],
     "language": "python",
     "metadata": {},
     "outputs": [
      {
       "ename": "NameError",
       "evalue": "name 'X' is not defined",
       "output_type": "pyerr",
       "traceback": [
        "\u001b[0;31m---------------------------------------------------------------------------\u001b[0m\n\u001b[0;31mNameError\u001b[0m                                 Traceback (most recent call last)",
        "\u001b[0;32m<ipython-input-17-22bccedef5ca>\u001b[0m in \u001b[0;36m<module>\u001b[0;34m()\u001b[0m\n\u001b[1;32m      4\u001b[0m \u001b[0mL\u001b[0m \u001b[0;34m=\u001b[0m \u001b[0;36m10\u001b[0m\u001b[0;34m\u001b[0m\u001b[0m\n\u001b[1;32m      5\u001b[0m \u001b[0mLX\u001b[0m \u001b[0;34m=\u001b[0m \u001b[0;36m100\u001b[0m\u001b[0;34m\u001b[0m\u001b[0m\n\u001b[0;32m----> 6\u001b[0;31m \u001b[0mR\u001b[0m \u001b[0;34m=\u001b[0m \u001b[0mER\u001b[0m\u001b[0;34m.\u001b[0m\u001b[0mMACRO\u001b[0m\u001b[0;34m(\u001b[0m\u001b[0mN\u001b[0m\u001b[0;34m,\u001b[0m \u001b[0mLX\u001b[0m\u001b[0;34m,\u001b[0m \u001b[0mX\u001b[0m\u001b[0;34m,\u001b[0m \u001b[0mLX\u001b[0m\u001b[0;34m,\u001b[0m \u001b[0mX\u001b[0m\u001b[0;34m,\u001b[0m \u001b[0mL\u001b[0m\u001b[0;34m)\u001b[0m\u001b[0;34m\u001b[0m\u001b[0m\n\u001b[0m\u001b[1;32m      7\u001b[0m \u001b[0mS\u001b[0m \u001b[0;34m=\u001b[0m \u001b[0mER\u001b[0m\u001b[0;34m.\u001b[0m\u001b[0mQUADCO\u001b[0m\u001b[0;34m(\u001b[0m\u001b[0mL\u001b[0m\u001b[0;34m,\u001b[0m \u001b[0mN\u001b[0m\u001b[0;34m,\u001b[0m \u001b[0mR\u001b[0m\u001b[0;34m)\u001b[0m\u001b[0;34m\u001b[0m\u001b[0m\n\u001b[1;32m      8\u001b[0m \u001b[0;32mprint\u001b[0m\u001b[0;34m(\u001b[0m\u001b[0mS\u001b[0m\u001b[0;34m.\u001b[0m\u001b[0mreshape\u001b[0m\u001b[0;34m(\u001b[0m\u001b[0;34m(\u001b[0m\u001b[0mN\u001b[0m \u001b[0;34m*\u001b[0m \u001b[0mN\u001b[0m\u001b[0;34m,\u001b[0m \u001b[0mL\u001b[0m\u001b[0;34m)\u001b[0m\u001b[0;34m)\u001b[0m\u001b[0;34m)\u001b[0m\u001b[0;34m\u001b[0m\u001b[0m\n",
        "\u001b[0;31mNameError\u001b[0m: name 'X' is not defined"
       ]
      }
     ],
     "prompt_number": 17
    },
    {
     "cell_type": "code",
     "collapsed": false,
     "input": [
      "plot(S)"
     ],
     "language": "python",
     "metadata": {},
     "outputs": [
      {
       "metadata": {},
       "output_type": "pyout",
       "prompt_number": 41,
       "text": [
        "[<matplotlib.lines.Line2D at 0x10e4e2610>]"
       ]
      },
      {
       "metadata": {},
       "output_type": "display_data",
       "png": "[encoded data removed]",
       "text": [
        "<matplotlib.figure.Figure at 0x10e4a83d0>"
       ]
      }
     ],
     "prompt_number": 41
    },
    {
     "cell_type": "code",
     "collapsed": false,
     "input": [
      "imp.reload(ER)\n",
      "Y = X.copy()\n",
      "Y = ER.NORMAG(300, Y[0:])"
     ],
     "language": "python",
     "metadata": {},
     "outputs": [],
     "prompt_number": 42
    },
    {
     "cell_type": "code",
     "collapsed": false,
     "input": [
      "plot(Y)"
     ],
     "language": "python",
     "metadata": {},
     "outputs": [
      {
       "metadata": {},
       "output_type": "pyout",
       "prompt_number": 43,
       "text": [
        "[<matplotlib.lines.Line2D at 0x10e5690d0>]"
       ]
      },
      {
       "metadata": {},
       "output_type": "display_data",
       "png": "[encoded data removed]",
       "text": [
        "<matplotlib.figure.Figure at 0x10e4e7b50>"
       ]
      }
     ],
     "prompt_number": 43
    },
    {
     "cell_type": "code",
     "collapsed": false,
     "input": [
      "imp.reload(ER)\n",
      "N = 2\n",
      "L = 2\n",
      "S = numpy.array([5., 9, 0.0, -0.0, -1.5, -0.5, 4, 2])\n",
      "C = ER.COHERE(L, N, S)\n",
      "print(C)\n",
      "ER.plotCohere(L, N, C)"
     ],
     "language": "python",
     "metadata": {},
     "outputs": [
      {
       "output_type": "stream",
       "stream": "stdout",
       "text": [
        "(2.25, 20.0, 0.33541019662496846, -3.141592653589793)\n",
        "(0.25, 18.0, 0.11785113019775792, -3.141592653589793)\n",
        "[  5.55555556e-01   1.00000000e+00  -1.80000000e+02  -1.80000000e+02\n",
        "   3.35410197e-01   1.17851130e-01   1.00000000e+00   5.00000000e-01]\n"
       ]
      },
      {
       "metadata": {},
       "output_type": "display_data",
       "png": "[encoded data removed]",
       "text": [
        "<matplotlib.figure.Figure at 0x10e3104d0>"
       ]
      }
     ],
     "prompt_number": 24
    },
    {
     "cell_type": "code",
     "collapsed": false,
     "input": [
      "A = numpy.array([1, 2, 3, 4, 5, 6, 7, 8, 9])\n",
      "B = numpy.array([1, 2, 3, 4, 5])\n",
      "A = ER.MOVE(3, B, 1, A, 3)"
     ],
     "language": "python",
     "metadata": {},
     "outputs": [],
     "prompt_number": 69
    },
    {
     "cell_type": "code",
     "collapsed": false,
     "input": [
      "print(A)"
     ],
     "language": "python",
     "metadata": {},
     "outputs": [
      {
       "output_type": "stream",
       "stream": "stdout",
       "text": [
        "[1 2 3 2 3 4 7 8 9]\n"
       ]
      }
     ],
     "prompt_number": 70
    },
    {
     "cell_type": "code",
     "collapsed": false,
     "input": [
      "imp.reload(ER)\n",
      "N = 3\n",
      "L = 10\n",
      "LX = 100\n",
      "R = ER.MACRO(N, LX, X, LX, X, L)\n",
      "print(R)\n",
      "S = ER.QUADCO(L, N, R.copy())\n",
      "C = ER.COHERE(L, N, S.copy())"
     ],
     "language": "python",
     "metadata": {},
     "outputs": [
      {
       "output_type": "stream",
       "stream": "stdout",
       "text": [
        "[ 138375.64    111583.7764   59239.2728    9586.5292  -23480.8944\n",
        "  -36839.918   -29301.5216   -5983.7252   22739.8512   45819.6276\n",
        "   82162.58     57385.6958   34870.4216   21131.8474    6977.7232\n",
        "    4816.219    13360.0248   22951.8206   19930.6264    5917.2122\n",
        "  -10475.18    -21082.0718  -14959.6136   -3891.4954    3138.4928\n",
        "   -1121.899     4226.9792    9333.6874   12473.2056    3470.4038\n",
        "   82162.58     80203.0058   61581.7416   42512.3774   22924.1032\n",
        "   13644.009    23779.5348   44590.5506   66691.9264   84172.3822\n",
        "  264368.51    185153.0951  109748.1802   76127.3753   32662.5704\n",
        "   18126.0155   15198.8906   11155.9757   10963.1808   19194.2559\n",
        "   13704.29     20338.1329   49482.4958   53655.9687   18581.9816\n",
        "   21326.8245  -13912.4526   -8638.7497    9491.6232  -16274.2039\n",
        "  -10475.18      5460.8582    8307.9664    7368.4146   19236.8128\n",
        "   26883.711    22032.9692   20742.1374   11450.0056   -7236.0862\n",
        "   13704.29     23665.3129   27971.3458  -13082.1513  -22132.1684\n",
        "  -17065.2755  -44741.8026  -14862.3397    4896.5732  -11933.4439\n",
        "  197842.91     -3031.3009   -4835.1418    1118.3273    8257.3764\n",
        "  -18530.3645    8233.6046  -17112.4063  -24421.8572  -34044.2481]\n"
       ]
      }
     ],
     "prompt_number": 32
    },
    {
     "cell_type": "code",
     "collapsed": false,
     "input": [
      "print(numpy.round(C.reshape(9, 10), 2))"
     ],
     "language": "python",
     "metadata": {},
     "outputs": [
      {
       "output_type": "stream",
       "stream": "stdout",
       "text": [
        "[[  9.20000000e-01   1.00000000e+00   9.60000000e-01   3.30000000e-01\n",
        "    1.30000000e-01   7.00000000e-02   5.00000000e-02   2.00000000e-02\n",
        "    3.00000000e-02   2.00000000e-02]\n",
        " [  0.00000000e+00   1.40800000e+01   1.15700000e+01   3.06700000e+01\n",
        "    1.27100000e+01   2.84800000e+01   4.08000000e+00   2.37200000e+01\n",
        "   -1.01400000e+01  -0.00000000e+00]\n",
        " [  0.00000000e+00   1.26120000e+02   1.48590000e+02   1.03400000e+02\n",
        "    9.41600000e+01   8.04300000e+01   1.54510000e+02  -1.49720000e+02\n",
        "    1.09410000e+02  -0.00000000e+00]\n",
        " [  6.90000000e-01   4.40000000e-01   3.90000000e-01   4.20000000e-01\n",
        "    1.80000000e-01   4.70000000e-01   4.10000000e-01   3.50000000e-01\n",
        "    3.50000000e-01   1.80000000e-01]\n",
        " [  1.00000000e+00   7.80000000e-01   4.60000000e-01   2.40000000e-01\n",
        "    1.50000000e-01   1.10000000e-01   1.00000000e-01   7.00000000e-02\n",
        "    4.00000000e-02   3.00000000e-02]\n",
        " [  0.00000000e+00  -3.93000000e+01  -4.11700000e+01   1.54960000e+02\n",
        "    1.38440000e+02   1.35330000e+02   1.59720000e+02  -2.79700000e+01\n",
        "   -5.18100000e+01   1.80000000e+02]\n",
        " [  9.00000000e-02   2.50000000e-01   2.10000000e-01   1.20000000e-01\n",
        "    3.10000000e-01   2.30000000e-01   1.40000000e-01   8.00000000e-02\n",
        "    7.00000000e-02   7.00000000e-02]\n",
        " [  2.90000000e-01   4.20000000e-01   2.40000000e-01   2.50000000e-01\n",
        "    2.90000000e-01   2.90000000e-01   2.40000000e-01   3.20000000e-01\n",
        "    2.00000000e-01   9.00000000e-02]\n",
        " [  6.70000000e-01   9.00000000e-01   7.60000000e-01   8.30000000e-01\n",
        "    8.20000000e-01   9.30000000e-01   9.30000000e-01   7.30000000e-01\n",
        "    7.90000000e-01   1.00000000e+00]]\n"
       ]
      }
     ],
     "prompt_number": 33
    },
    {
     "cell_type": "code",
     "collapsed": false,
     "input": [
      "imp.reload(ER)\n",
      "ER.plotCohere(L, N, C)"
     ],
     "language": "python",
     "metadata": {},
     "outputs": [
      {
       "metadata": {},
       "output_type": "display_data",
       "png": "[encoded data removed]",
       "text": [
        "<matplotlib.figure.Figure at 0x10f974d90>"
       ]
      }
     ],
     "prompt_number": 164
    },
    {
     "cell_type": "code",
     "collapsed": false,
     "input": [
      "imp.reload(ER)\n",
      "matplotlib.rcParams[\"figure.figsize\"] = (10, 10)\n",
      "ER.plotMacro(L, N, R)"
     ],
     "language": "python",
     "metadata": {},
     "outputs": [
      {
       "metadata": {},
       "output_type": "display_data",
       "png": "[encoded data removed]",
       "text": [
        "<matplotlib.figure.Figure at 0x10fc92c50>"
       ]
      }
     ],
     "prompt_number": 165
    },
    {
     "cell_type": "code",
     "collapsed": false,
     "input": [
      "print(R)"
     ],
     "language": "python",
     "metadata": {},
     "outputs": [
      {
       "output_type": "stream",
       "stream": "stdout",
       "text": [
        "[  2.76751280e+05   2.00850798e+05   9.47828365e+04   1.34211409e+04\n",
        "  -2.81770733e+04  -3.68399180e+04  -2.34412173e+04  -3.59023512e+03\n",
        "   9.09594048e+03   9.16392552e+03   0.00000000e+00   2.05355790e+04\n",
        "   2.13690560e+04   1.49663710e+04   9.56782800e+03   4.41389500e+03\n",
        "   4.16780400e+03   6.49161900e+03   9.35226000e+03   7.82551700e+03\n",
        "   0.00000000e+00   2.38886370e+04   1.86140640e+04   7.88193700e+03\n",
        "   9.65899200e+03   1.40028050e+04   7.12239600e+03   3.42253500e+03\n",
        "  -2.04640000e+02  -1.07064900e+03   1.64325160e+05   1.23829831e+05\n",
        "   7.71617306e+04   4.45509574e+04   1.79410958e+04   9.23011400e+03\n",
        "   1.48558238e+04   2.02627114e+04   1.73245106e+04   9.00895944e+03\n",
        "   5.28737020e+05   3.33275571e+05   1.75597088e+05   1.06578325e+05\n",
        "   3.91950845e+04   1.81260155e+04   1.21591125e+04   6.69358542e+03\n",
        "   4.38527232e+03   3.83885118e+03   0.00000000e+00   2.99446200e+03\n",
        "  -1.72089200e+04  -4.67166840e+04  -2.44284900e+04  -1.91960500e+04\n",
        "  -1.23317400e+04  -1.86707700e+03  -9.19010000e+02   4.34076000e+02\n",
        "  -2.09503600e+04  -1.40590922e+04  -5.32131776e+03   2.43384344e+03\n",
        "   1.34251834e+04   1.28809060e+04   1.05039794e+04   9.02274744e+03\n",
        "   4.78464224e+03  -3.76568240e+02   2.74085800e+04   3.96031012e+04\n",
        "   6.19630733e+04   2.84016722e+04  -2.13011208e+03   2.13077450e+03\n",
        "  -2.34617021e+04  -7.05032682e+03   2.87763928e+03  -2.82076478e+03\n",
        "   3.95685820e+05  -5.45634162e+03  -7.73622688e+03   1.56565822e+03\n",
        "   9.90885168e+03  -1.85303645e+04   6.58688368e+03  -1.02674438e+04\n",
        "  -9.76874288e+03  -6.80884962e+03]\n"
       ]
      }
     ],
     "prompt_number": 161
    },
    {
     "cell_type": "code",
     "collapsed": false,
     "input": [
      "Fs = 100\n",
      "t = numpy.arange(0, 10, 1. / Fs)\n",
      "f1 = 10\n",
      "f2 = 10 \n",
      "x1 = sin(2. * pi * f1 * t)\n",
      "x2 = sin(2. * pi * f2 * t - 2. * pi / 3.)\n",
      "x = numpy.hstack((x1, x2))\n",
      "N = x.shape[0]"
     ],
     "language": "python",
     "metadata": {},
     "outputs": [],
     "prompt_number": 144
    },
    {
     "cell_type": "code",
     "collapsed": false,
     "input": [
      "N = 2\n",
      "L = 101\n",
      "LX = 1000\n",
      "R = ER.MACRO(N, LX, x, LX, x, L)\n",
      "S = ER.QUADCO(L, N, R)\n",
      "C = ER.COHERE(L, N, S)"
     ],
     "language": "python",
     "metadata": {},
     "outputs": [],
     "prompt_number": 145
    },
    {
     "cell_type": "code",
     "collapsed": false,
     "input": [
      "ER.plotCohere(L, N, C)"
     ],
     "language": "python",
     "metadata": {},
     "outputs": [
      {
       "metadata": {},
       "output_type": "display_data",
       "png": "[encoded data removed]",
       "text": [
        "<matplotlib.figure.Figure at 0x1102d0a50>"
       ]
      }
     ],
     "prompt_number": 146
    },
    {
     "cell_type": "code",
     "collapsed": false,
     "input": [
      "ER.plotMacro(L, N, R)"
     ],
     "language": "python",
     "metadata": {},
     "outputs": [
      {
       "metadata": {},
       "output_type": "display_data",
       "png": "[encoded data removed]",
       "text": [
        "<matplotlib.figure.Figure at 0x1102de910>"
       ]
      }
     ],
     "prompt_number": 148
    },
    {
     "cell_type": "code",
     "collapsed": false,
     "input": [
      "import ER_c"
     ],
     "language": "python",
     "metadata": {},
     "outputs": [
      {
       "output_type": "stream",
       "stream": "stdout",
       "text": [
        "<CDLL 'ER.dylib', handle 104104540 at 10e4a36d0>\n",
        "['_FuncPtr', '__class__', '__delattr__', '__dict__', '__doc__', '__format__', '__getattr__', '__getattribute__', '__getitem__', '__hash__', '__init__', '__module__', '__new__', '__reduce__', '__reduce_ex__', '__repr__', '__setattr__', '__sizeof__', '__str__', '__subclasshook__', '__weakref__', '_func_flags_', '_func_restype_', '_handle', '_name']\n"
       ]
      }
     ],
     "prompt_number": 7
    },
    {
     "cell_type": "code",
     "collapsed": false,
     "input": [
      "import ctypes\n",
      "libc = ctypes.CDLL(\"ER.dylib\")"
     ],
     "language": "python",
     "metadata": {},
     "outputs": [],
     "prompt_number": 2
    },
    {
     "cell_type": "code",
     "collapsed": false,
     "input": [
      "print(libc)"
     ],
     "language": "python",
     "metadata": {},
     "outputs": [
      {
       "output_type": "stream",
       "stream": "stdout",
       "text": [
        "<CDLL 'ER.dylib', handle 104104540 at 1026ac450>\n"
       ]
      }
     ],
     "prompt_number": 3
    },
    {
     "cell_type": "code",
     "collapsed": false,
     "input": [
      "dir(libc)"
     ],
     "language": "python",
     "metadata": {},
     "outputs": [
      {
       "metadata": {},
       "output_type": "pyout",
       "prompt_number": 4,
       "text": [
        "['_FuncPtr',\n",
        " '__class__',\n",
        " '__delattr__',\n",
        " '__dict__',\n",
        " '__doc__',\n",
        " '__format__',\n",
        " '__getattr__',\n",
        " '__getattribute__',\n",
        " '__getitem__',\n",
        " '__hash__',\n",
        " '__init__',\n",
        " '__module__',\n",
        " '__new__',\n",
        " '__reduce__',\n",
        " '__reduce_ex__',\n",
        " '__repr__',\n",
        " '__setattr__',\n",
        " '__sizeof__',\n",
        " '__str__',\n",
        " '__subclasshook__',\n",
        " '__weakref__',\n",
        " '_func_flags_',\n",
        " '_func_restype_',\n",
        " '_handle',\n",
        " '_name']"
       ]
      }
     ],
     "prompt_number": 4
    },
    {
     "cell_type": "code",
     "collapsed": false,
     "input": [
      "imp.reload(ER_c)\n",
      "X = numpy.array([[1., 2, 3], [11, 12, 13]])\n",
      "Y = numpy.array([[2., 3, 4], [12, 13, 14]])\n",
      "LG = 2\n",
      "G = ER_c.MACRO(X, Y, LG)"
     ],
     "language": "python",
     "metadata": {},
     "outputs": [
      {
       "ename": "NameError",
       "evalue": "name 'ER_c' is not defined",
       "output_type": "pyerr",
       "traceback": [
        "\u001b[0;31m---------------------------------------------------------------------------\u001b[0m\n\u001b[0;31mNameError\u001b[0m                                 Traceback (most recent call last)",
        "\u001b[0;32m<ipython-input-2-8e88d272a74c>\u001b[0m in \u001b[0;36m<module>\u001b[0;34m()\u001b[0m\n\u001b[0;32m----> 1\u001b[0;31m \u001b[0mimp\u001b[0m\u001b[0;34m.\u001b[0m\u001b[0mreload\u001b[0m\u001b[0;34m(\u001b[0m\u001b[0mER_c\u001b[0m\u001b[0;34m)\u001b[0m\u001b[0;34m\u001b[0m\u001b[0m\n\u001b[0m\u001b[1;32m      2\u001b[0m \u001b[0mX\u001b[0m \u001b[0;34m=\u001b[0m \u001b[0mnumpy\u001b[0m\u001b[0;34m.\u001b[0m\u001b[0marray\u001b[0m\u001b[0;34m(\u001b[0m\u001b[0;34m[\u001b[0m\u001b[0;34m[\u001b[0m\u001b[0;36m1.\u001b[0m\u001b[0;34m,\u001b[0m \u001b[0;36m2\u001b[0m\u001b[0;34m,\u001b[0m \u001b[0;36m3\u001b[0m\u001b[0;34m]\u001b[0m\u001b[0;34m,\u001b[0m \u001b[0;34m[\u001b[0m\u001b[0;36m11\u001b[0m\u001b[0;34m,\u001b[0m \u001b[0;36m12\u001b[0m\u001b[0;34m,\u001b[0m \u001b[0;36m13\u001b[0m\u001b[0;34m]\u001b[0m\u001b[0;34m]\u001b[0m\u001b[0;34m)\u001b[0m\u001b[0;34m\u001b[0m\u001b[0m\n\u001b[1;32m      3\u001b[0m \u001b[0mY\u001b[0m \u001b[0;34m=\u001b[0m \u001b[0mnumpy\u001b[0m\u001b[0;34m.\u001b[0m\u001b[0marray\u001b[0m\u001b[0;34m(\u001b[0m\u001b[0;34m[\u001b[0m\u001b[0;34m[\u001b[0m\u001b[0;36m2.\u001b[0m\u001b[0;34m,\u001b[0m \u001b[0;36m3\u001b[0m\u001b[0;34m,\u001b[0m \u001b[0;36m4\u001b[0m\u001b[0;34m]\u001b[0m\u001b[0;34m,\u001b[0m \u001b[0;34m[\u001b[0m\u001b[0;36m12\u001b[0m\u001b[0;34m,\u001b[0m \u001b[0;36m13\u001b[0m\u001b[0;34m,\u001b[0m \u001b[0;36m14\u001b[0m\u001b[0;34m]\u001b[0m\u001b[0;34m]\u001b[0m\u001b[0;34m)\u001b[0m\u001b[0;34m\u001b[0m\u001b[0m\n\u001b[1;32m      4\u001b[0m \u001b[0mLG\u001b[0m \u001b[0;34m=\u001b[0m \u001b[0;36m2\u001b[0m\u001b[0;34m\u001b[0m\u001b[0m\n\u001b[1;32m      5\u001b[0m \u001b[0mG\u001b[0m \u001b[0;34m=\u001b[0m \u001b[0mER_c\u001b[0m\u001b[0;34m.\u001b[0m\u001b[0mMACRO\u001b[0m\u001b[0;34m(\u001b[0m\u001b[0mX\u001b[0m\u001b[0;34m,\u001b[0m \u001b[0mY\u001b[0m\u001b[0;34m,\u001b[0m \u001b[0mLG\u001b[0m\u001b[0;34m)\u001b[0m\u001b[0;34m\u001b[0m\u001b[0m\n",
        "\u001b[0;31mNameError\u001b[0m: name 'ER_c' is not defined"
       ]
      }
     ],
     "prompt_number": 2
    },
    {
     "cell_type": "code",
     "collapsed": false,
     "input": [
      "G"
     ],
     "language": "python",
     "metadata": {},
     "outputs": [
      {
       "metadata": {},
       "output_type": "pyout",
       "prompt_number": 13,
       "text": [
        "array([[[  20.,   13.],\n",
        "        [ 110.,   63.]],\n",
        "\n",
        "       [[  80.,   63.],\n",
        "        [ 470.,  313.]]])"
       ]
      }
     ],
     "prompt_number": 13
    },
    {
     "cell_type": "markdown",
     "metadata": {},
     "source": [
      "<h2>TRIG</h2>"
     ]
    },
    {
     "cell_type": "code",
     "collapsed": false,
     "input": [
      "imp.reload(ER)\n",
      "LX = 4\n",
      "X = numpy.array([1, 2, 3, 4])\n",
      "W = pi / 2.\n",
      "#W = 0.\n",
      "(S, C) = ER.TRIG(LX, X, W)\n",
      "print(S, C)"
     ],
     "language": "python",
     "metadata": {},
     "outputs": [
      {
       "output_type": "stream",
       "stream": "stdout",
       "text": [
        "(-1.9999999999999996, -2.0000000000000004)\n"
       ]
      }
     ],
     "prompt_number": 27
    },
    {
     "cell_type": "code",
     "collapsed": false,
     "input": [
      "LX = 4\n",
      "X = numpy.array([1, 2, 3, 4])\n",
      "W = 0.\n",
      "(S, C) = ER.TRIG(LX, X, W)\n",
      "print(S, C)"
     ],
     "language": "python",
     "metadata": {},
     "outputs": [
      {
       "output_type": "stream",
       "stream": "stdout",
       "text": [
        "(0.0, 10.0)\n"
       ]
      }
     ],
     "prompt_number": 28
    },
    {
     "cell_type": "code",
     "collapsed": false,
     "input": [
      "LX = 4\n",
      "X = numpy.array([1, 2, 3, 4])\n",
      "W = pi \n",
      "(S, C) = ER.TRIG(LX, X, W)\n",
      "print(S, C)"
     ],
     "language": "python",
     "metadata": {},
     "outputs": [
      {
       "output_type": "stream",
       "stream": "stdout",
       "text": [
        "(9.797174393178826e-16, -2.0)\n"
       ]
      }
     ],
     "prompt_number": 29
    },
    {
     "cell_type": "markdown",
     "metadata": {},
     "source": [
      "<h2>BRAINY</h2>"
     ]
    },
    {
     "cell_type": "code",
     "collapsed": false,
     "input": [
      "NRA = 2\n",
      "NCA = 2\n",
      "LA = 3\n",
      "A = numpy.array([0, 1, 0, -1, 2, 0, 1, 1, 1, 1, 0, 0], \"float\")\n",
      "NRB = 2\n",
      "NCB = 2\n",
      "LB = 3\n",
      "B = numpy.array([0, 1, 0, 0, 0, 1, 1, 1, 1, 0, 1, 0], \"float\")\n",
      "C = ER.BRAINY(NRA, NCA, LA, A, NRB, NCB, LB, B, C)\n",
      "print(C)\n",
      "C = ER.BRAINY(NRB, NCB, LB, B, NRA, NCA, LA, A, C)\n",
      "print(C)"
     ],
     "language": "python",
     "metadata": {},
     "outputs": [
      {
       "output_type": "stream",
       "stream": "stdout",
       "text": [
        "(array([ 0., -1.,  0.,  0.,  1.,  0.,  0.,  0.,  1.,  2.,  3.,  2.,  2.,\n",
        "        0.,  3.,  1.,  1.,  1.,  1.,  1.]), 5)\n",
        "(array([ 0.,  0.,  0.,  0.,  1.,  3., -1.,  0.,  1.,  3.,  0.,  2.,  3.,\n",
        "        2.,  2.,  0.,  2.,  0.,  0.,  0.]), 5)\n"
       ]
      }
     ],
     "prompt_number": 41
    },
    {
     "cell_type": "markdown",
     "metadata": {},
     "source": [
      "<h2>POMAIN</h2>"
     ]
    },
    {
     "cell_type": "code",
     "collapsed": false,
     "input": [
      "imp.reload(ER)\n",
      "N = 2\n",
      "LA = 3\n",
      "A = numpy.array([1, 0, 0, 1, -3, 14, 21, 1, 2, 5, -6, 14], \"complex\")\n",
      "ADJ = ()\n",
      "P = ()\n",
      "DET = ()\n",
      "S = ()\n",
      "(ADJ, P, DET, S) = ER.POMAIN(N, LA, A, ADJ, P, DET, S)\n",
      "print(ADJ, DET)"
     ],
     "language": "python",
     "metadata": {},
     "outputs": [
      {
       "output_type": "stream",
       "stream": "stdout",
       "text": [
        "(array([  1.-0.j,  -0.+0.j,  -0.+0.j,   1.-0.j,   1.-0.j, -14.+0.j,\n",
        "       -21.+0.j,  -3.+0.j,  14.-0.j,  -5.+0.j,   6.-0.j,   2.-0.j]), array([   1.-0.j,   -2.+0.j, -281.+0.j,  -61.+0.j,   58.-0.j]))\n"
       ]
      }
     ],
     "prompt_number": 84
    },
    {
     "cell_type": "markdown",
     "metadata": {},
     "source": [
      "<h2> POLRT</h2>"
     ]
    },
    {
     "cell_type": "code",
     "collapsed": false,
     "input": [
      "imp.reload(ER)\n",
      "XCOF = numpy.array([36, 0, -13, 0, 1])\n",
      "M = 4\n",
      "(COF, ROOTR, ROOTI, IER) = (XCOF.copy(), [], [], [])\n",
      "(ROOTR, ROOTI, IER) = ER.POLRT(XCOF, COF, M, ROOTR, ROOTI, IER)\n",
      "print(ROOTR, ROOTI, IER)"
     ],
     "language": "python",
     "metadata": {},
     "outputs": [
      {
       "output_type": "stream",
       "stream": "stdout",
       "text": [
        "[ 36   0 -13   0   1]\n",
        "(4, array([  1,   0, -13,   0,  36]))\n",
        "(4, 4, 4)\n",
        "(1, -3.0000001006651988, 0.0)\n",
        "(3, array([ 1, -3, -3,  9, 36]))\n",
        "(3, array([ 1, -3, -3,  9, 36]))\n",
        "(3, 4, 3)\n",
        "(2, -2.9999969527899104, 0.0)\n",
        "(2, array([ 1, -5, 11,  9, 36]))\n",
        "(2, array([ 1, -5, 11,  9, 36]))\n",
        "(array([ 0.        , -3.0000001 , -2.99999695,  0.        ]), array([ 0.,  0.,  0.,  0.]), 3)"
       ]
      },
      {
       "output_type": "stream",
       "stream": "stdout",
       "text": [
        "\n"
       ]
      }
     ],
     "prompt_number": 96
    },
    {
     "cell_type": "markdown",
     "metadata": {},
     "source": [
      "does not work actually\n",
      "___"
     ]
    },
    {
     "cell_type": "markdown",
     "metadata": {},
     "source": [
      "<h2> POLAR</h2>"
     ]
    },
    {
     "cell_type": "code",
     "collapsed": false,
     "input": [
      "imp.reload(ER)\n",
      "RE = numpy.array([1, -2, 3., -4.])\n",
      "XIM = numpy.array([1, 2, -3., -4])\n",
      "L = 4\n",
      "(AMP, PHZ) = (numpy.empty((L, )), numpy.empty((L, )))\n",
      "(AMP, PHZ) = ER.POLAR(L, RE, XIM, AMP, PHZ)\n",
      "print(AMP, PHZ)"
     ],
     "language": "python",
     "metadata": {},
     "outputs": [
      {
       "output_type": "stream",
       "stream": "stdout",
       "text": [
        "(array([ 1.41421356,  2.82842712,  4.24264069,  5.65685425]), array([ 0.78539816,  2.35619449, -0.78539816, -2.35619449]))\n"
       ]
      }
     ],
     "prompt_number": 23
    },
    {
     "cell_type": "markdown",
     "metadata": {},
     "source": [
      "<h2> DRUM </h2>"
     ]
    },
    {
     "cell_type": "code",
     "collapsed": false,
     "input": [
      "imp.reload(ER)\n",
      "LPHZ = 14\n",
      "PHZ = numpy.array([0., 1, 2, 3, 4, 5, 6, 7, 8, -8, -7, -1, 0, 1])\n",
      "PHZ = ER.DRUM(LPHZ, PHZ)\n",
      "print(PHZ)"
     ],
     "language": "python",
     "metadata": {},
     "outputs": [
      {
       "output_type": "stream",
       "stream": "stdout",
       "text": [
        "[ 0.          1.          2.          3.          4.          5.          6.\n",
        "  7.          8.         -1.71681469 -0.71681469 -1.          0.          1.        ]\n"
       ]
      }
     ],
     "prompt_number": 39
    },
    {
     "cell_type": "markdown",
     "metadata": {},
     "source": [
      "<h2> POLYEV</h2>"
     ]
    },
    {
     "cell_type": "code",
     "collapsed": false,
     "input": [
      "imp.reload(ER)\n",
      "LA = 3\n",
      "A = numpy.array([3., 2., 1.])\n",
      "Z = complex(1, 1.0)\n",
      "AZ = numpy.empty((LA))\n",
      "AZ = ER.POLYEV(3, A, Z, AZ) \n",
      "print(AZ)"
     ],
     "language": "python",
     "metadata": {},
     "outputs": [
      {
       "output_type": "stream",
       "stream": "stdout",
       "text": [
        "(5+4j)\n"
       ]
      }
     ],
     "prompt_number": 64
    },
    {
     "cell_type": "markdown",
     "metadata": {},
     "source": [
      "<h2> CAST </h2>"
     ]
    },
    {
     "cell_type": "code",
     "collapsed": false,
     "input": [
      "imp.reload(ER)\n",
      "LW = 7\n",
      "W = numpy.array([50, -65, 28, 68, 6, -9, -2])\n",
      "LT = 19\n",
      "(TCOS, TSIN, AMPH, PHZ) = (numpy.empty(LT, ), numpy.empty(LT, ), numpy.empty(LT, ), \n",
      "                           numpy.empty(LT, ))\n",
      "(TCOS, TSIN, AMPH, PHZ) = ER.CAST(LW, W, LT, TCOS, TSIN, AMPH, PHZ)\n",
      "print(numpy.round(AMPH, 0))\n",
      "print(numpy.round(PHZ, 2))"
     ],
     "language": "python",
     "metadata": {},
     "outputs": [
      {
       "output_type": "stream",
       "stream": "stdout",
       "text": [
        "[  76.   74.   69.   62.   57.   62.   80.  103.  127.  145.  156.  158.\n",
        "  152.  140.  126.  112.   99.   91.   88.]\n",
        "[ 0.    0.38  0.81  1.34  2.02  2.82  3.52  4.08  4.53  4.92  5.26  5.56\n",
        "  5.82  6.03  6.19  6.3   6.34  6.33  6.28]\n"
       ]
      }
     ],
     "prompt_number": 58
    },
    {
     "cell_type": "code",
     "collapsed": false,
     "input": [
      "subplot(3, 1, 1)\n",
      "plot(W, 'k.-')\n",
      "subplot(3, 1, 2)\n",
      "plot(AMPH, 'k.-')\n",
      "subplot(3, 1, 3)\n",
      "plot(PHZ, 'k.-')"
     ],
     "language": "python",
     "metadata": {},
     "outputs": [
      {
       "metadata": {},
       "output_type": "pyout",
       "prompt_number": 59,
       "text": [
        "[<matplotlib.lines.Line2D at 0x10fe93ed0>]"
       ]
      },
      {
       "metadata": {},
       "output_type": "display_data",
       "png": "[encoded data removed]",
       "text": [
        "<matplotlib.figure.Figure at 0x10fd23c50>"
       ]
      }
     ],
     "prompt_number": 59
    },
    {
     "cell_type": "code",
     "collapsed": false,
     "input": [
      "plot(TCOS)\n",
      "plot(TSIN)"
     ],
     "language": "python",
     "metadata": {},
     "outputs": [
      {
       "metadata": {},
       "output_type": "pyout",
       "prompt_number": 60,
       "text": [
        "[<matplotlib.lines.Line2D at 0x10fd23810>]"
       ]
      },
      {
       "metadata": {},
       "output_type": "display_data",
       "png": "[encoded data removed]",
       "text": [
        "<matplotlib.figure.Figure at 0x10fd23ad0>"
       ]
      }
     ],
     "prompt_number": 60
    },
    {
     "cell_type": "markdown",
     "metadata": {},
     "source": [
      "<h2> COSTR </h2>"
     ]
    },
    {
     "cell_type": "code",
     "collapsed": false,
     "input": [
      "imp.reload(ER)\n",
      "LR = 6\n",
      "R = numpy.array([1, 0.5, 0.1, -0.1, -0.01, 0.01])\n",
      "S = 0\n",
      "for W in numpy.arange(0, 2 * numpy.pi, 0.5): \n",
      "    S = ER.COSTR(LR, R, W, S)\n",
      "    print(S)"
     ],
     "language": "python",
     "metadata": {},
     "outputs": [
      {
       "output_type": "stream",
       "stream": "stdout",
       "text": [
        "2.0\n",
        "1.89498635216\n",
        "1.56635838203\n",
        "1.0716666964\n",
        "0.632052888233\n",
        "0.415222859799\n",
        "0.36184950165\n",
        "0.373394507611\n",
        "0.481623014546\n",
        "0.799916697831\n",
        "1.29509734189\n",
        "1.73646215777\n",
        "1.96683723933\n"
       ]
      }
     ],
     "prompt_number": 74
    },
    {
     "cell_type": "markdown",
     "metadata": {},
     "source": [
      "<h2> SHAPE </h2>"
     ]
    },
    {
     "cell_type": "code",
     "collapsed": false,
     "input": [],
     "language": "python",
     "metadata": {},
     "outputs": []
    },
    {
     "cell_type": "code",
     "collapsed": false,
     "input": [
      "help(ER)\n"
     ],
     "language": "python",
     "metadata": {},
     "outputs": [
      {
       "output_type": "stream",
       "stream": "stdout",
       "text": [
        "Help on module ER:\n",
        "\n",
        "NAME\n",
        "    ER - Enders A. Robinson\n",
        "\n",
        "FILE\n",
        "    /Users/becqg/Documents/code/Robinson/ER.py\n",
        "\n",
        "FUNCTIONS\n",
        "    ATAN = atan(...)\n",
        "        atan(x)\n",
        "        \n",
        "        Return the arc tangent (measured in radians) of x.\n",
        "    \n",
        "    ATAN2(Y, X)\n",
        "        Description:\n",
        "        ATAN2(Y,X) computes the arctangent of the complex number X + i Y. \n",
        "        Option:\n",
        "        f95, gnu \n",
        "        Class:\n",
        "        elemental function \n",
        "        Syntax:\n",
        "        X = ATAN2(Y,X) \n",
        "        Arguments:\n",
        "        Y       The type shall be REAL(*). \n",
        "        X       The type and kind type parameter shall be the same as Y. If Y is zero, then X must be nonzero. \n",
        "        \n",
        "        \n",
        "        Return value:\n",
        "        The return value has the same type and kind type parameter as Y. It is the principle value of the complex number X + i Y. If X is nonzero, then it lies in the range -\\pi \\le \u0007rccos (x) \\leq \\pi. The sign is positive if Y is positive. If Y is zero, then the return value is zero if X is positive and \\pi if X is negative. Finally, if X is zero, then the magnitude of the result is \\pi/2. \n",
        "        Example:\n",
        "                  program test_atan2\n",
        "                    real(4) :: x = 1.e0_4, y = 0.5e0_4\n",
        "                    x = atan2(y,x)\n",
        "                  end program test_atan2\n",
        "             \n",
        "            \n",
        "            ATAN2(0, 0) = not defined\n",
        "            ATAN2(1, 0) = 0 \n",
        "            ATAN2(0, 1) = pi / 2 = 1.57\n",
        "            ATAN2(-1, 0) = pi = 3.14\n",
        "            ATAN2(0, -1) = -pi / 2 = -1.57\n",
        "    \n",
        "    BRAINY(NRA, NCA, LA, A, NRB, NCB, LB, B, C)\n",
        "        BRAINY performs matrix polynomial multiplication.\n",
        "        It is the multichannel counterpart of FOLD in the single channel case. \n",
        "        Comes from the analogy with convolution in the brain. \n",
        "        \n",
        "        p. 154\n",
        "    \n",
        "    CAST(LW, W, LT, TCOS, TSIN, AMP, PHZ)\n",
        "        CAST Cosine And Sine Transform\n",
        "        \n",
        "        p. 67\n",
        "    \n",
        "    COHERE(L, N, S)\n",
        "        COHERE: COHEREnce\n",
        "        \n",
        "        p. 215\n",
        "    \n",
        "    COS = cos(...)\n",
        "        cos(x)\n",
        "        \n",
        "        Return the cosine of x (measured in radians).\n",
        "    \n",
        "    COSP(N, DATA, TABLE, M, K)\n",
        "        COSP: compute kth value of either the COSine transform or sine transform. \n",
        "        \n",
        "        (COSine decomPosition ?)\n",
        "        \n",
        "        p.61\n",
        "    \n",
        "    COSTAB(M)\n",
        "        full wavelength COSine TABle\n",
        "        \n",
        "        p. 60\n",
        "    \n",
        "    COSTR(LR, R, W, S)\n",
        "        COSTR one value of cosine transform of two-sided function\n",
        "        \n",
        "        p. 90\n",
        "    \n",
        "    CPLX_HEAT(NRX, NCX, LX, X, NRY, NCY, LY, Y, LG, G)\n",
        "        HEAT multichannel autocorrelation or cross correlation\n",
        "        \n",
        "        p.207\n",
        "    \n",
        "    CROSS(LX, X, LY, Y, LG)\n",
        "        CROSS: CROSS correlation\n",
        "        \n",
        "        p. 27\n",
        "    \n",
        "    DOT(L, X, Y)\n",
        "        DOT: DOT product\n",
        "        \n",
        "        p. 20 \n",
        "        \n",
        "        \n",
        "        P: the dot product\n",
        "    \n",
        "    DRUM(LPHZ, PHZ)\n",
        "        DRUM makes a phase curve continuous\n",
        "        \n",
        "        p.65\n",
        "    \n",
        "    FACTOR(M, N, BS)\n",
        "    \n",
        "    HEAT(NRX, NCX, LX, X, NRY, NCY, LY, Y, LG, G)\n",
        "        HEAT multichannel autocorrelation or cross correlation\n",
        "        \n",
        "        p.207\n",
        "    \n",
        "    MACRO(N, LX, X, LY, Y, LG)\n",
        "        MACRO: empirical MultichAnnel CROss correlation \n",
        "        \n",
        "        p. 203\n",
        "    \n",
        "    MAINE(N, A, B)\n",
        "        MAINE: MAtrix INversion by Escalator method (symmetric matrix)\n",
        "        \n",
        "        p. 11\n",
        "    \n",
        "    MIN0 = min(...)\n",
        "        min(iterable[, key=func]) -> value\n",
        "        min(a, b, c, ...[, key=func]) -> value\n",
        "        \n",
        "        With a single iterable argument, return its smallest item.\n",
        "        With two or more arguments, return the smallest argument.\n",
        "    \n",
        "    MOD(a, b)\n",
        "    \n",
        "    MOVE(LX, X, IX, Y, IY)\n",
        "        MOVE: MOVE one array from one storage location to another\n",
        "        \n",
        "        p. 18\n",
        "    \n",
        "    NORMAG(LX, X)\n",
        "        NORMAG: NORmalizes an array by the magnitude of the element which is greates in MAGnitude. \n",
        "        \n",
        "        p.23\n",
        "    \n",
        "    NORMEQ(N, M, LF, R, G)\n",
        "        NORMEQ: normal equation\n",
        "        \n",
        "        p. 247\n",
        "    \n",
        "    POLAR(L, RE, XIM, AMP, PHZ)\n",
        "        POLAR computes polar coordinates\n",
        "        \n",
        "        p. 66\n",
        "    \n",
        "    POLRT(XCOF, COF, M, ROOTR, ROOTI, IER)\n",
        "        POLRT compute the real and complex roots of a polynomial\n",
        "        \n",
        "        p. 35\n",
        "    \n",
        "    POLYEV(LA, A, Z, AZ)\n",
        "        POLYEV computes the value of the polynomial at the complex point z\n",
        "        \n",
        "        p. 33\n",
        "    \n",
        "    POMAIN(N, LA, A, ADJ, P, DET, S)\n",
        "        POMAIN Polynomial matrix inversion\n",
        "        \n",
        "        p. 162\n",
        "    \n",
        "    QUADCO(L, N, R)\n",
        "        QUADCO: QUADrature spectra and COspectra from multichannel autocorrelation function\n",
        "        \n",
        "        p. 212\n",
        "    \n",
        "    REMAV(LY, Y)\n",
        "        REMAV: REMove AVerage\n",
        "        \n",
        "        p.22\n",
        "    \n",
        "    SCALE(S, LX, X)\n",
        "        SCALE multiply each element of an array X, of length LX, by a factor c\n",
        "        \n",
        "        p. 19\n",
        "    \n",
        "    SIMEQ1(M, N, A, B, C)\n",
        "        SIMEQ1: SIMultaneous EQuation\n",
        "        \n",
        "        p. 39\n",
        "    \n",
        "    SIN = sin(...)\n",
        "        sin(x)\n",
        "        \n",
        "        Return the sine of x (measured in radians).\n",
        "    \n",
        "    SINTAB(M)\n",
        "        full wavelength SINe TABle\n",
        "        \n",
        "        p. 60\n",
        "    \n",
        "    TRIG(LX, X, W)\n",
        "        TRIG computes one value of Fourier transform by the sum of angles TRIGonometric formula for sine and cosine.\n",
        "    \n",
        "    XLOCF = id(...)\n",
        "        id(object) -> integer\n",
        "        \n",
        "        Return the identity of an object.  This is guaranteed to be unique among\n",
        "        simultaneously existing objects.  (Hint: it's the object's memory address.)\n",
        "    \n",
        "    ZERO(LX)\n",
        "        if (LX <= 0): \n",
        "            return\n",
        "        for I in range(LX): \n",
        "            X[I] = 0\n",
        "        return\n",
        "    \n",
        "    atan(...)\n",
        "        atan(x)\n",
        "        \n",
        "        Return the arc tangent (measured in radians) of x.\n",
        "    \n",
        "    compute_root(COF, ALPHA, N, SUMSQ, ROOTI, ROOTR, N2, X, Y)\n",
        "    \n",
        "    eval_pol_and_deriv(COF, X, NX, NXX, Y, SUMSQ, ALPHA, N)\n",
        "        #_______________________________________________________________________________\n",
        "        #_______________________________________________________________________________\n",
        "    \n",
        "    increment_initial_values(XO, YO, ICT, IN)\n",
        "    \n",
        "    plotCohere(L, N, C, Fs=0)\n",
        "        #_______________________________________________________________________________\n",
        "        #_______________________________________________________________________________\n",
        "    \n",
        "    plotMacro(L, N, G)\n",
        "        #_______________________________________________________________________________\n",
        "        #_______________________________________________________________________________\n",
        "    \n",
        "    unitfreq2freq(L, Fs)\n",
        "        L = m + 1\n",
        "\n",
        "DATA\n",
        "    ABS = <ufunc 'absolute'>\n",
        "    NaN = nan\n",
        "    PI = 3.141592653589793\n",
        "    SQRT = <ufunc 'sqrt'>\n",
        "    pi = 3.141592653589793\n",
        "    sign = <ufunc 'sign'>\n",
        "    sunspot_X = array([ 101.,   82.,   66.,   35.,   31.,    7.,...  97., ...\n",
        "\n",
        "\n"
       ]
      }
     ],
     "prompt_number": 75
    },
    {
     "cell_type": "code",
     "collapsed": false,
     "input": [],
     "language": "python",
     "metadata": {},
     "outputs": []
    }
   ],
   "metadata": {}
  }
 ]
}