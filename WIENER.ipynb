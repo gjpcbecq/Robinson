{
 "metadata": {
  "name": "",
  "signature": "sha256:4865811a9d86884ee1dc4c36316c38503ab357f7ebf9c8ccfc47df01853dac28"
 },
 "nbformat": 3,
 "nbformat_minor": 0,
 "worksheets": [
  {
   "cells": [
    {
     "cell_type": "code",
     "collapsed": false,
     "input": [
      "%pylab inline\n",
      "import sys\n",
      "# sys.path.append(\"/Users/becqg/Documents/code/Robinson\")\n",
      "sys.path.append(\"C:\\Users\\Guillaume\\Documents\\projets\\code\\Robinson\")\n",
      "import ER\n",
      "import ERpy\n",
      "import imp"
     ],
     "language": "python",
     "metadata": {},
     "outputs": [
      {
       "output_type": "stream",
       "stream": "stdout",
       "text": [
        "Populating the interactive namespace from numpy and matplotlib\n"
       ]
      }
     ],
     "prompt_number": 1
    },
    {
     "cell_type": "code",
     "collapsed": false,
     "input": [
      "X0 = ER.sunspot_X;\n",
      "(ETA1, AV1) = ER.REMAV(100, X0[0:100]);\n",
      "(ETA2, AV2) = ER.REMAV(100, X0[100:200]);\n",
      "(ETA3, AV3) = ER.REMAV(100, X0[200:300]);\n",
      "print(ETA1[:10])\n",
      "print(ETA2[:10])\n",
      "print(ETA3[:10])\n",
      "X1 = hstack((ETA1, ETA2, ETA3))\n",
      "X1 = ER.MATRAN(100, 3, X1)\n",
      "print(X1[:10])\n",
      "print(X1[-10:])"
     ],
     "language": "python",
     "metadata": {},
     "outputs": [
      {
       "output_type": "stream",
       "stream": "stdout",
       "text": [
        "[  54.06   35.06   19.06  -11.94  -15.94  -39.94  -26.94   45.06  107.06\n",
        "   79.06]\n",
        "[ 91.57  49.57 -60.43 -53.43 -63.43 -63.43 -51.43  22.57  38.57 -43.43]\n",
        "[-31.97 -35.97 -31.97  99.03 -34.97 -97.97  23.03 -97.97  15.03 -70.97]\n",
        "[ 54.06  91.57 -31.97  35.06  49.57 -35.97  19.06 -60.43 -31.97 -11.94]\n",
        "[-33.97 -39.94  25.57 -16.97  -9.94  38.57  64.03  27.06  46.57  39.03]\n"
       ]
      }
     ],
     "prompt_number": 2
    },
    {
     "cell_type": "code",
     "collapsed": false,
     "input": [
      "imp.reload(ER)\n",
      "N = 3\n",
      "LX = 99\n",
      "M = 3\n",
      "X = X1[:-3].copy()\n",
      "LZ = 99\n",
      "LR = 3\n",
      "LW = 0\n",
      "Z = X1[3:].copy()\n",
      "FLOOR = 0.0\n",
      "LF = 1\n",
      "F = empty(M * N * LR)\n",
      "E = empty(LR)\n",
      "LY = LX + LF - 1\n",
      "Y = empty(M * LY)\n",
      "S = empty(N * N * (5 * LR + 6) + M * N * (LR + 2) + 2 * M * M)\n",
      "(LF, F, E, LY, Y, S) = ER.WIENER_1(N, LX, X, M, LZ, Z, LR, LW, FLOOR, LF, F, E, LY, Y, S)\n",
      "print(F)"
     ],
     "language": "python",
     "metadata": {},
     "outputs": [
      {
       "output_type": "stream",
       "stream": "stdout",
       "text": [
        "[[111583.7764  80203.0058  5460.8582] \n",
        " [57385.6958  185153.0951  23665.3129] \n",
        " [-21082.0718  20338.1329  -3031.3009]]\n",
        "\n",
        "[[137643.3964  80902.3958  -11531.3318] \n",
        " [80902.3958  262199.7451  11886.6629] \n",
        " [-11531.3318  11886.6629  196319.5691]]\n",
        "\n",
        "('LW, L', 0, 3)\n",
        "[[111583.7764  80203.0058  5460.8582] \n",
        " [57385.6958  185153.0951  23665.3129] \n",
        " [-21082.0718  20338.1329  -3031.3009]]\n",
        "\n",
        "[[137643.3964  80902.3958  -11531.3318] \n",
        " [80902.3958  262199.7451  11886.6629] \n",
        " [-11531.3318  11886.6629  196319.5691]]\n",
        "\n",
        "('DA, DB', array([-137643.3964,  -80902.3958,   11531.3318,  -80902.3958,\n",
        "       -262199.7451,  -11886.6629,   11531.3318,  -11886.6629, -196319.5691]), array([-137643.3964,  -80902.3958,   11531.3318,  -80902.3958,\n",
        "       -262199.7451,  -11886.6629,   11531.3318,  -11886.6629, -196319.5691]))\n",
        "('CA, CB', array([ -1.00000000e+00,  -3.98986399e-17,   0.00000000e+00,\n",
        "         8.67361738e-19,  -1.00000000e+00,   0.00000000e+00,\n",
        "         0.00000000e+00,   0.00000000e+00,  -1.00000000e+00]), array([ -1.00000000e+00,  -3.98986399e-17,   0.00000000e+00,\n",
        "         8.67361738e-19,  -1.00000000e+00,   0.00000000e+00,\n",
        "         0.00000000e+00,   0.00000000e+00,  -1.00000000e+00]))\n",
        "('VA, VB', array([ 137643.3964,   80902.3958,  -11531.3318,   80902.3958,\n",
        "        262199.7451,   11886.6629,  -11531.3318,   11886.6629,  196319.5691]), array([ 137643.3964,   80902.3958,  -11531.3318,   80902.3958,\n",
        "        262199.7451,   11886.6629,  -11531.3318,   11886.6629,  196319.5691]))\n",
        "('VA, VB', array([  7.01716426e-14,  -1.45519152e-11,   0.00000000e+00,\n",
        "         2.27422027e-13,  -5.82076609e-11,   0.00000000e+00,\n",
        "         1.03100366e-14,  -1.81898940e-12,   0.00000000e+00]), array([  7.01716426e-14,  -1.45519152e-11,   0.00000000e+00,\n",
        "         2.27422027e-13,  -5.82076609e-11,   0.00000000e+00,\n",
        "         1.03100366e-14,  -1.81898940e-12,   0.00000000e+00]))\n",
        "('CF, VB, GAM', array([  2.23969244e-314,   2.12358850e-314,  -2.72769034e+122,\n",
        "         2.12471694e-314,   2.12358869e-314,  -1.25974903e-254,\n",
        "         2.23969181e-314,   2.12358824e-314,   0.00000000e+000]), array([  7.01716426e-14,  -1.45519152e-11,   0.00000000e+00,\n",
        "         2.27422027e-13,  -5.82076609e-11,   0.00000000e+00,\n",
        "         1.03100366e-14,  -1.81898940e-12,   0.00000000e+00]), array([-52344.5036, -22515.2742,   6122.4582, -18621.2642, -75404.9149,\n",
        "        29144.3629,   2847.1082,   4306.0329,  -1803.8409]))\n",
        "[[-52344.5036  -18621.2642  2847.1082] \n",
        " [-22515.2742  -75404.9149  4306.0329] \n",
        " [6122.4582  29144.3629  -1803.8409]]\n",
        "\n",
        "('F, CF, B', array([ 0.78007148,  0.01293092, -0.24810904,  0.06202413,  0.69858124,\n",
        "        0.15591062,  0.06988025,  0.07900702, -0.03945397,  0.        ,\n",
        "        0.        ,  0.        ,  0.        ,  0.        ,  0.        ,\n",
        "        0.        ,  0.        ,  0.        ,  0.        ,  0.        ,\n",
        "        0.        ,  0.        ,  0.        ,  0.        ,  0.        ,\n",
        "        0.        ,  0.        ]), array([ nan,  nan,  nan,  nan,  nan,  nan,  nan,  nan,  nan]), array([  0.00000000e+00,  -3.98986399e-17,   0.00000000e+00,\n",
        "         8.67361738e-19,  -2.22044605e-16,   0.00000000e+00,\n",
        "         0.00000000e+00,   0.00000000e+00,   0.00000000e+00,\n",
        "         0.00000000e+00,   0.00000000e+00,   0.00000000e+00,\n",
        "         0.00000000e+00,   0.00000000e+00,   0.00000000e+00,\n",
        "         0.00000000e+00,   0.00000000e+00,   0.00000000e+00,\n",
        "         0.00000000e+00,   0.00000000e+00,   0.00000000e+00,\n",
        "         0.00000000e+00,   0.00000000e+00,   0.00000000e+00,\n",
        "         0.00000000e+00,   0.00000000e+00,   0.00000000e+00]))\n",
        "('F, G, H, FGT', array([ nan,  nan,  nan,  nan,  nan,  nan,  nan,  nan,  nan,   0.,   0.,\n",
        "         0.,   0.,   0.,   0.,   0.,   0.,   0.,   0.,   0.,   0.,   0.,\n",
        "         0.,   0.,   0.,   0.,   0.]), array([ 111583.7764,   57385.6958,  -21082.0718,   80203.0058,\n",
        "        185153.0951,   20338.1329,    5460.8582,   23665.3129,\n",
        "         -3031.3009,   59239.2728,   34870.4216,  -14959.6136,\n",
        "         61581.7416,  109748.1802,   49482.4958,    8307.9664,\n",
        "         27971.3458,   -4835.1418,    9586.5292,   21131.8474,\n",
        "         -3891.4954,   42512.3774,   76127.3753,   53655.9687,\n",
        "          7368.4146,  -13082.1513,    1118.3273]), array([ 135453.1564,   77212.3058,   -8746.8818,   77212.3058,\n",
        "        255983.4451,   16631.7829,   -8746.8818,   16631.7829,  196820.8291]), array([  92399.44952831,   57902.64242267,  -15395.89605067,\n",
        "         57902.64242267,  131956.25431664,   13695.73338657,\n",
        "        -15395.89605067,   13695.73338657,    8521.18039793]))\n",
        "('DA, DB', array([ -5.01756636e-14,   1.73077426e-11,   0.00000000e+00,\n",
        "        -1.59036751e-13,   4.38717567e-11,   0.00000000e+00,\n",
        "        -1.79400208e-14,   4.74139570e-12,   0.00000000e+00]), array([ -5.01756636e-14,  -1.59036751e-13,  -1.79400208e-14,\n",
        "         1.73077426e-11,   4.38717567e-11,   4.74139570e-12,\n",
        "         0.00000000e+00,   0.00000000e+00,   0.00000000e+00]))\n",
        "('CA, CB', array([ nan,  nan,  nan,  nan,  nan,  nan,  nan,  nan,  nan]), array([ nan,  nan,  nan,  nan,  nan,  nan,  nan,  nan,  nan]))\n",
        "('VA, VB', array([  7.01716426e-14,  -1.45519152e-11,   0.00000000e+00,\n",
        "         2.27422027e-13,  -5.82076609e-11,   0.00000000e+00,\n",
        "         1.03100366e-14,  -1.81898940e-12,   0.00000000e+00]), array([  7.01716426e-14,  -1.45519152e-11,   0.00000000e+00,\n",
        "         2.27422027e-13,  -5.82076609e-11,   0.00000000e+00,\n",
        "         1.03100366e-14,  -1.81898940e-12,   0.00000000e+00]))\n",
        "('VA, VB', array([ nan,  nan,  nan,  nan,  nan,  nan,  nan,  nan,  nan]), array([ nan,  nan,  nan,  nan,  nan,  nan,  nan,  nan,  nan]))\n",
        "('CF, VB, GAM', array([ nan,  nan,  nan,  nan,  nan,  nan,  nan,  nan,  nan]), array([ nan,  nan,  nan,  nan,  nan,  nan,  nan,  nan,  nan]), array([ nan,  nan,  nan,  nan,  nan,  nan,  nan,  nan,  nan]))\n",
        "[[nan  nan  nan] \n",
        " [nan  nan  nan] \n",
        " [nan  nan  nan]]\n",
        "\n",
        "('F, CF, B', array([ nan,  nan,  nan,  nan,  nan,  nan,  nan,  nan,  nan,   0.,   0.,\n",
        "         0.,   0.,   0.,   0.,   0.,   0.,   0.,   0.,   0.,   0.,   0.,\n",
        "         0.,   0.,   0.,   0.,   0.]), array([ nan,  nan,  nan,  nan,  nan,  nan,  nan,  nan,  nan]), array([ nan,  nan,  nan,  nan,  nan,  nan,  nan,  nan,  nan,  nan,  nan,\n",
        "        nan,  nan,  nan,  nan,  nan,  nan,  nan,   0.,   0.,   0.,   0.,\n",
        "         0.,   0.,   0.,   0.,   0.]))\n",
        "('F, G, H, FGT', array([ nan,  nan,  nan,  nan,  nan,  nan,  nan,  nan,  nan,  nan,  nan,\n",
        "        nan,  nan,  nan,  nan,  nan,  nan,  nan,   0.,   0.,   0.,   0.,\n",
        "         0.,   0.,   0.,   0.,   0.]), array([ 111583.7764,   57385.6958,  -21082.0718,   80203.0058,\n",
        "        185153.0951,   20338.1329,    5460.8582,   23665.3129,\n",
        "         -3031.3009,   59239.2728,   34870.4216,  -14959.6136,\n",
        "         61581.7416,  109748.1802,   49482.4958,    8307.9664,\n",
        "         27971.3458,   -4835.1418,    9586.5292,   21131.8474,\n",
        "         -3891.4954,   42512.3774,   76127.3753,   53655.9687,\n",
        "          7368.4146,  -13082.1513,    1118.3273]), array([ 135453.1564,   77212.3058,   -8746.8818,   77212.3058,\n",
        "        255983.4451,   16631.7829,   -8746.8818,   16631.7829,  196820.8291]), array([ nan,  nan,  nan,  nan,  nan,  nan,  nan,  nan,  nan]))\n",
        "[ nan  nan  nan  nan  nan  nan  nan  nan  nan  nan  nan  nan  nan  nan  nan\n",
        "  nan  nan  nan   0.   0.   0.   0.   0.   0.   0.   0.   0.]\n"
       ]
      }
     ],
     "prompt_number": 80
    },
    {
     "cell_type": "code",
     "collapsed": false,
     "input": [
      "imp.reload(ER)\n",
      "R = array([7, -1, -1, 3, -2, 1, -2, 1])\n",
      "G = array([1, 0, 0, 1])\n",
      "FLOOR = 0.0\n",
      "LF = 1\n",
      "A = array([1, 0, 0, 1])\n",
      "B = array([1, 0, 0, 1])\n",
      "VA = array([7, -1, -1, 3])\n",
      "VB = array([7, -1, -1, 3])\n",
      "F = array([0.15, 0.05, 0, 0])\n",
      "\n",
      "M = 2\n",
      "N = 2\n",
      "for I in range(N): \n",
      "    for J in range(N): \n",
      "        IJ = I + J * N\n",
      "        IJO = I + J * N \n",
      "        VA[IJ] = R[IJO]\n",
      "        VB[IJ] = R[IJO]\n",
      "    IIO = I + I * N\n",
      "    A[IIO] = 1.\n",
      "    B[IIO] = 1.\n",
      "    \n",
      "ER.RITE(1, N, N, 1, A)\n",
      "ER.RITE(1, N, N, 1, B)\n",
      "\n",
      "F = ER.SIMEQ1(M, N, F, R, G[: M * N])\n",
      "print(ER.SIMEQ1(M, N, F, R, G))\n",
      "\n",
      "LF = 1\n",
      "FGT = zeros(M * M)\n",
      "FGT = ER.HEAT(M, N, 1, F, M, N, 1, G, 1, FGT)\n",
      "print(F, G, FGT)\n",
      "\n",
      "H = array([1, 2, 3, 1])\n",
      "E[0] = 1.0 - ER.SPUR(M, FGT) / ER.SPUR(M, H)\n",
      "print(E)"
     ],
     "language": "python",
     "metadata": {},
     "outputs": [
      {
       "output_type": "stream",
       "stream": "stdout",
       "text": [
        "[[1  0] \n",
        " [0  1]]\n",
        "\n",
        "[[1  0] \n",
        " [0  1]]\n",
        "\n",
        "[ 0.15  0.05  0.05  0.35]\n",
        "(array([ 0.15,  0.05,  0.05,  0.35]), array([1, 0, 0, 1]), array([ 0.15,  0.05,  0.05,  0.35]))\n",
        "[ 0.75   nan   nan]\n"
       ]
      }
     ],
     "prompt_number": 88
    },
    {
     "cell_type": "code",
     "collapsed": false,
     "input": [
      "DA = zeros(4)\n",
      "DB = zeros(4)\n",
      "GAM = zeros(8)\n",
      "G = array([1, 0, 0, 1, 1, 0, 0, 1])\n",
      "LR = 2\n",
      "L = 2\n",
      "A = array([1, 0, 0, 1.])\n",
      "B = array([1, 0, 0, 1.])\n",
      "ER.RITE(2, 2, 2, 2, R)\n",
      "for L in range(1, LR): \n",
      "    DA = ER.ZERO(N * N, DA)\n",
      "    OOL = L * M * N \n",
      "    # print(\"M * N, G.size, OOL, GAM.size\", M * N, G.size, OOL, GAM.size)\n",
      "    GAM = ER.MOVE(M * N, G, OOL, GAM, 0)\n",
      "    for I in range(N): \n",
      "        for LI in range(L): \n",
      "            # LD = L - LI + 1\n",
      "            LD = L - LI - 1\n",
      "            for K in range(N):\n",
      "                for J in range(N): \n",
      "                    IJ = I + J * N\n",
      "                    IKLI = I + K * N * N + LI * N * N\n",
      "                    KJLD = K + J * N * N + LD * N * N\n",
      "                    print(\"LI, LD, I, J, K, IKLI, KJLD\", LI, LD, I, J, K, IKLI, KJLD)\n",
      "                    print(R[KJLD])\n",
      "                    DA[IJ] -= A[IKLI] * R[KJLD]\n",
      "                for J in range(M): \n",
      "                    JI = J + I * M\n",
      "                    JKLI = J + K * M + LI * M * N\n",
      "                    KILD = K + I * M + LD * M * N\n",
      "                    GAM[JI] -= F[JKLI] * R[KILD]\n",
      "        # 4 end for LI\n",
      "        for J in range(N):\n",
      "            IJ = I + J * N\n",
      "            JI = J + I * N\n",
      "            DB[JI] = DA[IJ]\n",
      "    # 5 end for I \n",
      "ER.RITE(1, 2, 2, 1, DA)\n",
      "ER.RITE(1, 2, 2, 1, DB)\n",
      "\n"
     ],
     "language": "python",
     "metadata": {},
     "outputs": [
      {
       "output_type": "stream",
       "stream": "stdout",
       "text": [
        "[[7  -1] [[-2  -2] \n",
        " [-1  3]] [1  1]]\n",
        "\n",
        "('LI, LD, I, J, K, IKLI, KJLD', 0, 0, 0, 0, 0, 0, 0)\n",
        "7\n",
        "('LI, LD, I, J, K, IKLI, KJLD', 0, 0, 0, 1, 0, 0, 4)\n",
        "-2\n",
        "('LI, LD, I, J, K, IKLI, KJLD', 0, 0, 0, 0, 1, 4, 1)\n",
        "-1\n"
       ]
      },
      {
       "ename": "IndexError",
       "evalue": "index out of bounds",
       "output_type": "pyerr",
       "traceback": [
        "\u001b[0;31m---------------------------------------------------------------------------\u001b[0m\n\u001b[0;31mIndexError\u001b[0m                                Traceback (most recent call last)",
        "\u001b[0;32m<ipython-input-91-4f1d8b4d687b>\u001b[0m in \u001b[0;36m<module>\u001b[0;34m()\u001b[0m\n\u001b[1;32m     24\u001b[0m                     \u001b[0;32mprint\u001b[0m\u001b[0;34m(\u001b[0m\u001b[0;34m\"LI, LD, I, J, K, IKLI, KJLD\"\u001b[0m\u001b[0;34m,\u001b[0m \u001b[0mLI\u001b[0m\u001b[0;34m,\u001b[0m \u001b[0mLD\u001b[0m\u001b[0;34m,\u001b[0m \u001b[0mI\u001b[0m\u001b[0;34m,\u001b[0m \u001b[0mJ\u001b[0m\u001b[0;34m,\u001b[0m \u001b[0mK\u001b[0m\u001b[0;34m,\u001b[0m \u001b[0mIKLI\u001b[0m\u001b[0;34m,\u001b[0m \u001b[0mKJLD\u001b[0m\u001b[0;34m)\u001b[0m\u001b[0;34m\u001b[0m\u001b[0m\n\u001b[1;32m     25\u001b[0m                     \u001b[0;32mprint\u001b[0m\u001b[0;34m(\u001b[0m\u001b[0mR\u001b[0m\u001b[0;34m[\u001b[0m\u001b[0mKJLD\u001b[0m\u001b[0;34m]\u001b[0m\u001b[0;34m)\u001b[0m\u001b[0;34m\u001b[0m\u001b[0m\n\u001b[0;32m---> 26\u001b[0;31m                     \u001b[0mDA\u001b[0m\u001b[0;34m[\u001b[0m\u001b[0mIJ\u001b[0m\u001b[0;34m]\u001b[0m \u001b[0;34m-=\u001b[0m \u001b[0mA\u001b[0m\u001b[0;34m[\u001b[0m\u001b[0mIKLI\u001b[0m\u001b[0;34m]\u001b[0m \u001b[0;34m*\u001b[0m \u001b[0mR\u001b[0m\u001b[0;34m[\u001b[0m\u001b[0mKJLD\u001b[0m\u001b[0;34m]\u001b[0m\u001b[0;34m\u001b[0m\u001b[0m\n\u001b[0m\u001b[1;32m     27\u001b[0m                 \u001b[0;32mfor\u001b[0m \u001b[0mJ\u001b[0m \u001b[0;32min\u001b[0m \u001b[0mrange\u001b[0m\u001b[0;34m(\u001b[0m\u001b[0mM\u001b[0m\u001b[0;34m)\u001b[0m\u001b[0;34m:\u001b[0m\u001b[0;34m\u001b[0m\u001b[0m\n\u001b[1;32m     28\u001b[0m                     \u001b[0mJI\u001b[0m \u001b[0;34m=\u001b[0m \u001b[0mJ\u001b[0m \u001b[0;34m+\u001b[0m \u001b[0mI\u001b[0m \u001b[0;34m*\u001b[0m \u001b[0mM\u001b[0m\u001b[0;34m\u001b[0m\u001b[0m\n",
        "\u001b[0;31mIndexError\u001b[0m: index out of bounds"
       ]
      }
     ],
     "prompt_number": 91
    },
    {
     "cell_type": "code",
     "collapsed": false,
     "input": [
      "VA = array([7, -1, -1, 3])\n",
      "VB = array([7, -1, -1, 3])\n",
      "DA = array([-2, 1, -2, 1])\n",
      "DB = array([-2, -2, 1, 1])\n",
      "CA = zeros(4)\n",
      "CB = zeros(4)\n",
      "CA[: N * N] = ER.SIMEQ1(N, N, CA, VB, DA[: N * N])\n",
      "CB[: N * N] = ER.SIMEQ1(N, N, CB, VA, DB[: N * N])\n",
      "ER.RITE(1, 2, 2, 1, CA)\n",
      "ER.RITE(1, 2, 2, 1, CB)"
     ],
     "language": "python",
     "metadata": {},
     "outputs": [
      {
       "output_type": "stream",
       "stream": "stdout",
       "text": [
        "[[-0.4  -0.8] \n",
        " [0.2  0.4]]\n",
        "\n",
        "[[-0.25  0.25] \n",
        " [-0.25  0.25]]\n",
        "\n"
       ]
      }
     ],
     "prompt_number": 60
    },
    {
     "cell_type": "code",
     "collapsed": false,
     "input": [
      "imp.reload(ER)\n",
      "N = 2\n",
      "LX = 2\n",
      "M = 2\n",
      "X = array([1., 0, 0, 1, -2, 0, 6, -4])\n",
      "#X = array([1, 11, 2, 12])\n",
      "LY = 2\n",
      "LR = 3\n",
      "Y = array([1., 0, 0, 1, -2, 0, 6, -4])\n",
      "R = empty(M * N * LR)\n",
      "print(ER.HEAT(M, N, LX, X, M, N, LY, Y, LR, R))"
     ],
     "language": "python",
     "metadata": {},
     "outputs": [
      {
       "output_type": "stream",
       "stream": "stdout",
       "text": [
        "[ 41. -24. -24.  17.  -2.   0.   6.  -4.   0.   0.   0.   0.]\n"
       ]
      }
     ],
     "prompt_number": 120
    },
    {
     "cell_type": "code",
     "collapsed": false,
     "input": [
      "N = 2\n",
      "LX = 3\n",
      "M = 1\n",
      "X = array([1., 11, 2, 12, 3, 13])\n",
      "#X = array([1, 11, 2, 12])\n",
      "LY = 3\n",
      "LR = 3\n",
      "Y = array([2, 12, 3, 13, 4, 14])\n",
      "R = empty(M * N * LR)\n",
      "print(ER.HEAT(M, N, LX, X, M, N, LY, Y, LR, R))"
     ],
     "language": "python",
     "metadata": {},
     "outputs": [
      {
       "output_type": "stream",
       "stream": "stdout",
       "text": [
        "[  4.90000000e+002   3.26000000e+002   1.62000000e+002   2.12358718e-314\n",
        "   2.12358728e-314   4.17203472e-309]\n"
       ]
      }
     ],
     "prompt_number": 125
    },
    {
     "cell_type": "code",
     "collapsed": false,
     "input": [
      "a = matrix(\"[4, 5; 14, 15]\")\n",
      "b = matrix(\"[1, 11; 2, 12]\")"
     ],
     "language": "python",
     "metadata": {},
     "outputs": [],
     "prompt_number": 138
    },
    {
     "cell_type": "code",
     "collapsed": false,
     "input": [
      "a * b"
     ],
     "language": "python",
     "metadata": {},
     "outputs": [
      {
       "metadata": {},
       "output_type": "pyout",
       "prompt_number": 139,
       "text": [
        "matrix([[ 14, 104],\n",
        "        [ 44, 334]])"
       ]
      }
     ],
     "prompt_number": 139
    },
    {
     "cell_type": "code",
     "collapsed": false,
     "input": [
      "imp.reload(ER)\n",
      "N = 2\n",
      "LX = 2\n",
      "M = 2\n",
      "X = array([1, 11, 2, 12, 3, 13, 4, 14])\n",
      "LZ = 2\n",
      "LR = 2\n",
      "LW = 0\n",
      "Z = array([2, 12, 3, 13, 4, 14, 5, 15])\n",
      "FLOOR = 0.0\n",
      "LF = 1\n",
      "F = empty(M * N * LR)\n",
      "E = empty(LR)\n",
      "LY = LX + LF - 1\n",
      "Y = empty(M * LY)\n",
      "S = empty(N * N * (5 * LR + 6) + M * N * (LR + 2) + 2 * M * M)\n",
      "(LF, F, E, LY, Y, S) = ER.WIENER_1(N, LX, X, M, LZ, Z, LR, LW, FLOOR, LF, F, E, LY, Y, S)\n",
      "print(F)"
     ],
     "language": "python",
     "metadata": {},
     "outputs": [
      {
       "output_type": "stream",
       "stream": "stdout",
       "text": [
        "('LW, L, LR', 0, 2, 2)\n",
        "('LW >= 1', False)\n",
        "('LW < LR', True)\n",
        "('LW >= 1 & LW < LR', False)\n",
        "('(LW >= 1) & (LW >= LR)', False)\n",
        "('LW, L, LR', 0, 2, 2)\n",
        "[[8.0  58.0] [[3.0  33.0] \n",
        " [38.0  288.0]] [13.0  143.0]]\n",
        "\n",
        "[[5.0  35.0] [[2.0  22.0] \n",
        " [35.0  265.0]] [12.0  132.0]]\n",
        "\n",
        "('LW, L', 0, 2)\n",
        "G\n",
        "[[8.0  58.0] [[3.0  33.0] \n",
        " [38.0  288.0]] [13.0  143.0]]\n",
        "\n",
        "R\n",
        "[[5.0  35.0] [[2.0  22.0] \n",
        " [35.0  265.0]] [12.0  132.0]]\n",
        "\n",
        "('E[0], LF, LR', -1.9984014443252818e-15, 1, 2)\n",
        "[ 0.9 -0.1  0.1  1.1  0.   0.   0.   0. ]\n"
       ]
      }
     ],
     "prompt_number": 152
    },
    {
     "cell_type": "code",
     "collapsed": false,
     "input": [
      "print(M, N, LX)\n",
      "S = zeros(M * N * LX)\n",
      "L = LX\n",
      "S = ER.HEAT(M, 1, LZ, Z, N, 1, LX, X, L, S)\n",
      "print(S)"
     ],
     "language": "python",
     "metadata": {},
     "outputs": [
      {
       "output_type": "stream",
       "stream": "stdout",
       "text": [
        "(2, 2, 2)\n",
        "[   8.   38.   58.  288.    3.   13.   33.  143.]\n"
       ]
      }
     ],
     "prompt_number": 144
    },
    {
     "cell_type": "code",
     "collapsed": false,
     "input": [],
     "language": "python",
     "metadata": {},
     "outputs": []
    }
   ],
   "metadata": {}
  }
 ]
}