{
 "metadata": {
  "name": "",
  "signature": "sha256:dc32c252d88543eb265e6ffecdcf5d34dff593b099a9ce11beca91b88af39465"
 },
 "nbformat": 3,
 "nbformat_minor": 0,
 "worksheets": [
  {
   "cells": [
    {
     "cell_type": "code",
     "collapsed": false,
     "input": [
      "%pylab inline\n",
      "import sys\n",
      "# sys.path.append(\"/Users/becqg/Documents/code/Robinson\")\n",
      "sys.path.append(\"C:\\Users\\Guillaume\\Documents\\projets\\code\\Robinson\")\n",
      "import ER\n",
      "import ERpy\n",
      "import imp"
     ],
     "language": "python",
     "metadata": {},
     "outputs": [
      {
       "output_type": "stream",
       "stream": "stdout",
       "text": [
        "Populating the interactive namespace from numpy and matplotlib\n"
       ]
      }
     ],
     "prompt_number": 1
    },
    {
     "cell_type": "code",
     "collapsed": false,
     "input": [
      "X0 = ER.sunspot_X;\n",
      "(ETA1, AV1) = ER.REMAV(100, X0[0:100]);\n",
      "(ETA2, AV2) = ER.REMAV(100, X0[100:200]);\n",
      "(ETA3, AV3) = ER.REMAV(100, X0[200:300]);\n",
      "print(ETA1[:10])\n",
      "print(ETA2[:10])\n",
      "print(ETA3[:10])\n",
      "X1 = hstack((ETA1, ETA2, ETA3))\n",
      "X1 = ER.MATRAN(100, 3, X1)\n",
      "print(X1[:10])\n",
      "print(X1[-10:])"
     ],
     "language": "python",
     "metadata": {},
     "outputs": [
      {
       "output_type": "stream",
       "stream": "stdout",
       "text": [
        "[  54.06   35.06   19.06  -11.94  -15.94  -39.94  -26.94   45.06  107.06\n",
        "   79.06]\n",
        "[ 91.57  49.57 -60.43 -53.43 -63.43 -63.43 -51.43  22.57  38.57 -43.43]\n",
        "[-31.97 -35.97 -31.97  99.03 -34.97 -97.97  23.03 -97.97  15.03 -70.97]\n",
        "[ 54.06  91.57 -31.97  35.06  49.57 -35.97  19.06 -60.43 -31.97 -11.94]\n",
        "[-33.97 -39.94  25.57 -16.97  -9.94  38.57  64.03  27.06  46.57  39.03]\n"
       ]
      }
     ],
     "prompt_number": 2
    },
    {
     "cell_type": "code",
     "collapsed": false,
     "input": [
      "imp.reload(ER)\n",
      "N = 3\n",
      "LX = 99\n",
      "M = 3\n",
      "X = X1[:-3].copy()\n",
      "LZ = 99\n",
      "LR = 3\n",
      "LW = 0\n",
      "Z = X1[3:].copy()\n",
      "FLOOR = 0.0\n",
      "LF = 1\n",
      "F = empty(M * N * LR)\n",
      "E = empty(LR)\n",
      "LY = LX + LF - 1\n",
      "Y = empty(M * LY)\n",
      "S = empty(N * N * (5 * LR + 6) + M * N * (LR + 2) + 2 * M * M)\n",
      "(LF, F, E, LY, Y, S) = ER.WIENER_1(N, LX, X, M, LZ, Z, LR, LW, FLOOR, LF, F, E, LY, Y, S)\n",
      "print(F)"
     ],
     "language": "python",
     "metadata": {},
     "outputs": [
      {
       "output_type": "stream",
       "stream": "stdout",
       "text": [
        "('F.size', 27)\n",
        "('F', array([ 0.,  0.,  0.,  0.,  0.,  0.,  0.,  0.,  0.,  0.,  0.,  0.,  0.,\n",
        "        0.,  0.,  0.,  0.,  0.,  0.,  0.,  0.,  0.,  0.,  0.,  0.,  0.,  0.]))\n",
        "('G.size', 27)\n",
        "('G.size after SIMEQ1', 27)\n",
        "('F, G, FGT, H', array([ 0.78007148,  0.01293092, -0.24810904,  0.06202413,  0.69858124,\n",
        "        0.15591062,  0.06988025,  0.07900702, -0.03945397,  0.        ,\n",
        "        0.        ,  0.        ,  0.        ,  0.        ,  0.        ,\n",
        "        0.        ,  0.        ,  0.        ,  0.        ,  0.        ,\n",
        "        0.        ,  0.        ,  0.        ,  0.        ,  0.        ,\n",
        "        0.        ,  0.        ]), array([ 111583.7764,   57385.6958,  -21082.0718,   80203.0058,\n",
        "        185153.0951,   20338.1329,    5460.8582,   23665.3129,\n",
        "         -3031.3009,   59239.2728,   34870.4216,  -14959.6136,\n",
        "         61581.7416,  109748.1802,   49482.4958,    8307.9664,\n",
        "         27971.3458,   -4835.1418,    9586.5292,   21131.8474,\n",
        "         -3891.4954,   42512.3774,   76127.3753,   53655.9687,\n",
        "          7368.4146,  -13082.1513,    1118.3273]), array([  92399.44952831,   57902.64242267,  -15395.89605067,\n",
        "         57902.64242267,  131956.25431664,   13695.73338657,\n",
        "        -15395.89605067,   13695.73338657,    8521.18039793]), array([ 135453.1564,   77212.3058,   -8746.8818,   77212.3058,\n",
        "        255983.4451,   16631.7829,   -8746.8818,   16631.7829,  196820.8291]))\n",
        "('FGT.size, H.size, M', 9, 9, 3)\n",
        "('M * N, G.size, OOL, GAM.size', 9, 27, 9, 9)\n",
        "('CA, CB', array([ nan,  nan,  nan,  nan,  nan,  nan,  nan,  nan,  nan]), array([ -1.00000000e+00,  -3.98986399e-17,   0.00000000e+00,\n",
        "         8.67361738e-19,  -1.00000000e+00,   0.00000000e+00,\n",
        "         0.00000000e+00,   0.00000000e+00,  -1.00000000e+00]))\n",
        "('L, E[L], spur1, spur2', 1, 1.5988218205250313e+271, -9.4051881612926903e+276, 588257.43059999985)\n",
        "('M * N, G.size, OOL, GAM.size', 9, 27, 18, 9)\n",
        "('CA, CB', array([ nan,  nan,  nan,  nan,  nan,  nan,  nan,  nan,  nan]), array([ nan,  nan,  nan,  nan,  nan,  nan,  nan,  nan,  nan]))\n",
        "('L, E[L], spur1, spur2', 2, nan, nan, 588257.43059999985)\n",
        "('F.size', 27)\n",
        "('F.size', 27)\n",
        "('X.size', 297)\n",
        "('Y.size', 297)\n",
        "('M, N, LF, LX, LY', 3, 3, 2, 99, 100)\n",
        "('LA, LB, LC, NRA, NCB, LC', 2, 99, 100, 3, 1, 100)\n",
        "('A.shape, B.shape', (27,), (297,))\n"
       ]
      },
      {
       "output_type": "stream",
       "stream": "stderr",
       "text": [
        "ER.py:1762: RuntimeWarning: overflow encountered in double_scalars\n",
        "  B[IM] -= B[IJ] * A[JM] / EK\n",
        "ER.py:1754: RuntimeWarning: invalid value encountered in double_scalars\n",
        "  EK -= A[MI] * B[IJ] * A[JM]\n"
       ]
      },
      {
       "ename": "IndexError",
       "evalue": "index 297 is out of bounds for axis 0 with size 297",
       "output_type": "pyerr",
       "traceback": [
        "\u001b[0;31m---------------------------------------------------------------------------\u001b[0m\n\u001b[0;31mIndexError\u001b[0m                                Traceback (most recent call last)",
        "\u001b[0;32m<ipython-input-3-d634591201da>\u001b[0m in \u001b[0;36m<module>\u001b[0;34m()\u001b[0m\n\u001b[1;32m     15\u001b[0m \u001b[0mY\u001b[0m \u001b[0;34m=\u001b[0m \u001b[0mempty\u001b[0m\u001b[0;34m(\u001b[0m\u001b[0mM\u001b[0m \u001b[0;34m*\u001b[0m \u001b[0mLY\u001b[0m\u001b[0;34m)\u001b[0m\u001b[0;34m\u001b[0m\u001b[0m\n\u001b[1;32m     16\u001b[0m \u001b[0mS\u001b[0m \u001b[0;34m=\u001b[0m \u001b[0mempty\u001b[0m\u001b[0;34m(\u001b[0m\u001b[0mN\u001b[0m \u001b[0;34m*\u001b[0m \u001b[0mN\u001b[0m \u001b[0;34m*\u001b[0m \u001b[0;34m(\u001b[0m\u001b[0;36m5\u001b[0m \u001b[0;34m*\u001b[0m \u001b[0mLR\u001b[0m \u001b[0;34m+\u001b[0m \u001b[0;36m6\u001b[0m\u001b[0;34m)\u001b[0m \u001b[0;34m+\u001b[0m \u001b[0mM\u001b[0m \u001b[0;34m*\u001b[0m \u001b[0mN\u001b[0m \u001b[0;34m*\u001b[0m \u001b[0;34m(\u001b[0m\u001b[0mLR\u001b[0m \u001b[0;34m+\u001b[0m \u001b[0;36m2\u001b[0m\u001b[0;34m)\u001b[0m \u001b[0;34m+\u001b[0m \u001b[0;36m2\u001b[0m \u001b[0;34m*\u001b[0m \u001b[0mM\u001b[0m \u001b[0;34m*\u001b[0m \u001b[0mM\u001b[0m\u001b[0;34m)\u001b[0m\u001b[0;34m\u001b[0m\u001b[0m\n\u001b[0;32m---> 17\u001b[0;31m \u001b[0;34m(\u001b[0m\u001b[0mLF\u001b[0m\u001b[0;34m,\u001b[0m \u001b[0mF\u001b[0m\u001b[0;34m,\u001b[0m \u001b[0mE\u001b[0m\u001b[0;34m,\u001b[0m \u001b[0mLY\u001b[0m\u001b[0;34m,\u001b[0m \u001b[0mY\u001b[0m\u001b[0;34m,\u001b[0m \u001b[0mS\u001b[0m\u001b[0;34m)\u001b[0m \u001b[0;34m=\u001b[0m \u001b[0mER\u001b[0m\u001b[0;34m.\u001b[0m\u001b[0mWIENER_1\u001b[0m\u001b[0;34m(\u001b[0m\u001b[0mN\u001b[0m\u001b[0;34m,\u001b[0m \u001b[0mLX\u001b[0m\u001b[0;34m,\u001b[0m \u001b[0mX\u001b[0m\u001b[0;34m,\u001b[0m \u001b[0mM\u001b[0m\u001b[0;34m,\u001b[0m \u001b[0mLZ\u001b[0m\u001b[0;34m,\u001b[0m \u001b[0mZ\u001b[0m\u001b[0;34m,\u001b[0m \u001b[0mLR\u001b[0m\u001b[0;34m,\u001b[0m \u001b[0mLW\u001b[0m\u001b[0;34m,\u001b[0m \u001b[0mFLOOR\u001b[0m\u001b[0;34m,\u001b[0m \u001b[0mLF\u001b[0m\u001b[0;34m,\u001b[0m \u001b[0mF\u001b[0m\u001b[0;34m,\u001b[0m \u001b[0mE\u001b[0m\u001b[0;34m,\u001b[0m \u001b[0mLY\u001b[0m\u001b[0;34m,\u001b[0m \u001b[0mY\u001b[0m\u001b[0;34m,\u001b[0m \u001b[0mS\u001b[0m\u001b[0;34m)\u001b[0m\u001b[0;34m\u001b[0m\u001b[0m\n\u001b[0m\u001b[1;32m     18\u001b[0m \u001b[0;32mprint\u001b[0m\u001b[0;34m(\u001b[0m\u001b[0mF\u001b[0m\u001b[0;34m)\u001b[0m\u001b[0;34m\u001b[0m\u001b[0m\n",
        "\u001b[0;32m/Users/becqg/Documents/code/Robinson/ER.pyc\u001b[0m in \u001b[0;36mWIENER_1\u001b[0;34m(N, LX, X, M, LZ, Z, LR, LW, FLOOR, LF, F, E, LY, Y, S)\u001b[0m\n\u001b[1;32m    317\u001b[0m     \u001b[0;32mprint\u001b[0m\u001b[0;34m(\u001b[0m\u001b[0;34m\"Y.size\"\u001b[0m\u001b[0;34m,\u001b[0m \u001b[0mY\u001b[0m\u001b[0;34m.\u001b[0m\u001b[0msize\u001b[0m\u001b[0;34m)\u001b[0m\u001b[0;34m\u001b[0m\u001b[0m\n\u001b[1;32m    318\u001b[0m     \u001b[0;32mprint\u001b[0m\u001b[0;34m(\u001b[0m\u001b[0;34m\"M, N, LF, LX, LY\"\u001b[0m\u001b[0;34m,\u001b[0m \u001b[0mM\u001b[0m\u001b[0;34m,\u001b[0m \u001b[0mN\u001b[0m\u001b[0;34m,\u001b[0m \u001b[0mLF\u001b[0m\u001b[0;34m,\u001b[0m \u001b[0mLX\u001b[0m\u001b[0;34m,\u001b[0m \u001b[0mLY\u001b[0m\u001b[0;34m)\u001b[0m\u001b[0;34m\u001b[0m\u001b[0m\n\u001b[0;32m--> 319\u001b[0;31m     \u001b[0mY\u001b[0m \u001b[0;34m=\u001b[0m \u001b[0mBRAINY\u001b[0m\u001b[0;34m(\u001b[0m\u001b[0mM\u001b[0m\u001b[0;34m,\u001b[0m \u001b[0mN\u001b[0m\u001b[0;34m,\u001b[0m \u001b[0mLF\u001b[0m\u001b[0;34m,\u001b[0m \u001b[0mF\u001b[0m\u001b[0;34m,\u001b[0m \u001b[0mN\u001b[0m\u001b[0;34m,\u001b[0m \u001b[0;36m1\u001b[0m\u001b[0;34m,\u001b[0m \u001b[0mLX\u001b[0m\u001b[0;34m,\u001b[0m \u001b[0mX\u001b[0m\u001b[0;34m,\u001b[0m \u001b[0mY\u001b[0m\u001b[0;34m)\u001b[0m\u001b[0;34m\u001b[0m\u001b[0m\n\u001b[0m\u001b[1;32m    320\u001b[0m     \u001b[0;32mprint\u001b[0m\u001b[0;34m(\u001b[0m\u001b[0mY\u001b[0m\u001b[0;34m.\u001b[0m\u001b[0msize\u001b[0m\u001b[0;34m)\u001b[0m\u001b[0;34m\u001b[0m\u001b[0m\n\u001b[1;32m    321\u001b[0m     \u001b[0;32mreturn\u001b[0m \u001b[0;34m(\u001b[0m\u001b[0mLF\u001b[0m\u001b[0;34m,\u001b[0m \u001b[0mF\u001b[0m\u001b[0;34m,\u001b[0m \u001b[0mE\u001b[0m\u001b[0;34m,\u001b[0m \u001b[0mLY\u001b[0m\u001b[0;34m,\u001b[0m \u001b[0mY\u001b[0m\u001b[0;34m,\u001b[0m \u001b[0mS\u001b[0m\u001b[0;34m)\u001b[0m\u001b[0;34m\u001b[0m\u001b[0m\n",
        "\u001b[0;32m/Users/becqg/Documents/code/Robinson/ER.pyc\u001b[0m in \u001b[0;36mBRAINY\u001b[0;34m(NRA, NCA, LA, A, NRB, NCB, LB, B, C)\u001b[0m\n\u001b[1;32m   1912\u001b[0m     \u001b[0;32mprint\u001b[0m\u001b[0;34m(\u001b[0m\u001b[0;34m\"LA, LB, LC, NRA, NCB, LC\"\u001b[0m\u001b[0;34m,\u001b[0m \u001b[0mLA\u001b[0m\u001b[0;34m,\u001b[0m \u001b[0mLB\u001b[0m\u001b[0;34m,\u001b[0m \u001b[0mLC\u001b[0m\u001b[0;34m,\u001b[0m \u001b[0mNRA\u001b[0m\u001b[0;34m,\u001b[0m \u001b[0mNCB\u001b[0m\u001b[0;34m,\u001b[0m \u001b[0mLC\u001b[0m\u001b[0;34m)\u001b[0m\u001b[0;34m\u001b[0m\u001b[0m\n\u001b[1;32m   1913\u001b[0m     \u001b[0;32mprint\u001b[0m\u001b[0;34m(\u001b[0m\u001b[0;34m\"A.shape, B.shape\"\u001b[0m\u001b[0;34m,\u001b[0m \u001b[0mA\u001b[0m\u001b[0;34m.\u001b[0m\u001b[0mshape\u001b[0m\u001b[0;34m,\u001b[0m \u001b[0mB\u001b[0m\u001b[0;34m.\u001b[0m\u001b[0mshape\u001b[0m\u001b[0;34m)\u001b[0m\u001b[0;34m\u001b[0m\u001b[0m\n\u001b[0;32m-> 1914\u001b[0;31m     \u001b[0mC\u001b[0m \u001b[0;34m=\u001b[0m \u001b[0mZERO\u001b[0m\u001b[0;34m(\u001b[0m\u001b[0mNRA\u001b[0m \u001b[0;34m*\u001b[0m \u001b[0mNCB\u001b[0m \u001b[0;34m*\u001b[0m \u001b[0mLC\u001b[0m\u001b[0;34m,\u001b[0m \u001b[0mC\u001b[0m\u001b[0;34m)\u001b[0m\u001b[0;34m\u001b[0m\u001b[0m\n\u001b[0m\u001b[1;32m   1915\u001b[0m     \u001b[0;32mfor\u001b[0m \u001b[0mI\u001b[0m \u001b[0;32min\u001b[0m \u001b[0mrange\u001b[0m\u001b[0;34m(\u001b[0m\u001b[0mLA\u001b[0m\u001b[0;34m)\u001b[0m\u001b[0;34m:\u001b[0m\u001b[0;34m\u001b[0m\u001b[0m\n\u001b[1;32m   1916\u001b[0m         \u001b[0;32mfor\u001b[0m \u001b[0mJ\u001b[0m \u001b[0;32min\u001b[0m \u001b[0mrange\u001b[0m\u001b[0;34m(\u001b[0m\u001b[0mLB\u001b[0m\u001b[0;34m)\u001b[0m\u001b[0;34m:\u001b[0m\u001b[0;34m\u001b[0m\u001b[0m\n",
        "\u001b[0;32m/Users/becqg/Documents/code/Robinson/ER.pyc\u001b[0m in \u001b[0;36mZERO\u001b[0;34m(LX, X)\u001b[0m\n\u001b[1;32m    442\u001b[0m         \u001b[0;32mreturn\u001b[0m\u001b[0;34m\u001b[0m\u001b[0m\n\u001b[1;32m    443\u001b[0m     \u001b[0;32mfor\u001b[0m \u001b[0mI\u001b[0m \u001b[0;32min\u001b[0m \u001b[0mrange\u001b[0m\u001b[0;34m(\u001b[0m\u001b[0mLX\u001b[0m\u001b[0;34m)\u001b[0m\u001b[0;34m:\u001b[0m\u001b[0;34m\u001b[0m\u001b[0m\n\u001b[0;32m--> 444\u001b[0;31m         \u001b[0mX\u001b[0m\u001b[0;34m[\u001b[0m\u001b[0mI\u001b[0m\u001b[0;34m]\u001b[0m \u001b[0;34m=\u001b[0m \u001b[0;36m0\u001b[0m\u001b[0;34m\u001b[0m\u001b[0m\n\u001b[0m\u001b[1;32m    445\u001b[0m     \u001b[0;32mreturn\u001b[0m \u001b[0mX\u001b[0m\u001b[0;34m\u001b[0m\u001b[0m\n\u001b[1;32m    446\u001b[0m \u001b[0;31m#_______________________________________________________________________________\u001b[0m\u001b[0;34m\u001b[0m\u001b[0;34m\u001b[0m\u001b[0m\n",
        "\u001b[0;31mIndexError\u001b[0m: index 297 is out of bounds for axis 0 with size 297"
       ]
      }
     ],
     "prompt_number": 3
    },
    {
     "cell_type": "code",
     "collapsed": false,
     "input": [],
     "language": "python",
     "metadata": {},
     "outputs": [],
     "prompt_number": 86
    },
    {
     "cell_type": "code",
     "collapsed": false,
     "input": [],
     "language": "python",
     "metadata": {},
     "outputs": []
    }
   ],
   "metadata": {}
  }
 ]
}