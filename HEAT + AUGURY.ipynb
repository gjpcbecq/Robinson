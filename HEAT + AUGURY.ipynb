{
 "metadata": {
  "name": "",
  "signature": "sha256:59aa6d1f1afcc3532633de69467e4032cf971d4b7fdd9ab614620b15d38d5640"
 },
 "nbformat": 3,
 "nbformat_minor": 0,
 "worksheets": [
  {
   "cells": [
    {
     "cell_type": "code",
     "collapsed": false,
     "input": [
      "%pylab inline"
     ],
     "language": "python",
     "metadata": {},
     "outputs": [
      {
       "output_type": "stream",
       "stream": "stdout",
       "text": [
        "Populating the interactive namespace from numpy and matplotlib\n"
       ]
      }
     ],
     "prompt_number": 1
    },
    {
     "cell_type": "code",
     "collapsed": false,
     "input": [
      "import sys\n",
      "sys.path.append(\"/Users/becqg/Documents/code/Robinson\")\n",
      "import ER\n",
      "import imp"
     ],
     "language": "python",
     "metadata": {},
     "outputs": [],
     "prompt_number": 2
    },
    {
     "cell_type": "markdown",
     "metadata": {},
     "source": [
      "<h2> HEAT </h2>\n",
      "\n",
      "p. 207"
     ]
    },
    {
     "cell_type": "code",
     "collapsed": false,
     "input": [
      "imp.reload(ER)\n",
      "X = numpy.array([1., 0, 0, 1, -2, 0, 6, -4])\n",
      "Y = numpy.array([1., 0, 0, 1, -2, 0, 6, -4])\n",
      "LX = 2\n",
      "LY = LX\n",
      "LG = 3\n",
      "NRX = 2\n",
      "NRY = 2\n",
      "NCX = 2\n",
      "NCY = 2\n",
      "G = numpy.zeros(NRX * NRY * LG)\n",
      "R = ER.HEAT(NRX, NCX, LX, X, NRY, NCY, LY, Y, LG, G)\n",
      "print(R)"
     ],
     "language": "python",
     "metadata": {},
     "outputs": [
      {
       "output_type": "stream",
       "stream": "stdout",
       "text": [
        "[ 41. -24. -24.  17.  -2.   0.   6.  -4.   0.   0.   0.   0.]\n"
       ]
      }
     ],
     "prompt_number": 5
    },
    {
     "cell_type": "markdown",
     "metadata": {},
     "source": [
      "<h2> AUGURY </h2>"
     ]
    },
    {
     "cell_type": "code",
     "collapsed": false,
     "input": [
      "pricesCDC = numpy.array([33.5, 33.5, 34.25, 37, \n",
      "          39, 43, 41.5, 39.25, \n",
      "          38.75, 38.25, 38.125, 38.625, 37.5, \n",
      "          33, 32.75, 30.5, 28.875, \n",
      "          29.375, 28.75, 32.375, 31.625, \n",
      "          29.75, 28.75, 27.625, 28, \n",
      "          26.875, 28.625, 29.5, 30, 29.125, \n",
      "          32.875, 28.5, 28.375, 30.125, \n",
      "          30.75, 34.625, 37.25])"
     ],
     "language": "python",
     "metadata": {},
     "outputs": [],
     "prompt_number": 4
    },
    {
     "cell_type": "code",
     "collapsed": false,
     "input": [
      "print(pricesCDC)"
     ],
     "language": "python",
     "metadata": {},
     "outputs": [
      {
       "output_type": "stream",
       "stream": "stdout",
       "text": [
        "[ 33.5    33.5    34.25   37.     39.     43.     41.5    39.25   38.75\n",
        "  38.25   38.125  38.625  37.5    33.     32.75   30.5    28.875  29.375\n",
        "  28.75   32.375  31.625  29.75   28.75   27.625  28.     26.875  28.625\n",
        "  29.5    30.     29.125  32.875  28.5    28.375  30.125  30.75   34.625\n",
        "  37.25 ]\n"
       ]
      }
     ],
     "prompt_number": 5
    },
    {
     "cell_type": "code",
     "collapsed": false,
     "input": [
      "imp.reload(ER)\n",
      "LX = 37\n",
      "X = pricesCDC.copy()\n",
      "(X, mX) = ER.REMAV(LX, X)\n",
      "print(\"mX : {0}\".format(mX))\n",
      "N = 1\n",
      "SPIKE = 0.0\n",
      "FLOOR = 0.0001\n",
      "npr = numpy.round\n",
      "LR = 2\n",
      "R = numpy.zeros((N*N*LR, ))\n",
      "LF = LR\n",
      "F = numpy.zeros((N*N*LR, ))\n",
      "LY = LX + LR - 1\n",
      "Y = numpy.zeros((N * LY, ))\n",
      "ERROR = numpy.zeros((LR, ))\n",
      "(R, LF, F, LY, Y, ERROR) = ER.AUGURY(N, LX, X, LR, R, SPIKE, FLOOR, LF, F, LY, Y, ERROR)\n",
      "print(npr(R, 0), npr(F, 2), round(Y[LX], 2), npr(ERROR, 3))\n",
      "Y0 = Y\n",
      "Y0b = Y.copy()\n",
      "\n",
      "LR = 3\n",
      "R = numpy.zeros((N*N*LR, ))\n",
      "LF = LR\n",
      "F = numpy.zeros((N*N*LR, ))\n",
      "LY = LX + LR - 1\n",
      "Y = numpy.zeros((N * LY, ))\n",
      "ERROR = numpy.zeros((LR, ))\n",
      "(R, LF, F, LY, Y, ERROR) = ER.AUGURY(N, LX, X, LR, R, SPIKE, FLOOR, LF, F, LY, Y, ERROR)\n",
      "print(npr(R, 0), npr(F, 2), round(Y[LX], 2), npr(ERROR, 3))\n",
      "Y1 = Y\n",
      "Y1b = Y.copy()\n",
      "\n",
      "LR = 4\n",
      "R = numpy.zeros((N*N*LR, ))\n",
      "LF = LR\n",
      "F = numpy.zeros((N*N*LR, ))\n",
      "LY = LX + LR - 1\n",
      "Y = numpy.zeros((N * LY, ))\n",
      "ERROR = numpy.zeros((LR, ))\n",
      "(R, LF, F, LY, Y, ERROR) = ER.AUGURY(N, LX, X, LR, R, SPIKE, FLOOR, LF, F, LY, Y, ERROR)\n",
      "print(npr(R, 0), npr(F, 2), round(Y[LX], 2), npr(ERROR, 3))\n",
      "Y2 = Y\n",
      "Y2b = Y.copy()\n",
      "\n",
      "LR = 10\n",
      "R = numpy.zeros((N*N*LR, ))\n",
      "LF = LR\n",
      "F = numpy.zeros((N*N*LR, ))\n",
      "LY = LX + LR - 1\n",
      "Y = numpy.zeros((N * LY, ))\n",
      "ERROR = numpy.zeros((LR, ))\n",
      "(R, LF, F, LY, Y, ERROR) = ER.AUGURY(N, LX, X, LR, R, SPIKE, FLOOR, LF, F, LY, Y, ERROR)\n",
      "print(npr(R, 0), npr(F, 2), round(Y[LX], 2), npr(ERROR, 3))\n",
      "Y3 = Y\n",
      "Y3b = Y.copy()\n",
      "\n",
      "\n"
     ],
     "language": "python",
     "metadata": {},
     "outputs": [
      {
       "output_type": "stream",
       "stream": "stdout",
       "text": [
        "mX : 32.9797297297\n",
        "(array([ 712.,  628.]), array([ 1.  , -0.88]), -3.76, array([ 1.   ,  0.223]))\n",
        "(array([ 712.,  628.,  539.]), array([ 1.  , -0.96,  0.09]), -3.95, array([ 1.   ,  0.223,  0.221]))\n",
        "(array([ 712.,  628.,  539.,  451.]), array([ 1.  , -0.95,  0.03,  0.07]), -4.19, array([ 1.   ,  0.223,  0.221,  0.22 ]))\n",
        "(array([ 712.,  628.,  539.,  451.,  360.,  311.,  265.,  191.,  121.,   39.]), array([ 1.  , -0.94, -0.  ,  0.01,  0.25, -0.19, -0.19,  0.19, -0.04,  0.1 ]), -3.21, array([ 1.   ,  0.223,  0.221,  0.22 ,  0.219,  0.212,  0.211,  0.198,\n",
        "        0.198,  0.196]))\n"
       ]
      }
     ],
     "prompt_number": 9
    },
    {
     "cell_type": "code",
     "collapsed": false,
     "input": [
      "plot(X)\n",
      "plot(Y0+1, 'r:')\n",
      "plot(Y0b, 'r')\n",
      "plot(Y1+1, 'm:')\n",
      "plot(Y1b, 'm')\n",
      "plot(Y2+1, 'k:')\n",
      "plot(Y2b, 'k')\n",
      "plot(Y3, 'g')\n",
      "\n",
      "\n",
      "\n",
      "\n"
     ],
     "language": "python",
     "metadata": {},
     "outputs": [
      {
       "metadata": {},
       "output_type": "pyout",
       "prompt_number": 176,
       "text": [
        "[<matplotlib.lines.Line2D at 0x110f242d0>]"
       ]
      },
      {
       "metadata": {},
       "output_type": "display_data",
       "png": "[encoded data removed]",
       "text": [
        "<matplotlib.figure.Figure at 0x110dd4650>"
       ]
      }
     ],
     "prompt_number": 176
    },
    {
     "cell_type": "code",
     "collapsed": false,
     "input": [],
     "language": "python",
     "metadata": {},
     "outputs": []
    }
   ],
   "metadata": {}
  }
 ]
}