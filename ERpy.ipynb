{
 "metadata": {
  "name": "",
  "signature": "sha256:3d4cbc57e4056e36750adf386c3754a0fb9db5652fe782a61d6988f52c5572dc"
 },
 "nbformat": 3,
 "nbformat_minor": 0,
 "worksheets": [
  {
   "cells": [
    {
     "cell_type": "code",
     "collapsed": false,
     "input": [
      "%pylab inline\n",
      "import sys\n",
      "# sys.path.append(\"/Users/becqg/Documents/code/Robinson\")\n",
      "sys.path.append(\"C:\\Users\\Guillaume\\Documents\\projets\\code\\Robinson\")\n",
      "import ER\n",
      "import ERpy\n",
      "import imp"
     ],
     "language": "python",
     "metadata": {},
     "outputs": [
      {
       "output_type": "stream",
       "stream": "stdout",
       "text": [
        "Populating the interactive namespace from numpy and matplotlib\n"
       ]
      }
     ],
     "prompt_number": 73
    },
    {
     "cell_type": "markdown",
     "metadata": {},
     "source": [
      "<h2> getTraceMode, getMultiplexedMode, TMTOMM, MMTOTM </h2>"
     ]
    },
    {
     "cell_type": "code",
     "collapsed": false,
     "input": [
      "imp.reload(ERpy)\n",
      "X = array([1., 11, 21, 2, 12, 22, 3, 13, 23, 4, 14, 24, 5, 15, 25])\n",
      "N = 3\n",
      "LX = 5\n",
      "Y = ERpy.getTraceMode(N, LX, X)\n",
      "Z = ERpy.getMultiplexedMode(N, LX, Y)\n",
      "print(numpy.round(X, 2))\n",
      "print(numpy.round(Y, 2))\n",
      "print(numpy.round(Z, 2))\n",
      "Y = ERpy.MMTOTM(N, LX, X)\n",
      "Z = ERpy.TMTOMM(N, LX, Y)\n",
      "print(numpy.round(X, 2))\n",
      "print(numpy.round(Y, 2))\n",
      "print(numpy.round(Z, 2))"
     ],
     "language": "python",
     "metadata": {},
     "outputs": [
      {
       "output_type": "stream",
       "stream": "stdout",
       "text": [
        "[  1.  11.  21.   2.  12.  22.   3.  13.  23.   4.  14.  24.   5.  15.  25.]\n",
        "[  1.   2.   3.   4.   5.  11.  12.  13.  14.  15.  21.  22.  23.  24.  25.]\n",
        "[  1.  11.  21.   2.  12.  22.   3.  13.  23.   4.  14.  24.   5.  15.  25.]\n",
        "[  1.  11.  21.   2.  12.  22.   3.  13.  23.   4.  14.  24.   5.  15.  25.]\n",
        "[  1.   2.   3.   4.   5.  11.  12.  13.  14.  15.  21.  22.  23.  24.  25.]\n",
        "[  1.  11.  21.   2.  12.  22.   3.  13.  23.   4.  14.  24.   5.  15.  25.]\n"
       ]
      }
     ],
     "prompt_number": 51
    },
    {
     "cell_type": "code",
     "collapsed": false,
     "input": [
      "imp.reload(ERpy)\n",
      "X = array([[1., 2, 3, 4, 5], [11, 12, 13, 14, 15], [21, 22, 23, 24, 25]])\n",
      "print(X)\n",
      "Y = X.flatten()\n",
      "print(Y)\n",
      "print(Y.shape)\n",
      "Z = ERpy.getMultiplexedMode(3, 5, Y)\n",
      "print(Z)"
     ],
     "language": "python",
     "metadata": {},
     "outputs": [
      {
       "output_type": "stream",
       "stream": "stdout",
       "text": [
        "[[  1.   2.   3.   4.   5.]\n",
        " [ 11.  12.  13.  14.  15.]\n",
        " [ 21.  22.  23.  24.  25.]]\n",
        "[  1.   2.   3.   4.   5.  11.  12.  13.  14.  15.  21.  22.  23.  24.  25.]\n",
        "(15,)\n",
        "[  1.  11.  21.   2.  12.  22.   3.  13.  23.   4.  14.  24.   5.  15.  25.]\n"
       ]
      }
     ],
     "prompt_number": 43
    },
    {
     "cell_type": "markdown",
     "metadata": {},
     "source": [
      "<h2> NDTOMM, NDTOTM, MMTOND, TMTOND </h2>"
     ]
    },
    {
     "cell_type": "code",
     "collapsed": false,
     "input": [
      "imp.reload(ERpy)\n",
      "X = array([[1., 2, 3, 4, 5], [11, 12, 13, 14, 15], [21, 22, 23, 24, 25]])\n",
      "print(X)\n",
      "print(numpy.ravel(X, 'K'))\n",
      "(N, LX, X) = ERpy.NDTOMM(X)\n",
      "print(X)\n",
      "print(numpy.ravel(X, 'K'))\n",
      "X = ERpy.MMTOND(N, LX, X)\n",
      "print(X)\n",
      "print(numpy.ravel(X, 'K'))\n",
      "(N, LX, X) = ERpy.NDTOTM(X)\n",
      "print(X)\n",
      "print(numpy.ravel(X, 'K'))\n",
      "X = ERpy.TMTOND(N, LX, X)\n",
      "print(X)\n",
      "print(numpy.ravel(X, 'K'))"
     ],
     "language": "python",
     "metadata": {},
     "outputs": [
      {
       "output_type": "stream",
       "stream": "stdout",
       "text": [
        "[[  1.   2.   3.   4.   5.]\n",
        " [ 11.  12.  13.  14.  15.]\n",
        " [ 21.  22.  23.  24.  25.]]\n",
        "[  1.   2.   3.   4.   5.  11.  12.  13.  14.  15.  21.  22.  23.  24.  25.]\n",
        "[  1.  11.  21.   2.  12.  22.   3.  13.  23.   4.  14.  24.   5.  15.  25.]\n",
        "[  1.  11.  21.   2.  12.  22.   3.  13.  23.   4.  14.  24.   5.  15.  25.]\n",
        "[[  1.   2.   3.   4.   5.]\n",
        " [ 11.  12.  13.  14.  15.]\n",
        " [ 21.  22.  23.  24.  25.]]\n",
        "[  1.   2.   3.   4.   5.  11.  12.  13.  14.  15.  21.  22.  23.  24.  25.]\n",
        "[  1.   2.   3.   4.   5.  11.  12.  13.  14.  15.  21.  22.  23.  24.  25.]\n",
        "[  1.   2.   3.   4.   5.  11.  12.  13.  14.  15.  21.  22.  23.  24.  25.]\n",
        "[[  1.   2.   3.   4.   5.]\n",
        " [ 11.  12.  13.  14.  15.]\n",
        " [ 21.  22.  23.  24.  25.]]\n",
        "[  1.   2.   3.   4.   5.  11.  12.  13.  14.  15.  21.  22.  23.  24.  25.]\n"
       ]
      }
     ],
     "prompt_number": 58
    },
    {
     "cell_type": "code",
     "collapsed": false,
     "input": [
      "imp.reload(ERpy)\n",
      "X0 = arange(0, 300).reshape(3, -1)\n",
      "Z0 = empty((3, 90))\n",
      "plot(X0.T)\n",
      "Z0[0, :] = 0.3 * X0[1, 10:]\n",
      "Z0[1, :] = 0.5 * X0[2, 10:]\n",
      "Z0[2, :] = 0.7 * X0[0, 10:]\n",
      "plot(Y0.T)\n",
      "(NX, LX, X) = ERpy.NDTOMM(X0[:, :90])\n",
      "(NZ, LZ, Z) = ERpy.NDTOMM(Z0[:2, :90])\n",
      "\n",
      "(F, Y, E) = ERpy.WIENER(NX, LX, X, NZ, LZ, Z, 10, 0, 0)\n",
      "\n",
      "print(Y)"
     ],
     "language": "python",
     "metadata": {},
     "outputs": [
      {
       "ename": "ValueError",
       "evalue": "cannot slice a 0-d array",
       "output_type": "pyerr",
       "traceback": [
        "\u001b[0;31m---------------------------------------------------------------------------\u001b[0m\n\u001b[0;31mValueError\u001b[0m                                Traceback (most recent call last)",
        "\u001b[0;32m<ipython-input-97-d09d5cb324aa>\u001b[0m in \u001b[0;36m<module>\u001b[0;34m()\u001b[0m\n\u001b[1;32m     10\u001b[0m \u001b[0;34m(\u001b[0m\u001b[0mNZ\u001b[0m\u001b[0;34m,\u001b[0m \u001b[0mLZ\u001b[0m\u001b[0;34m,\u001b[0m \u001b[0mZ\u001b[0m\u001b[0;34m)\u001b[0m \u001b[0;34m=\u001b[0m \u001b[0mERpy\u001b[0m\u001b[0;34m.\u001b[0m\u001b[0mNDTOMM\u001b[0m\u001b[0;34m(\u001b[0m\u001b[0mZ0\u001b[0m\u001b[0;34m[\u001b[0m\u001b[0;34m:\u001b[0m\u001b[0;36m2\u001b[0m\u001b[0;34m,\u001b[0m \u001b[0;34m:\u001b[0m\u001b[0;36m90\u001b[0m\u001b[0;34m]\u001b[0m\u001b[0;34m)\u001b[0m\u001b[0;34m\u001b[0m\u001b[0m\n\u001b[1;32m     11\u001b[0m \u001b[0;34m\u001b[0m\u001b[0m\n\u001b[0;32m---> 12\u001b[0;31m \u001b[0;34m(\u001b[0m\u001b[0mF\u001b[0m\u001b[0;34m,\u001b[0m \u001b[0mY\u001b[0m\u001b[0;34m,\u001b[0m \u001b[0mE\u001b[0m\u001b[0;34m)\u001b[0m \u001b[0;34m=\u001b[0m \u001b[0mERpy\u001b[0m\u001b[0;34m.\u001b[0m\u001b[0mWIENER\u001b[0m\u001b[0;34m(\u001b[0m\u001b[0mNX\u001b[0m\u001b[0;34m,\u001b[0m \u001b[0mLX\u001b[0m\u001b[0;34m,\u001b[0m \u001b[0mX\u001b[0m\u001b[0;34m,\u001b[0m \u001b[0mNZ\u001b[0m\u001b[0;34m,\u001b[0m \u001b[0mLZ\u001b[0m\u001b[0;34m,\u001b[0m \u001b[0mZ\u001b[0m\u001b[0;34m,\u001b[0m \u001b[0;36m10\u001b[0m\u001b[0;34m,\u001b[0m \u001b[0;36m0\u001b[0m\u001b[0;34m,\u001b[0m \u001b[0;36m0\u001b[0m\u001b[0;34m)\u001b[0m\u001b[0;34m\u001b[0m\u001b[0m\n\u001b[0m\u001b[1;32m     13\u001b[0m \u001b[0;34m\u001b[0m\u001b[0m\n\u001b[1;32m     14\u001b[0m \u001b[0;32mprint\u001b[0m\u001b[0;34m(\u001b[0m\u001b[0mY\u001b[0m\u001b[0;34m)\u001b[0m\u001b[0;34m\u001b[0m\u001b[0m\n",
        "\u001b[0;32m/Users/becqg/Documents/code/Robinson/ERpy.py\u001b[0m in \u001b[0;36mWIENER\u001b[0;34m(N, LX, X, M, LZ, Z, LR, LW, FLOOR)\u001b[0m\n\u001b[1;32m     74\u001b[0m     \u001b[0mLS\u001b[0m \u001b[0;34m=\u001b[0m \u001b[0mN\u001b[0m \u001b[0;34m*\u001b[0m \u001b[0mN\u001b[0m \u001b[0;34m*\u001b[0m \u001b[0;34m(\u001b[0m\u001b[0;36m5\u001b[0m \u001b[0;34m*\u001b[0m \u001b[0mLR\u001b[0m \u001b[0;34m+\u001b[0m \u001b[0;36m6\u001b[0m\u001b[0;34m)\u001b[0m \u001b[0;34m+\u001b[0m \u001b[0mM\u001b[0m \u001b[0;34m*\u001b[0m \u001b[0mN\u001b[0m \u001b[0;34m*\u001b[0m \u001b[0;34m(\u001b[0m\u001b[0mLR\u001b[0m \u001b[0;34m+\u001b[0m \u001b[0;36m2\u001b[0m\u001b[0;34m)\u001b[0m \u001b[0;34m+\u001b[0m \u001b[0;36m2\u001b[0m \u001b[0;34m*\u001b[0m \u001b[0mM\u001b[0m \u001b[0;34m*\u001b[0m \u001b[0mM\u001b[0m\u001b[0;34m\u001b[0m\u001b[0m\n\u001b[1;32m     75\u001b[0m     \u001b[0mS\u001b[0m \u001b[0;34m=\u001b[0m \u001b[0mnumpy\u001b[0m\u001b[0;34m.\u001b[0m\u001b[0marray\u001b[0m\u001b[0;34m(\u001b[0m\u001b[0mLS\u001b[0m\u001b[0;34m)\u001b[0m\u001b[0;34m\u001b[0m\u001b[0m\n\u001b[0;32m---> 76\u001b[0;31m     \u001b[0;34m(\u001b[0m\u001b[0mLF\u001b[0m\u001b[0;34m,\u001b[0m \u001b[0mF\u001b[0m\u001b[0;34m,\u001b[0m \u001b[0mE\u001b[0m\u001b[0;34m,\u001b[0m \u001b[0mLY\u001b[0m\u001b[0;34m,\u001b[0m \u001b[0mY\u001b[0m\u001b[0;34m,\u001b[0m \u001b[0mS\u001b[0m\u001b[0;34m)\u001b[0m \u001b[0;34m=\u001b[0m \u001b[0mER\u001b[0m\u001b[0;34m.\u001b[0m\u001b[0mWIENER_1\u001b[0m\u001b[0;34m(\u001b[0m\u001b[0mN\u001b[0m\u001b[0;34m,\u001b[0m \u001b[0mLX\u001b[0m\u001b[0;34m,\u001b[0m \u001b[0mX\u001b[0m\u001b[0;34m,\u001b[0m \u001b[0mM\u001b[0m\u001b[0;34m,\u001b[0m \u001b[0mLZ\u001b[0m\u001b[0;34m,\u001b[0m \u001b[0mZ\u001b[0m\u001b[0;34m,\u001b[0m \u001b[0mLR\u001b[0m\u001b[0;34m,\u001b[0m \u001b[0mLW\u001b[0m\u001b[0;34m,\u001b[0m \u001b[0mFLOOR\u001b[0m\u001b[0;34m,\u001b[0m \u001b[0mLF\u001b[0m\u001b[0;34m,\u001b[0m \u001b[0mF\u001b[0m\u001b[0;34m,\u001b[0m \u001b[0mE\u001b[0m\u001b[0;34m,\u001b[0m \u001b[0mLY\u001b[0m\u001b[0;34m,\u001b[0m \u001b[0mY\u001b[0m\u001b[0;34m,\u001b[0m \u001b[0mS\u001b[0m\u001b[0;34m)\u001b[0m\u001b[0;34m\u001b[0m\u001b[0m\n\u001b[0m\u001b[1;32m     77\u001b[0m \u001b[0;34m\u001b[0m\u001b[0m\n\u001b[1;32m     78\u001b[0m     \u001b[0;32mreturn\u001b[0m \u001b[0;34m(\u001b[0m\u001b[0mF\u001b[0m\u001b[0;34m,\u001b[0m \u001b[0mY\u001b[0m\u001b[0;34m,\u001b[0m \u001b[0mE\u001b[0m\u001b[0;34m)\u001b[0m\u001b[0;34m\u001b[0m\u001b[0m\n",
        "\u001b[0;32m/Users/becqg/Documents/code/Robinson/ER.pyc\u001b[0m in \u001b[0;36mWIENER_1\u001b[0;34m(N, LX, X, M, LZ, Z, LR, LW, FLOOR, LF, F, E, LY, Y, S)\u001b[0m\n\u001b[1;32m    273\u001b[0m     \u001b[0mIH\u001b[0m \u001b[0;34m=\u001b[0m \u001b[0mIGAM\u001b[0m \u001b[0;34m+\u001b[0m \u001b[0mMN\u001b[0m\u001b[0;34m\u001b[0m\u001b[0m\n\u001b[1;32m    274\u001b[0m     \u001b[0mIFGT\u001b[0m \u001b[0;34m=\u001b[0m \u001b[0mIH\u001b[0m \u001b[0;34m+\u001b[0m \u001b[0mM\u001b[0m \u001b[0;34m*\u001b[0m \u001b[0mM\u001b[0m\u001b[0;34m\u001b[0m\u001b[0m\n\u001b[0;32m--> 275\u001b[0;31m     \u001b[0mS\u001b[0m\u001b[0;34m[\u001b[0m\u001b[0mIH\u001b[0m \u001b[0;34m-\u001b[0m \u001b[0;36m1\u001b[0m\u001b[0;34m:\u001b[0m \u001b[0;34m]\u001b[0m \u001b[0;34m=\u001b[0m \u001b[0mHEAT\u001b[0m\u001b[0;34m(\u001b[0m\u001b[0mM\u001b[0m\u001b[0;34m,\u001b[0m \u001b[0;36m1\u001b[0m\u001b[0;34m,\u001b[0m \u001b[0mLZ\u001b[0m\u001b[0;34m,\u001b[0m \u001b[0mZ\u001b[0m\u001b[0;34m,\u001b[0m \u001b[0mM\u001b[0m\u001b[0;34m,\u001b[0m \u001b[0;36m1\u001b[0m\u001b[0;34m,\u001b[0m \u001b[0mLZ\u001b[0m\u001b[0;34m,\u001b[0m \u001b[0mZ\u001b[0m\u001b[0;34m,\u001b[0m \u001b[0;36m1\u001b[0m\u001b[0;34m,\u001b[0m \u001b[0mS\u001b[0m\u001b[0;34m[\u001b[0m\u001b[0mIH\u001b[0m \u001b[0;34m-\u001b[0m \u001b[0;36m1\u001b[0m\u001b[0;34m:\u001b[0m \u001b[0;34m]\u001b[0m\u001b[0;34m)\u001b[0m\u001b[0;34m\u001b[0m\u001b[0m\n\u001b[0m\u001b[1;32m    276\u001b[0m     \u001b[0;31m# print(Z, S[IH: IH + M * M])\u001b[0m\u001b[0;34m\u001b[0m\u001b[0;34m\u001b[0m\u001b[0m\n\u001b[1;32m    277\u001b[0m     \u001b[0;32mif\u001b[0m \u001b[0;34m(\u001b[0m\u001b[0mLW\u001b[0m \u001b[0;34m<=\u001b[0m \u001b[0;36m1\u001b[0m\u001b[0;34m)\u001b[0m\u001b[0;34m:\u001b[0m\u001b[0;34m\u001b[0m\u001b[0m\n",
        "\u001b[0;31mValueError\u001b[0m: cannot slice a 0-d array"
       ]
      },
      {
       "metadata": {},
       "output_type": "display_data",
       "png": "[encoded data removed]",
       "text": [
        "<matplotlib.figure.Figure at 0x10fef1410>"
       ]
      }
     ],
     "prompt_number": 97
    },
    {
     "cell_type": "code",
     "collapsed": false,
     "input": [],
     "language": "python",
     "metadata": {},
     "outputs": []
    }
   ],
   "metadata": {}
  }
 ]
}