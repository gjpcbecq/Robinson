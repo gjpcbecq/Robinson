{
 "cells": [
  {
   "cell_type": "code",
   "execution_count": 2,
   "metadata": {
    "collapsed": false
   },
   "outputs": [
    {
     "name": "stdout",
     "output_type": "stream",
     "text": [
      "Populating the interactive namespace from numpy and matplotlib\n"
     ]
    }
   ],
   "source": [
    "%pylab inline\n",
    "import sys\n",
    "sys.path.append(\"/Users/becqg/Documents/code/Robinson\")\n",
    "#sys.path.append(\"C:\\Users\\Guillaume\\Documents\\projets\\code\\Robinson\")\n",
    "import ER\n",
    "import ERpy\n",
    "import imp"
   ]
  },
  {
   "cell_type": "markdown",
   "metadata": {},
   "source": [
    "<h2> getTraceMode, getMultiplexedMode, TMTOMM, MMTOTM </h2>"
   ]
  },
  {
   "cell_type": "code",
   "execution_count": 3,
   "metadata": {
    "collapsed": false
   },
   "outputs": [
    {
     "name": "stdout",
     "output_type": "stream",
     "text": [
      "[  1.  11.  21.   2.  12.  22.   3.  13.  23.   4.  14.  24.   5.  15.  25.]\n",
      "[  1.   2.   3.   4.   5.  11.  12.  13.  14.  15.  21.  22.  23.  24.  25.]\n",
      "[  1.  11.  21.   2.  12.  22.   3.  13.  23.   4.  14.  24.   5.  15.  25.]\n",
      "[  1.  11.  21.   2.  12.  22.   3.  13.  23.   4.  14.  24.   5.  15.  25.]\n",
      "[  1.   2.   3.   4.   5.  11.  12.  13.  14.  15.  21.  22.  23.  24.  25.]\n",
      "[  1.  11.  21.   2.  12.  22.   3.  13.  23.   4.  14.  24.   5.  15.  25.]\n"
     ]
    }
   ],
   "source": [
    "imp.reload(ERpy)\n",
    "X = array([1., 11, 21, 2, 12, 22, 3, 13, 23, 4, 14, 24, 5, 15, 25])\n",
    "N = 3\n",
    "LX = 5\n",
    "Y = ERpy.getTraceMode(N, LX, X)\n",
    "Z = ERpy.getMultiplexedMode(N, LX, Y)\n",
    "print(numpy.round(X, 2))\n",
    "print(numpy.round(Y, 2))\n",
    "print(numpy.round(Z, 2))\n",
    "Y = ERpy.MMTOTM(N, LX, X)\n",
    "Z = ERpy.TMTOMM(N, LX, Y)\n",
    "print(numpy.round(X, 2))\n",
    "print(numpy.round(Y, 2))\n",
    "print(numpy.round(Z, 2))"
   ]
  },
  {
   "cell_type": "code",
   "execution_count": 43,
   "metadata": {
    "collapsed": false
   },
   "outputs": [
    {
     "name": "stdout",
     "output_type": "stream",
     "text": [
      "[[  1.   2.   3.   4.   5.]\n",
      " [ 11.  12.  13.  14.  15.]\n",
      " [ 21.  22.  23.  24.  25.]]\n",
      "[  1.   2.   3.   4.   5.  11.  12.  13.  14.  15.  21.  22.  23.  24.  25.]\n",
      "(15,)\n",
      "[  1.  11.  21.   2.  12.  22.   3.  13.  23.   4.  14.  24.   5.  15.  25.]\n"
     ]
    }
   ],
   "source": [
    "imp.reload(ERpy)\n",
    "X = array([[1., 2, 3, 4, 5], [11, 12, 13, 14, 15], [21, 22, 23, 24, 25]])\n",
    "print(X)\n",
    "Y = X.flatten()\n",
    "print(Y)\n",
    "print(Y.shape)\n",
    "Z = ERpy.getMultiplexedMode(3, 5, Y)\n",
    "print(Z)"
   ]
  },
  {
   "cell_type": "markdown",
   "metadata": {},
   "source": [
    "<h2> NDTOMM, NDTOTM, MMTOND, TMTOND </h2>"
   ]
  },
  {
   "cell_type": "code",
   "execution_count": 58,
   "metadata": {
    "collapsed": false
   },
   "outputs": [
    {
     "name": "stdout",
     "output_type": "stream",
     "text": [
      "[[  1.   2.   3.   4.   5.]\n",
      " [ 11.  12.  13.  14.  15.]\n",
      " [ 21.  22.  23.  24.  25.]]\n",
      "[  1.   2.   3.   4.   5.  11.  12.  13.  14.  15.  21.  22.  23.  24.  25.]\n",
      "[  1.  11.  21.   2.  12.  22.   3.  13.  23.   4.  14.  24.   5.  15.  25.]\n",
      "[  1.  11.  21.   2.  12.  22.   3.  13.  23.   4.  14.  24.   5.  15.  25.]\n",
      "[[  1.   2.   3.   4.   5.]\n",
      " [ 11.  12.  13.  14.  15.]\n",
      " [ 21.  22.  23.  24.  25.]]\n",
      "[  1.   2.   3.   4.   5.  11.  12.  13.  14.  15.  21.  22.  23.  24.  25.]\n",
      "[  1.   2.   3.   4.   5.  11.  12.  13.  14.  15.  21.  22.  23.  24.  25.]\n",
      "[  1.   2.   3.   4.   5.  11.  12.  13.  14.  15.  21.  22.  23.  24.  25.]\n",
      "[[  1.   2.   3.   4.   5.]\n",
      " [ 11.  12.  13.  14.  15.]\n",
      " [ 21.  22.  23.  24.  25.]]\n",
      "[  1.   2.   3.   4.   5.  11.  12.  13.  14.  15.  21.  22.  23.  24.  25.]\n"
     ]
    }
   ],
   "source": [
    "imp.reload(ERpy)\n",
    "X = array([[1., 2, 3, 4, 5], [11, 12, 13, 14, 15], [21, 22, 23, 24, 25]])\n",
    "print(X)\n",
    "print(numpy.ravel(X, 'K'))\n",
    "(N, LX, X) = ERpy.NDTOMM(X)\n",
    "print(X)\n",
    "print(numpy.ravel(X, 'K'))\n",
    "X = ERpy.MMTOND(N, LX, X)\n",
    "print(X)\n",
    "print(numpy.ravel(X, 'K'))\n",
    "(N, LX, X) = ERpy.NDTOTM(X)\n",
    "print(X)\n",
    "print(numpy.ravel(X, 'K'))\n",
    "X = ERpy.TMTOND(N, LX, X)\n",
    "print(X)\n",
    "print(numpy.ravel(X, 'K'))"
   ]
  },
  {
   "cell_type": "code",
   "execution_count": 3,
   "metadata": {
    "collapsed": false
   },
   "outputs": [
    {
     "ename": "ValueError",
     "evalue": "cannot slice a 0-d array",
     "output_type": "error",
     "traceback": [
      "\u001b[1;31m---------------------------------------------------------------------------\u001b[0m\n\u001b[1;31mValueError\u001b[0m                                Traceback (most recent call last)",
      "\u001b[1;32m<ipython-input-3-dfd4097f1dea>\u001b[0m in \u001b[0;36m<module>\u001b[1;34m()\u001b[0m\n\u001b[0;32m     10\u001b[0m \u001b[1;33m(\u001b[0m\u001b[0mNZ\u001b[0m\u001b[1;33m,\u001b[0m \u001b[0mLZ\u001b[0m\u001b[1;33m,\u001b[0m \u001b[0mZ\u001b[0m\u001b[1;33m)\u001b[0m \u001b[1;33m=\u001b[0m \u001b[0mERpy\u001b[0m\u001b[1;33m.\u001b[0m\u001b[0mNDTOMM\u001b[0m\u001b[1;33m(\u001b[0m\u001b[0mZ0\u001b[0m\u001b[1;33m[\u001b[0m\u001b[1;33m:\u001b[0m\u001b[1;36m2\u001b[0m\u001b[1;33m,\u001b[0m \u001b[1;33m:\u001b[0m\u001b[1;36m90\u001b[0m\u001b[1;33m]\u001b[0m\u001b[1;33m)\u001b[0m\u001b[1;33m\u001b[0m\u001b[0m\n\u001b[0;32m     11\u001b[0m \u001b[1;33m\u001b[0m\u001b[0m\n\u001b[1;32m---> 12\u001b[1;33m \u001b[1;33m(\u001b[0m\u001b[0mF\u001b[0m\u001b[1;33m,\u001b[0m \u001b[0mY\u001b[0m\u001b[1;33m,\u001b[0m \u001b[0mE\u001b[0m\u001b[1;33m)\u001b[0m \u001b[1;33m=\u001b[0m \u001b[0mERpy\u001b[0m\u001b[1;33m.\u001b[0m\u001b[0mWIENER\u001b[0m\u001b[1;33m(\u001b[0m\u001b[0mNX\u001b[0m\u001b[1;33m,\u001b[0m \u001b[0mLX\u001b[0m\u001b[1;33m,\u001b[0m \u001b[0mX\u001b[0m\u001b[1;33m,\u001b[0m \u001b[0mNZ\u001b[0m\u001b[1;33m,\u001b[0m \u001b[0mLZ\u001b[0m\u001b[1;33m,\u001b[0m \u001b[0mZ\u001b[0m\u001b[1;33m,\u001b[0m \u001b[1;36m10\u001b[0m\u001b[1;33m,\u001b[0m \u001b[1;36m0\u001b[0m\u001b[1;33m,\u001b[0m \u001b[1;36m0\u001b[0m\u001b[1;33m)\u001b[0m\u001b[1;33m\u001b[0m\u001b[0m\n\u001b[0m\u001b[0;32m     13\u001b[0m \u001b[1;33m\u001b[0m\u001b[0m\n\u001b[0;32m     14\u001b[0m \u001b[1;32mprint\u001b[0m\u001b[1;33m(\u001b[0m\u001b[0mY\u001b[0m\u001b[1;33m)\u001b[0m\u001b[1;33m\u001b[0m\u001b[0m\n",
      "\u001b[1;32mC:\\Users\\Guillaume\\Documents\\projets\\code\\Robinson\\ERpy.pyc\u001b[0m in \u001b[0;36mWIENER\u001b[1;34m(N, LX, X, M, LZ, Z, LR, LW, FLOOR)\u001b[0m\n\u001b[0;32m     74\u001b[0m     \u001b[0mLS\u001b[0m \u001b[1;33m=\u001b[0m \u001b[0mN\u001b[0m \u001b[1;33m*\u001b[0m \u001b[0mN\u001b[0m \u001b[1;33m*\u001b[0m \u001b[1;33m(\u001b[0m\u001b[1;36m5\u001b[0m \u001b[1;33m*\u001b[0m \u001b[0mLR\u001b[0m \u001b[1;33m+\u001b[0m \u001b[1;36m6\u001b[0m\u001b[1;33m)\u001b[0m \u001b[1;33m+\u001b[0m \u001b[0mM\u001b[0m \u001b[1;33m*\u001b[0m \u001b[0mN\u001b[0m \u001b[1;33m*\u001b[0m \u001b[1;33m(\u001b[0m\u001b[0mLR\u001b[0m \u001b[1;33m+\u001b[0m \u001b[1;36m2\u001b[0m\u001b[1;33m)\u001b[0m \u001b[1;33m+\u001b[0m \u001b[1;36m2\u001b[0m \u001b[1;33m*\u001b[0m \u001b[0mM\u001b[0m \u001b[1;33m*\u001b[0m \u001b[0mM\u001b[0m\u001b[1;33m\u001b[0m\u001b[0m\n\u001b[0;32m     75\u001b[0m     \u001b[0mS\u001b[0m \u001b[1;33m=\u001b[0m \u001b[0mnumpy\u001b[0m\u001b[1;33m.\u001b[0m\u001b[0marray\u001b[0m\u001b[1;33m(\u001b[0m\u001b[0mLS\u001b[0m\u001b[1;33m)\u001b[0m\u001b[1;33m\u001b[0m\u001b[0m\n\u001b[1;32m---> 76\u001b[1;33m     \u001b[1;33m(\u001b[0m\u001b[0mLF\u001b[0m\u001b[1;33m,\u001b[0m \u001b[0mF\u001b[0m\u001b[1;33m,\u001b[0m \u001b[0mE\u001b[0m\u001b[1;33m,\u001b[0m \u001b[0mLY\u001b[0m\u001b[1;33m,\u001b[0m \u001b[0mY\u001b[0m\u001b[1;33m,\u001b[0m \u001b[0mS\u001b[0m\u001b[1;33m)\u001b[0m \u001b[1;33m=\u001b[0m \u001b[0mER\u001b[0m\u001b[1;33m.\u001b[0m\u001b[0mWIENER_1\u001b[0m\u001b[1;33m(\u001b[0m\u001b[0mN\u001b[0m\u001b[1;33m,\u001b[0m \u001b[0mLX\u001b[0m\u001b[1;33m,\u001b[0m \u001b[0mX\u001b[0m\u001b[1;33m,\u001b[0m \u001b[0mM\u001b[0m\u001b[1;33m,\u001b[0m \u001b[0mLZ\u001b[0m\u001b[1;33m,\u001b[0m \u001b[0mZ\u001b[0m\u001b[1;33m,\u001b[0m \u001b[0mLR\u001b[0m\u001b[1;33m,\u001b[0m \u001b[0mLW\u001b[0m\u001b[1;33m,\u001b[0m \u001b[0mFLOOR\u001b[0m\u001b[1;33m,\u001b[0m \u001b[0mLF\u001b[0m\u001b[1;33m,\u001b[0m \u001b[0mF\u001b[0m\u001b[1;33m,\u001b[0m \u001b[0mE\u001b[0m\u001b[1;33m,\u001b[0m \u001b[0mLY\u001b[0m\u001b[1;33m,\u001b[0m \u001b[0mY\u001b[0m\u001b[1;33m,\u001b[0m \u001b[0mS\u001b[0m\u001b[1;33m)\u001b[0m\u001b[1;33m\u001b[0m\u001b[0m\n\u001b[0m\u001b[0;32m     77\u001b[0m \u001b[1;33m\u001b[0m\u001b[0m\n\u001b[0;32m     78\u001b[0m     \u001b[1;32mreturn\u001b[0m \u001b[1;33m(\u001b[0m\u001b[0mF\u001b[0m\u001b[1;33m,\u001b[0m \u001b[0mY\u001b[0m\u001b[1;33m,\u001b[0m \u001b[0mE\u001b[0m\u001b[1;33m)\u001b[0m\u001b[1;33m\u001b[0m\u001b[0m\n",
      "\u001b[1;32mC:\\Users\\Guillaume\\Documents\\projets\\code\\Robinson\\ER.pyc\u001b[0m in \u001b[0;36mWIENER_1\u001b[1;34m(N, LX, X, M, LZ, Z, LR, LW, FLOOR, LF, F, E, LY, Y, S)\u001b[0m\n\u001b[0;32m    273\u001b[0m     \u001b[0mIH\u001b[0m \u001b[1;33m=\u001b[0m \u001b[0mIGAM\u001b[0m \u001b[1;33m+\u001b[0m \u001b[0mMN\u001b[0m\u001b[1;33m\u001b[0m\u001b[0m\n\u001b[0;32m    274\u001b[0m     \u001b[0mIFGT\u001b[0m \u001b[1;33m=\u001b[0m \u001b[0mIH\u001b[0m \u001b[1;33m+\u001b[0m \u001b[0mM\u001b[0m \u001b[1;33m*\u001b[0m \u001b[0mM\u001b[0m\u001b[1;33m\u001b[0m\u001b[0m\n\u001b[1;32m--> 275\u001b[1;33m     \u001b[0mS\u001b[0m\u001b[1;33m[\u001b[0m\u001b[0mIH\u001b[0m \u001b[1;33m-\u001b[0m \u001b[1;36m1\u001b[0m\u001b[1;33m:\u001b[0m \u001b[1;33m]\u001b[0m \u001b[1;33m=\u001b[0m \u001b[0mHEAT\u001b[0m\u001b[1;33m(\u001b[0m\u001b[0mM\u001b[0m\u001b[1;33m,\u001b[0m \u001b[1;36m1\u001b[0m\u001b[1;33m,\u001b[0m \u001b[0mLZ\u001b[0m\u001b[1;33m,\u001b[0m \u001b[0mZ\u001b[0m\u001b[1;33m,\u001b[0m \u001b[0mM\u001b[0m\u001b[1;33m,\u001b[0m \u001b[1;36m1\u001b[0m\u001b[1;33m,\u001b[0m \u001b[0mLZ\u001b[0m\u001b[1;33m,\u001b[0m \u001b[0mZ\u001b[0m\u001b[1;33m,\u001b[0m \u001b[1;36m1\u001b[0m\u001b[1;33m,\u001b[0m \u001b[0mS\u001b[0m\u001b[1;33m[\u001b[0m\u001b[0mIH\u001b[0m \u001b[1;33m-\u001b[0m \u001b[1;36m1\u001b[0m\u001b[1;33m:\u001b[0m \u001b[1;33m]\u001b[0m\u001b[1;33m)\u001b[0m\u001b[1;33m\u001b[0m\u001b[0m\n\u001b[0m\u001b[0;32m    276\u001b[0m     \u001b[1;31m# print(Z, S[IH: IH + M * M])\u001b[0m\u001b[1;33m\u001b[0m\u001b[1;33m\u001b[0m\u001b[0m\n\u001b[0;32m    277\u001b[0m     \u001b[1;32mif\u001b[0m \u001b[1;33m(\u001b[0m\u001b[0mLW\u001b[0m \u001b[1;33m<=\u001b[0m \u001b[1;36m1\u001b[0m\u001b[1;33m)\u001b[0m\u001b[1;33m:\u001b[0m\u001b[1;33m\u001b[0m\u001b[0m\n",
      "\u001b[1;31mValueError\u001b[0m: cannot slice a 0-d array"
     ]
    },
    {
     "data": {
      "image/png": "[encoded data removed]",
      "text/plain": [
       "<matplotlib.figure.Figure at 0x78217f0>"
      ]
     },
     "metadata": {},
     "output_type": "display_data"
    }
   ],
   "source": [
    "imp.reload(ERpy)\n",
    "X0 = arange(0, 300).reshape(3, -1)\n",
    "Z0 = empty((3, 90))\n",
    "plot(X0.T)\n",
    "Z0[0, :] = 0.3 * X0[1, 10:]\n",
    "Z0[1, :] = 0.5 * X0[2, 10:]\n",
    "Z0[2, :] = 0.7 * X0[0, 10:]\n",
    "plot(Z0.T)\n",
    "(NX, LX, X) = ERpy.NDTOMM(X0[:, :90])\n",
    "(NZ, LZ, Z) = ERpy.NDTOMM(Z0[:2, :90])\n",
    "\n",
    "(F, Y, E) = ERpy.WIENER(NX, LX, X, NZ, LZ, Z, 10, 0, 0)\n",
    "\n",
    "print(Y)"
   ]
  },
  {
   "cell_type": "code",
   "execution_count": 4,
   "metadata": {
    "collapsed": false
   },
   "outputs": [
    {
     "name": "stdout",
     "output_type": "stream",
     "text": [
      "Help on function MACRO_partial in module ERpy:\n",
      "\n",
      "MACRO_partial(N, LG, G, I, J, K)\n",
      "    MACRO_partial multichannel cross partial correlation\n",
      "    \n",
      "    G = MACRO(X, Y, LG)\n",
      "    \n",
      "    Example\n",
      "    \n",
      "    LG = 4\n",
      "    N = 3\n",
      "    G = array([\n",
      "        1., 0.9, 0.8, 0.7, 0.2, 0.3, 0.2, 0.1, 0.1, 0.1, 0.1, 0.1, \n",
      "        0.1, 0.1, 0.2, 0.1, 1, 0.8, 0.6, 0.4, 0.1, 0., 0., 0., \n",
      "        0., 0., 0., 0., 0.2, 0.3, .4, .5, 1., 0.7, 0.4, 0.1])\n",
      "    GP = MACRO_partial(N, LG, G, 0, 1, 2)\n",
      "    print(GP)\n",
      "\n"
     ]
    }
   ],
   "source": [
    "help(ERpy.MACRO_partial)"
   ]
  },
  {
   "cell_type": "code",
   "execution_count": 8,
   "metadata": {
    "collapsed": false
   },
   "outputs": [
    {
     "name": "stdout",
     "output_type": "stream",
     "text": [
      "[[1.0  0.2  0.1] \n",
      " [0.9  0.3  0.1] \n",
      " [0.8  0.2  0.1] \n",
      " [0.7  0.1  0.1]]\n",
      "\n",
      "[[0.1  1.0  0.1] \n",
      " [0.1  0.8  0.0] \n",
      " [0.2  0.6  0.0] \n",
      " [0.1  0.4  0.0]]\n",
      "\n",
      "[[0.0  0.2  1.0] \n",
      " [0.0  0.3  0.7] \n",
      " [0.0  0.4  0.4] \n",
      " [0.0  0.5  0.1]]\n",
      "\n",
      "None\n",
      "(0, 0, 0, array([ nan,  0.9,  0.8,  0.7]))\n",
      "(0, 0, 1, array([ 1.1       ,  0.98888889,  0.87777778,  0.76666667]))\n",
      "(0, 0, 2, array([ 1.6       ,  1.23333333,  0.87777778,  0.7       ]))\n",
      "(0, 1, 0, array([       -inf, -0.28284271, -0.37416574, -0.08164966]))\n",
      "(0, 1, 1, array([ 0.1      ,  0.1      ,  0.0942809,  0.1      ]))\n",
      "(0, 1, 2, array([ 0.15811388,  0.12909944,  0.10540926,  0.1       ]))\n",
      "(0, 2, 0, array([        inf,  1.03333333,  0.04714045, -0.13471506]))\n",
      "(0, 2, 1, array([ 0.65555556,         inf,  0.04714045, -0.1       ]))\n",
      "(0, 2, 2, array([ 0.9486833 ,  0.51639778,  0.10540926,  0.        ]))\n",
      "(1, 0, 0, array([        nan,  0.07071068,  0.16035675,  0.12247449]))\n",
      "(1, 0, 1, array([ 0.76666667,  0.21111111,  0.32998316,  0.21111111]))\n",
      "(1, 0, 2, array([ 1.10679718,  0.25819889,  0.31622777,  0.2       ]))\n",
      "(1, 1, 0, array([-1.3       ,  0.075     ,  0.15714286,  0.075     ]))\n",
      "(1, 1, 1, array([ 0.1,  0.1,  0.2,  0.1]))\n",
      "(1, 1, 2, array([ 0.1,  0.1,  0.2,  0.1]))\n",
      "(1, 2, 0, array([-0.2857738 , -0.02357023, -0.03779645, -0.02357023]))\n",
      "(1, 2, 1, array([-0.01111111,        -inf, -0.4       , -0.1       ]))\n",
      "(1, 2, 2, array([ 0.,  0.,  0.,  0.]))\n",
      "(2, 0, 0, array([        nan,  0.03333333,  0.04714045,  0.05773503]))\n",
      "(2, 0, 1, array([ 0.21111111,         nan,  0.04714045,  0.06666667]))\n",
      "(2, 0, 2, array([ 0.31622777,  0.12909944,  0.10540926,  0.1       ]))\n",
      "(2, 1, 0, array([-0.08164966,  1.15494108,  0.97010881,  0.68353656]))\n",
      "(2, 1, 1, array([ 0.1,  inf,  1.6,  0.9]))\n",
      "(2, 1, 2, array([ 0.1,  1. ,  0.8,  0.6]))\n",
      "(2, 2, 0, array([-0.05      , -0.01111111, -0.01111111, -0.01111111]))\n",
      "(2, 2, 1, array([-0.01111111,        -inf, -3.2       , -0.9       ]))\n",
      "(2, 2, 2, array([ 0.,  0.,  0.,  0.]))\n"
     ]
    }
   ],
   "source": [
    "imp.reload(ERpy)\n",
    "LG = 4\n",
    "N = 3\n",
    "G = array([\n",
    "    1., 0.9, 0.8, 0.7, 0.2, 0.3, 0.2, 0.1, 0.1, 0.1, 0.1, 0.1, \n",
    "    0.1, 0.1, 0.2, 0.1, 1, 0.8, 0.6, 0.4, 0.1, 0., 0., 0., \n",
    "    0., 0., 0., 0., 0.2, 0.3, .4, .5, 1., 0.7, 0.4, 0.1])\n",
    "print(ER.RITE(1, LG, N, N, G))\n",
    "for i in range(3): \n",
    "    for j in range(3): \n",
    "        for k in range(3): \n",
    "            GP = ERpy.MACRO_partial(N, LG, G, i, j, k)\n",
    "            print(i, j, k, GP)\n"
   ]
  },
  {
   "cell_type": "code",
   "execution_count": 5,
   "metadata": {
    "collapsed": false
   },
   "outputs": [
    {
     "name": "stdout",
     "output_type": "stream",
     "text": [
      "Help on function RITE in module ER:\n",
      "\n",
      "RITE(NB, M, N, L, A)\n",
      "    RITE \n",
      "    \n",
      "    p. 55\n",
      "    \n",
      "    This don't follow the code given in p. 55 but should produce the same result. \n",
      "    \n",
      "    RITE(NB, M, N, L, A)\n",
      "    \n",
      "    NB = number of matrices printed per line = u \n",
      "     M = number of rows in each matrix a_k\n",
      "     N = number of columns in each matrix a_k\n",
      "     L = number of matrices = q\n",
      "     A = (a_1, a_2, \\dots, a_q) stored in multiplexed mode, i.e., stored as A(I,J,K) where I denotes the row, J denotes te column, and K denotes the matrix index.\n",
      "\n"
     ]
    }
   ],
   "source": [
    "help(ER.RITE)"
   ]
  },
  {
   "cell_type": "code",
   "execution_count": null,
   "metadata": {
    "collapsed": true
   },
   "outputs": [],
   "source": []
  }
 ],
 "metadata": {
  "kernelspec": {
   "display_name": "Python 2",
   "language": "python",
   "name": "python2"
  },
  "language_info": {
   "codemirror_mode": {
    "name": "ipython",
    "version": 2
   },
   "file_extension": ".py",
   "mimetype": "text/x-python",
   "name": "python",
   "nbconvert_exporter": "python",
   "pygments_lexer": "ipython2",
   "version": "2.7.3"
  }
 },
 "nbformat": 4,
 "nbformat_minor": 0
}
