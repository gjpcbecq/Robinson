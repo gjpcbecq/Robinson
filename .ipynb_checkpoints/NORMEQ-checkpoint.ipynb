{
 "metadata": {
  "name": "",
  "signature": "sha256:2880fef5182405174d0869f4476906cdc531e8619bc482d70283eff770110792"
 },
 "nbformat": 3,
 "nbformat_minor": 0,
 "worksheets": [
  {
   "cells": [
    {
     "cell_type": "code",
     "collapsed": false,
     "input": [
      "%pylab inline\n",
      "import sys\n",
      "sys.path.append(\"/Users/becqg/Documents/code/Robinson\")\n",
      "import ER\n",
      "import imp"
     ],
     "language": "python",
     "metadata": {},
     "outputs": [
      {
       "output_type": "stream",
       "stream": "stdout",
       "text": [
        "Populating the interactive namespace from numpy and matplotlib\n"
       ]
      }
     ],
     "prompt_number": 1
    },
    {
     "cell_type": "code",
     "collapsed": false,
     "input": [
      "X = ER.sunspot_X\n",
      "Z = X.reshape((3, 100))\n",
      "print(mean(Z[0, :]), mean(Z[1, :]), mean(Z[2, :]))"
     ],
     "language": "python",
     "metadata": {},
     "outputs": [
      {
       "output_type": "stream",
       "stream": "stdout",
       "text": [
        "(46.939999999999998, 63.43, 97.969999999999999)\n"
       ]
      }
     ],
     "prompt_number": 2
    },
    {
     "cell_type": "code",
     "collapsed": false,
     "input": [
      "X0 = ER.sunspot_X.astype('float')\n",
      "X = numpy.zeros((300, ))\n",
      "for i in range(3): \n",
      "    I1 = i * 100\n",
      "    I2 = (i + 1) * 100\n",
      "    (X[I1:I2], AVERAG) = ER.REMAV(100, X0[I1:I2])\n",
      "    print(AVERAG)"
     ],
     "language": "python",
     "metadata": {},
     "outputs": [
      {
       "output_type": "stream",
       "stream": "stdout",
       "text": [
        "46.94\n",
        "63.43\n",
        "97.97\n"
       ]
      }
     ],
     "prompt_number": 3
    },
    {
     "cell_type": "code",
     "collapsed": false,
     "input": [
      "imp.reload(ER)\n",
      "(N, M, LF) = (2, 1, 1)\n",
      "F = numpy.array([])\n",
      "R = numpy.array([7., -1, -1, 3])\n",
      "G = numpy.array([1., 0.])\n",
      "(A, B, F, AP, BP, VA, VB, DA, DB, CA, CB, CF, GAM) = ER.NORMEQ(N, M, LF, R, G)\n",
      "print(A, B, F)"
     ],
     "language": "python",
     "metadata": {},
     "outputs": [
      {
       "output_type": "stream",
       "stream": "stdout",
       "text": [
        "(array([ 1.,  0.,  0.,  1.]), array([ 1.,  0.,  0.,  1.]), array([ 0.15,  0.05]))\n"
       ]
      }
     ],
     "prompt_number": 4
    },
    {
     "cell_type": "code",
     "collapsed": false,
     "input": [
      "imp.reload(ER)\n",
      "(N, M, LF) = (2, 1, 2)\n",
      "R = numpy.array([7., -1, -1, 3, -2, 1, -2, 1])\n",
      "G = numpy.array([1., 0., 0, 1])\n",
      "(A, B, F, AP, BP, VA, VB, DA, DB, CA, CB, CF, GAM) = ER.NORMEQ(N, M, LF, R, G)\n",
      "print(A, B, F)"
     ],
     "language": "python",
     "metadata": {},
     "outputs": [
      {
       "output_type": "stream",
       "stream": "stdout",
       "text": [
        "(array([ 1.,  0.,  0.,  1.,  0.,  0.,  0.,  0.]), array([ 1.,  0.,  0.,  1.,  0.,  0.,  0.,  0.]), array([ 0.15,  0.05,  0.  ,  0.  ]), array([ 7., -1., -1.,  3.]), array([ 7., -1., -1.,  3.]))\n",
        "('CA, CB, AP, BP', array([ 0.,  0.,  0.,  0.]), array([ 0.,  0.,  0.,  0.]), array([  2.68156159e+154,   2.68156159e+154,   7.66498885e-309,\n",
        "         1.96860733e-268,   3.39316026e+125,   1.85676340e-308,\n",
        "         6.69885507e-230,   3.39977082e+125]), array([  2.68156159e+154,  -2.00000012e+000,   5.43472210e-323,\n",
        "         0.00000000e+000,   0.00000000e+000,   0.00000000e+000,\n",
        "         0.00000000e+000,   0.00000000e+000]))\n",
        "('CA, CB, AP, BP', array([-1.,  0.,  0., -1.]), array([-1.,  0.,  0., -1.]), array([  1.00000000e+000,   0.00000000e+000,   0.00000000e+000,\n",
        "         1.00000000e+000,   3.39316026e+125,   1.85676340e-308,\n",
        "         6.69885507e-230,   3.39977082e+125]), array([ 1.,  0.,  0.,  1.,  0.,  0.,  0.,  0.]))\n",
        "(array([  0.00000000e+00,   0.00000000e+00,   0.00000000e+00,\n",
        "         2.22044605e-16,   0.00000000e+00,   0.00000000e+00,\n",
        "         0.00000000e+00,   0.00000000e+00]), array([  0.00000000e+00,   0.00000000e+00,   0.00000000e+00,\n",
        "         2.22044605e-16,   0.00000000e+00,   0.00000000e+00,\n",
        "         0.00000000e+00,   0.00000000e+00]), array([  1.50000000e-001,  -6.89456575e+215,   0.00000000e+000,\n",
        "         0.00000000e+000]), array([  0.00000000e+00,  -2.22044605e-16,   0.00000000e+00,\n",
        "         8.88178420e-16]), array([  0.00000000e+00,  -2.22044605e-16,   0.00000000e+00,\n",
        "         8.88178420e-16]))\n",
        "(array([  0.00000000e+00,   0.00000000e+00,   0.00000000e+00,\n",
        "         2.22044605e-16,   0.00000000e+00,   0.00000000e+00,\n",
        "         0.00000000e+00,   0.00000000e+00]), array([  0.00000000e+00,   0.00000000e+00,   0.00000000e+00,\n",
        "         2.22044605e-16,   0.00000000e+00,   0.00000000e+00,\n",
        "         0.00000000e+00,   0.00000000e+00]), array([  1.50000000e-001,  -6.89456575e+215,   0.00000000e+000,\n",
        "         0.00000000e+000]))\n"
       ]
      }
     ],
     "prompt_number": 19
    },
    {
     "cell_type": "code",
     "collapsed": false,
     "input": [
      "M = 3\n",
      "N = 2\n",
      "B = numpy.zeros((N * N, ))\n",
      "C = numpy.zeros((M * N, ))\n",
      "A = numpy.zeros((M * N, ))\n",
      "B[0*N+0] = 1.\n",
      "B[0*N+1] = 3.\n",
      "B[1*N+1] = 2.\n",
      "C[0*M+0] = 0.\n",
      "C[0*M+1] = 10.\n",
      "C[0*M+2] = 20.\n",
      "C[1*M+0] = 1.\n",
      "C[1*M+1] = 11.\n",
      "C[1*M+2] = 21.\n",
      "A = ER.SIMEQ1(M, N, A, B, C)"
     ],
     "language": "python",
     "metadata": {},
     "outputs": [],
     "prompt_number": 13
    },
    {
     "cell_type": "code",
     "collapsed": false,
     "input": [
      "imp.reload(ER)\n",
      "N = 2\n",
      "A = numpy.array([1.0, 2, 3, 4])\n",
      "B = numpy.empty((N * N, ))\n",
      "B = ER.MAINE(N, A, B)\n",
      "print(B)"
     ],
     "language": "python",
     "metadata": {},
     "outputs": [
      {
       "output_type": "stream",
       "stream": "stdout",
       "text": [
        "[ 1.   1.5  1.5 -0.5]\n",
        "[-3.5  1.5  1.5 -0.5]\n"
       ]
      }
     ],
     "prompt_number": 46
    },
    {
     "cell_type": "code",
     "collapsed": false,
     "input": [
      "A"
     ],
     "language": "python",
     "metadata": {},
     "outputs": [
      {
       "metadata": {},
       "output_type": "pyout",
       "prompt_number": 34,
       "text": [
        "array([1, 2, 3, 4])"
       ]
      }
     ],
     "prompt_number": 34
    },
    {
     "cell_type": "code",
     "collapsed": false,
     "input": [
      "A2 = numpy.array([[1, 3], [2, 4]])"
     ],
     "language": "python",
     "metadata": {},
     "outputs": [],
     "prompt_number": 35
    },
    {
     "cell_type": "code",
     "collapsed": false,
     "input": [
      "print(numpy.linalg.inv(A2))"
     ],
     "language": "python",
     "metadata": {},
     "outputs": [
      {
       "output_type": "stream",
       "stream": "stdout",
       "text": [
        "[[-2.   1.5]\n",
        " [ 1.  -0.5]]\n"
       ]
      }
     ],
     "prompt_number": 24
    },
    {
     "cell_type": "code",
     "collapsed": false,
     "input": [
      "print(A2)"
     ],
     "language": "python",
     "metadata": {},
     "outputs": [
      {
       "output_type": "stream",
       "stream": "stdout",
       "text": [
        "[[1 3]\n",
        " [2 4]]\n"
       ]
      }
     ],
     "prompt_number": 25
    },
    {
     "cell_type": "code",
     "collapsed": false,
     "input": [],
     "language": "python",
     "metadata": {},
     "outputs": []
    }
   ],
   "metadata": {}
  }
 ]
}