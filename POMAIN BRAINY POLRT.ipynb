{
 "metadata": {
  "name": "",
  "signature": "sha256:1fc190db33b808890dc82762332424c23e1b59ce8cddb3346aacf9c3a3c30c91"
 },
 "nbformat": 3,
 "nbformat_minor": 0,
 "worksheets": [
  {
   "cells": [
    {
     "cell_type": "code",
     "collapsed": false,
     "input": [
      "%pylab inline\n",
      "import sys\n",
      "# sys.path.append(\"/Users/becqg/Documents/code/Robinson\")\n",
      "sys.path.append(\"C:\\Users\\Guillaume\\Documents\\projets\\code\\Robinson\")\n",
      "import ER\n",
      "import imp"
     ],
     "language": "python",
     "metadata": {},
     "outputs": [
      {
       "output_type": "stream",
       "stream": "stdout",
       "text": [
        "Populating the interactive namespace from numpy and matplotlib\n"
       ]
      }
     ],
     "prompt_number": 1
    },
    {
     "cell_type": "markdown",
     "metadata": {},
     "source": [
      "<h2>POMAIN</h2>\n",
      "p.162"
     ]
    },
    {
     "cell_type": "code",
     "collapsed": false,
     "input": [
      "imp.reload(ER)\n",
      "N = 2\n",
      "LA = 3\n",
      "A = numpy.array([1, 0, 0, 1, -3, 14, 21, 1, 2, 5, -6, 14])\n",
      "ADJ = ()\n",
      "P = ()\n",
      "DET = ()\n",
      "S = ()\n",
      "(ADJ, P, DET, S) = ER.POMAIN(N, LA, A, ADJ, P, DET, S)\n",
      "print(\"ADJ\", ADJ)\n",
      "print(\"DET\", DET)"
     ],
     "language": "python",
     "metadata": {},
     "outputs": [
      {
       "output_type": "stream",
       "stream": "stdout",
       "text": [
        "('ADJ', array([  1.-0.j,  -0.+0.j,  -0.+0.j,   1.-0.j,   1.-0.j, -14.+0.j,\n",
        "       -21.+0.j,  -3.+0.j,  14.-0.j,  -5.+0.j,   6.-0.j,   2.-0.j]))\n",
        "('DET', array([   1.-0.j,   -2.+0.j, -281.+0.j,  -61.+0.j,   58.-0.j]))\n"
       ]
      }
     ],
     "prompt_number": 11
    },
    {
     "cell_type": "markdown",
     "metadata": {},
     "source": [
      "<h2> BRAINY </h2>\n",
      "p. 154"
     ]
    },
    {
     "cell_type": "code",
     "collapsed": false,
     "input": [
      "NRA = 2\n",
      "NCA = 2\n",
      "LA = 3\n",
      "A = numpy.array([0, 1, 0, -1, 2, 0, 1, 1, 1, 1, 0, 0], \"float\")\n",
      "NRB = 2\n",
      "NCB = 2\n",
      "LB = 3\n",
      "B = numpy.array([0, 1, 0, 0, 0, 1, 1, 1, 1, 0, 1, 0], \"float\")\n",
      "C = ()\n",
      "C = ER.BRAINY(NRA, NCA, LA, A, NRB, NCB, LB, B, C)\n",
      "print(C)\n",
      "C = ER.BRAINY(NRB, NCB, LB, B, NRA, NCA, LA, A, C)\n",
      "print(C)"
     ],
     "language": "python",
     "metadata": {},
     "outputs": [
      {
       "output_type": "stream",
       "stream": "stdout",
       "text": [
        "[ 0. -1.  0.  0.  1.  0.  0.  0.  1.  2.  3.  2.  2.  0.  3.  1.  1.  1.\n",
        "  1.  1.]\n",
        "[ 0.  0.  0.  0.  1.  3. -1.  0.  1.  3.  0.  2.  3.  2.  2.  0.  2.  0.\n",
        "  0.  0.]\n"
       ]
      }
     ],
     "prompt_number": 12
    },
    {
     "cell_type": "markdown",
     "metadata": {},
     "source": [
      "<h2> POLRT </h2>\n",
      "p. 35"
     ]
    },
    {
     "cell_type": "code",
     "collapsed": false,
     "input": [
      "imp.reload(ER)\n",
      "XCOF = numpy.array([36, 0, -13, 0, 1])\n",
      "M = 4\n",
      "COF = numpy.empty(M + 1)\n",
      "(ROOTR, ROOTI, IER) = ([], [], [])\n",
      "(ROOTR, ROOTI, IER) = ER.POLRT(XCOF, COF, M, ROOTR, ROOTI, IER)\n",
      "print(ROOTR, ROOTI, IER)"
     ],
     "language": "python",
     "metadata": {},
     "outputs": [
      {
       "output_type": "stream",
       "stream": "stdout",
       "text": [
        "(4, array([  1.,   0., -13.,   0.,  36.]))\n",
        "(4, 4, 4)\n",
        "(1, -3.0000001006651988, 0.0)\n",
        "(3, array([  1.        ,  -3.0000001 ,  -3.9999994 ,  11.99999859,  36.        ]))\n",
        "(3, array([  1.        ,  -3.0000001 ,  -3.9999994 ,  11.99999859,  36.        ]))\n",
        "(3, 4, 3)\n",
        "(2, -2.9999974671594889, 0.0)\n",
        "(2, array([  1.        ,  -5.99999747,  14.9999772 ,  11.        ,  36.        ]))\n",
        "(2, array([  1.        ,  -5.99999747,  14.9999772 ,  11.        ,  36.        ]))\n",
        "(array([ 0.        , -3.0000001 , -2.99999747,  0.        ]), array([ 0.,  0.,  0.,  0.]), 3)"
       ]
      },
      {
       "output_type": "stream",
       "stream": "stdout",
       "text": [
        "\n"
       ]
      }
     ],
     "prompt_number": 18
    },
    {
     "cell_type": "code",
     "collapsed": false,
     "input": [
      "numpy.polynomial.polynomial.polyroots((36, 0, -13, 0, 1))"
     ],
     "language": "python",
     "metadata": {},
     "outputs": [
      {
       "metadata": {},
       "output_type": "pyout",
       "prompt_number": 14,
       "text": [
        "array([-3., -2.,  2.,  3.])"
       ]
      }
     ],
     "prompt_number": 14
    },
    {
     "cell_type": "code",
     "collapsed": false,
     "input": [
      "numpy.polynomial.polynomial.polyroots((83, -278, 720, -238, 120))"
     ],
     "language": "python",
     "metadata": {},
     "outputs": [
      {
       "metadata": {},
       "output_type": "pyout",
       "prompt_number": 15,
       "text": [
        "array([ 0.20146262-0.30271712j,  0.20146262+0.30271712j,\n",
        "        0.79020404-2.14629132j,  0.79020404+2.14629132j])"
       ]
      }
     ],
     "prompt_number": 15
    },
    {
     "cell_type": "code",
     "collapsed": false,
     "input": [
      "COF = numpy.array([1, 2])\n",
      "X = 0\n",
      "NX = 1\n",
      "NXX = 1\n",
      "Y = 0\n",
      "SUMSQ = 0\n",
      "ALPHA = 0\n",
      "M = N = 1\n",
      "(U, X, NX, NXX, Y, SUMSQ, ALPHA, N, DX, DY) = ER.eval_pol_and_deriv(COF, X, NX, NXX, Y, SUMSQ, ALPHA, N)\n",
      "print(U, X, NX, NXX, Y, SUMSQ, ALPHA, N, DX, DY) "
     ],
     "language": "python",
     "metadata": {},
     "outputs": [
      {
       "output_type": "stream",
       "stream": "stdout",
       "text": [
        "(2.0, 0, 1, 1, 0, 0.0, 0, 1, 0.0, 0.0)\n"
       ]
      }
     ],
     "prompt_number": 34
    },
    {
     "cell_type": "code",
     "collapsed": false,
     "input": [],
     "language": "python",
     "metadata": {},
     "outputs": []
    }
   ],
   "metadata": {}
  }
 ]
}