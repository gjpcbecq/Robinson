{
 "metadata": {
  "name": "",
  "signature": "sha256:43dcc1e53318eee16863cb172aa399a24354e4a2c39b0bd7b41c34357d008662"
 },
 "nbformat": 3,
 "nbformat_minor": 0,
 "worksheets": [
  {
   "cells": [
    {
     "cell_type": "code",
     "collapsed": false,
     "input": [
      "%pylab inline\n",
      "import sys\n",
      "# sys.path.append(\"/Users/becqg/Documents/code/Robinson\")\n",
      "sys.path.append(\"C:\\Users\\Guillaume\\Documents\\projets\\code\\Robinson\")\n",
      "import ER\n",
      "import imp"
     ],
     "language": "python",
     "metadata": {},
     "outputs": [
      {
       "output_type": "stream",
       "stream": "stdout",
       "text": [
        "Populating the interactive namespace from numpy and matplotlib\n"
       ]
      }
     ],
     "prompt_number": 7
    },
    {
     "cell_type": "markdown",
     "metadata": {},
     "source": [
      "<h2> FACTOR </h2>\n",
      "p. 197"
     ]
    },
    {
     "cell_type": "code",
     "collapsed": false,
     "input": [
      "a = [5.80000000e+001,  -1.77000000e+002,  -1.64570000e+004,\n",
      "                1.41630000e+004,   8.60510000e+004,   1.41630000e+004,\n",
      "                -1.64570000e+004,  -1.77000000e+002,   5.80000000e+001]\n",
      "numpy.polynomial.polynomial.polyroots(a)"
     ],
     "language": "python",
     "metadata": {},
     "outputs": [
      {
       "metadata": {},
       "output_type": "pyout",
       "prompt_number": 45,
       "text": [
        "array([-15.66945875,  -1.73150206,  -0.57753324,  -0.06381841,\n",
        "         0.05590116,   0.3582761 ,   2.79114345,  17.88871589])"
       ]
      }
     ],
     "prompt_number": 45
    },
    {
     "cell_type": "code",
     "collapsed": false,
     "input": [
      "imp.reload(ER)\n",
      "M = 2\n",
      "N = 3\n",
      "BS = numpy.array([1, 0, 0, 1, -3, 14, 21, 1, 2, 5, -6, 14])\n",
      "(LR, R, LAJ, AJ, LDETR, DETR, NZR, ZR, ZB, B) = ER.FACTOR(M, N, BS)\n",
      "print(\"B : \", B.round(decimals=4))\n",
      "print(\"expected : \", [21.05, -1.23, 0, 13.32, -6.33, 13.85, 2.77, 6.87, 0.1, 0.24, -0.44, 1.07]) "
     ],
     "language": "python",
     "metadata": {},
     "outputs": [
      {
       "output_type": "stream",
       "stream": "stdout",
       "text": [
        "('LR, LAJ, LDETR, LRR : ', 5, 5, 9, 7)\n",
        "((4,), 0j, (4,), (36,))\n",
        "[  0.00000000e+000 +2.68156175e+154j   1.97626258e-323 +0.00000000e+000j\n",
        "  -2.59974885e+001 +0.00000000e+000j   0.00000000e+000 +6.56376082e-309j]\n",
        "((4,), inf, (4,), (36,))\n",
        "((4,), inf, (4,), (36,))\n",
        "[-0. -0. -0. -0.]\n",
        "((4,), -95.817285456276409, (4,), (36,))\n",
        "('B : ', array([ 25.9726+0.j,  -8.6556+0.j,   0.0000+0.j,  19.6646+0.j,\n",
        "        -0.5785+0.j,   6.9460+0.j,   0.2190+0.j,   0.5207+0.j,\n",
        "         0.0000+0.j,   0.0000+0.j,   0.0000+0.j,   0.0000+0.j]))\n",
        "('expected : ', [21.05, -1.23, 0, 13.32, -6.33, 13.85, 2.77, 6.87, 0.1, 0.24, -0.44, 1.07])\n"
       ]
      }
     ],
     "prompt_number": 200
    },
    {
     "cell_type": "code",
     "collapsed": false,
     "input": [
      "imp.reload(ER)\n",
      "M = 2\n",
      "N = 3\n",
      "BS = numpy.array([1, 0, 0, 1, -3, 14, 21, 1, 2, 5, -6, 14])\n",
      "R = numpy.empty(M * M * (2 * N - 1), \"complex\")\n",
      "OON = 0 + 0 * M + (N - 1) * M * M\n",
      "print(OON, R.shape)\n",
      "print(ER.HEAT(M, M, N, BS, M, M, N, BS, N, R[OON: ]))\n",
      "print(ER.HEAT_CPLX(M, M, N, BS, M, M, N, BS, N, R[OON: ]))"
     ],
     "language": "python",
     "metadata": {},
     "outputs": [
      {
       "output_type": "stream",
       "stream": "stdout",
       "text": [
        "(8, (20,))\n",
        "[ 491.  -95.  -95.  419. -135.  293.   43.   85.    2.    5.   -6.   14.]\n",
        "[ 491.+0.j  -95.+0.j  -95.+0.j  419.+0.j -135.+0.j  293.+0.j   43.+0.j\n",
        "   85.+0.j    2.+0.j    5.+0.j   -6.+0.j   14.+0.j]\n"
       ]
      }
     ],
     "prompt_number": 169
    },
    {
     "cell_type": "heading",
     "level": 2,
     "metadata": {},
     "source": [
      "BRAINY"
     ]
    },
    {
     "cell_type": "code",
     "collapsed": false,
     "input": [
      "M = 2\n",
      "DIAG = numpy.array([1, 2., 3, 4])\n",
      "FACT = numpy.array([1, 2., 3, 4])\n",
      "P = numpy.array([1, 2., 3, 4, 5, 6, 7, 8])\n",
      "z = ER.BRAINY(M, M, 1, DIAG, M, M, 1, P, FACT)\n",
      "print(z)"
     ],
     "language": "python",
     "metadata": {},
     "outputs": [
      {
       "output_type": "stream",
       "stream": "stdout",
       "text": [
        "[  7.  10.  15.  22.]\n"
       ]
      }
     ],
     "prompt_number": 5
    },
    {
     "cell_type": "markdown",
     "metadata": {},
     "source": [
      "<h2> FADDEJ </h2>"
     ]
    },
    {
     "cell_type": "code",
     "collapsed": false,
     "input": [
      "imp.reload(ER)\n",
      "N = 4\n",
      "A = numpy.array([2., 0, -1, 1, -1, 1, 1, 1, 1, 1, 1, 1, 2, 0, 1, 0])\n",
      "AINV = numpy.zeros((N * N, ))\n",
      "ADJUG = numpy.zeros((N * N, ))\n",
      "P = numpy.zeros((N, ))\n",
      "DET = 0.\n",
      "(AINV, DET, ADJUG, P) = ER.FADDEJ(N, A, AINV, DET, ADJUG, P)\n",
      "print(AINV, DET, ADJUG, P)"
     ],
     "language": "python",
     "metadata": {},
     "outputs": [
      {
       "output_type": "stream",
       "stream": "stdout",
       "text": [
        "(array([-0. , -0.5,  0.5, -0. , -1. , -2.5,  3.5, -2. , -0. ,  1. , -1. ,\n",
        "        1. ,  1. ,  2. , -2. ,  1. ]), 2.0, array([-0., -1.,  1., -0., -2., -5.,  7., -4., -0.,  2., -2.,  2.,  2.,\n",
        "        4., -4.,  2.]), array([ 4., -2., -5., -2.]))\n"
       ]
      }
     ],
     "prompt_number": 27
    },
    {
     "cell_type": "markdown",
     "metadata": {},
     "source": [
      "<h2> FADDEJ_CPLX </h2>"
     ]
    },
    {
     "cell_type": "code",
     "collapsed": false,
     "input": [
      "imp.reload(ER)\n",
      "N = 4\n",
      "A = numpy.array([2., 0, -1, 1, -1, 1, 1, 1, 1, 1, 1, 1, 2, 0, 1, 0])\n",
      "AINV = numpy.zeros((N * N, ))\n",
      "ADJUG = numpy.zeros((N * N, ))\n",
      "P = numpy.zeros((N, ))\n",
      "DET = 0.\n",
      "(AINV, DET, ADJUG, P) = ER.FADDEJ_CPLX(N, A, AINV, DET, ADJUG, P)\n",
      "print(AINV, DET, ADJUG, P)"
     ],
     "language": "python",
     "metadata": {},
     "outputs": [
      {
       "output_type": "stream",
       "stream": "stdout",
       "text": [
        "(array([-0. , -0.5,  0.5, -0. , -1. , -2.5,  3.5, -2. , -0. ,  1. , -1. ,\n",
        "        1. ,  1. ,  2. , -2. ,  1. ]), 2.0, array([-0., -1.,  1., -0., -2., -5.,  7., -4., -0.,  2., -2.,  2.,  2.,\n",
        "        4., -4.,  2.]), array([ 4., -2., -5., -2.]))\n"
       ]
      }
     ],
     "prompt_number": 183
    },
    {
     "cell_type": "markdown",
     "metadata": {},
     "source": [
      "<h1> MAINV </h1>"
     ]
    },
    {
     "cell_type": "code",
     "collapsed": false,
     "input": [
      "imp.reload(ER)\n",
      "N = 2 \n",
      "A = numpy.array([1., 3, 2, 1])\n",
      "AINV = numpy.empty(4)\n",
      "DET = 0\n",
      "ADJUG = numpy.zeros(25*25)\n",
      "P = numpy.zeros(25)\n",
      "(AINV, DET, ADJUG, P) = ER.FADDEJ(N, A, AINV, DET, ADJUG, P)\n",
      "print(AINV)\n",
      "AINV = ER.MAINV(N, A, AINV)\n",
      "print(AINV)"
     ],
     "language": "python",
     "metadata": {},
     "outputs": [
      {
       "output_type": "stream",
       "stream": "stdout",
       "text": [
        "[-0.2  0.6  0.4 -0.2]\n",
        "[-0.2  0.6  0.4 -0.2]\n"
       ]
      }
     ],
     "prompt_number": 30
    },
    {
     "cell_type": "code",
     "collapsed": false,
     "input": [
      "A = numpy.matrix(\"[1, 2; 3, 1]\")\n",
      "print(A, A.I)"
     ],
     "language": "python",
     "metadata": {},
     "outputs": [
      {
       "output_type": "stream",
       "stream": "stdout",
       "text": [
        "(matrix([[1, 2],\n",
        "        [3, 1]]), matrix([[-0.2,  0.4],\n",
        "        [ 0.6, -0.2]]))\n"
       ]
      }
     ],
     "prompt_number": 31
    },
    {
     "cell_type": "code",
     "collapsed": false,
     "input": [],
     "language": "python",
     "metadata": {},
     "outputs": []
    }
   ],
   "metadata": {}
  }
 ]
}