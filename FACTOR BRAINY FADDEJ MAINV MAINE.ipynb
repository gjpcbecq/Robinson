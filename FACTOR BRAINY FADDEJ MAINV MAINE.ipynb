{
 "metadata": {
  "name": "",
  "signature": "sha256:044d10b8a37c4d8386192f7b7b868677b8f366246ff4de049abdba42aed117ce"
 },
 "nbformat": 3,
 "nbformat_minor": 0,
 "worksheets": [
  {
   "cells": [
    {
     "cell_type": "code",
     "collapsed": false,
     "input": [
      "%pylab inline\n",
      "import sys\n",
      "# sys.path.append(\"/Users/becqg/Documents/code/Robinson\")\n",
      "sys.path.append(\"C:\\Users\\Guillaume\\Documents\\projets\\code\\Robinson\")\n",
      "import ER\n",
      "import imp"
     ],
     "language": "python",
     "metadata": {},
     "outputs": [
      {
       "output_type": "stream",
       "stream": "stdout",
       "text": [
        "Populating the interactive namespace from numpy and matplotlib\n"
       ]
      }
     ],
     "prompt_number": 1
    },
    {
     "cell_type": "code",
     "collapsed": false,
     "input": [
      "a = [5.80000000e+001,  -1.77000000e+002,  -1.64570000e+004,\n",
      "                1.41630000e+004,   8.60510000e+004,   1.41630000e+004,\n",
      "                -1.64570000e+004,  -1.77000000e+002,   5.80000000e+001]\n",
      "numpy.polynomial.polynomial.polyroots(a)\n",
      "\n",
      "\n",
      " -0.06381841+0.j,   0.05590116+0.j,  -0.57753324+0.j,\n",
      "         0.35827610+0.j,  -1.73150206+0.j,   2.79114345+0.j,\n",
      "       -15.66945875+0.j,  17.88871589+0.j"
     ],
     "language": "python",
     "metadata": {},
     "outputs": [
      {
       "metadata": {},
       "output_type": "pyout",
       "prompt_number": 2,
       "text": [
        "array([-15.66945875,  -1.73150206,  -0.57753324,  -0.06381841,\n",
        "         0.05590116,   0.3582761 ,   2.79114345,  17.88871589])"
       ]
      }
     ],
     "prompt_number": 2
    },
    {
     "cell_type": "markdown",
     "metadata": {},
     "source": [
      "<h2> FACTOR </h2>\n",
      "p. 197"
     ]
    },
    {
     "cell_type": "code",
     "collapsed": false,
     "input": [
      "imp.reload(ER)\n",
      "M = 2\n",
      "N = 3\n",
      "BS = numpy.array([1, 0, 0, 1, -3, 14, 21, 1, 2, 5, -6, 14])\n",
      "(LR, R, LAJ, AJ, LDETR, DETR, NZR, ZR, ZB, B) = ER.FACTOR(M, N, BS)\n",
      "print(\"B : \", B.real.round(2))\n",
      "print(\"expected : \", [21.05, -1.23, 0, 13.32, -6.33, 13.85, 2.77, 6.87, 0.1, 0.24, -0.44, 1.07]) "
     ],
     "language": "python",
     "metadata": {},
     "outputs": [
      {
       "output_type": "stream",
       "stream": "stdout",
       "text": [
        "('LR, LAJ, LDETR, LRR : ', 5, 5, 9, 7)\n",
        "('B : ', array([ 21.05,  -1.23,   0.  ,  13.32,  -6.33,  13.85,   2.77,   6.87,\n",
        "         0.1 ,   0.24,  -0.44,   1.07]))\n",
        "('expected : ', [21.05, -1.23, 0, 13.32, -6.33, 13.85, 2.77, 6.87, 0.1, 0.24, -0.44, 1.07])\n"
       ]
      }
     ],
     "prompt_number": 2
    },
    {
     "cell_type": "code",
     "collapsed": false,
     "input": [
      "a = array([ 269.37501573+0.j,  797.56447078+0.j,  354.99270198+0.j, -83.89298512+0.j])\n",
      "print(a.reshape(2, 2))\n",
      "numpy.linalg.pinv(a.reshape(2, 2).T)"
     ],
     "language": "python",
     "metadata": {},
     "outputs": [
      {
       "output_type": "stream",
       "stream": "stdout",
       "text": [
        "[[ 269.37501573+0.j  797.56447078+0.j]\n",
        " [ 354.99270198+0.j  -83.89298512+0.j]]\n"
       ]
      },
      {
       "metadata": {},
       "output_type": "pyout",
       "prompt_number": 204,
       "text": [
        "array([[ 0.00027440+0.j,  0.00116114+0.j],\n",
        "       [ 0.00260874+0.j, -0.00088109+0.j]])"
       ]
      }
     ],
     "prompt_number": 204
    },
    {
     "cell_type": "code",
     "collapsed": false,
     "input": [
      "print(1. / -1.73)\n",
      "print(1. / 2.79)\n",
      "print(1. / -15.67)\n",
      "print(1. / -17.89)"
     ],
     "language": "python",
     "metadata": {},
     "outputs": [
      {
       "output_type": "stream",
       "stream": "stdout",
       "text": [
        "-0.578034682081\n",
        "0.358422939068\n",
        "-0.0638162093172\n",
        "-0.0558971492454\n"
       ]
      }
     ],
     "prompt_number": 171
    },
    {
     "cell_type": "code",
     "collapsed": false,
     "input": [
      "A = numpy.array([1., 0, 0, 1, -3, 14, 21, 1, 2, 5., -6, 14.])\n",
      "N = 2\n",
      "LA = 3\n",
      "S = empty(N * N * (N * LA - 1))\n",
      "LDET = N * (LA - 1) + 1\n",
      "LADJ = (N - 1) * (LA - 1) + 1\n",
      "ADJ = empty(N * N * LADJ, \"complex\")\n",
      "DET = empty(LDET, \"complex\")\n",
      "P = empty(N * LDET, \"complex\")\n",
      "(ADJ, P, DET, S) = ER.POMAIN(N, LA, A, ADJ, P, DET, S)\n",
      "print(\"ADJ, P, DET, S\", ADJ.real, P.real, DET.real, S.real)"
     ],
     "language": "python",
     "metadata": {},
     "outputs": [
      {
       "output_type": "stream",
       "stream": "stdout",
       "text": [
        "('ADJ, P, DET, S', array([  1.,  -0.,  -0.,   1.,   1., -14., -21.,  -3.,  14.,  -5.,   6.,\n",
        "         2.]), array([  2.00000000e+000,  -1.00000000e+000,  -2.00000000e+000,\n",
        "         2.00000000e+000,   1.60000000e+001,   2.81000000e+002,\n",
        "         0.00000000e+000,   6.10000000e+001,  -3.10503637e+231,\n",
        "        -5.80000000e+001]), array([   1.,   -2., -281.,  -61.,   58.]), array([  -1.,    0.,    0.,   -1.,    2.,    0.,    0.,    2.,  281.,\n",
        "          0.,    0.,  281.,   61.,    0.,    0.,   61.,  -58.,    0.,\n",
        "          0.,  -58.]))\n"
       ]
      }
     ],
     "prompt_number": 4
    },
    {
     "cell_type": "code",
     "collapsed": false,
     "input": [
      "A = numpy.array([1., 2, 3, 4, 5, 6, 7, 8, 9, 10., 11, 12.])\n",
      "N = 2\n",
      "LA = 3\n",
      "S = empty(N * N * (N * LA - 1))\n",
      "LDET = N * (LA - 1) + 1\n",
      "LADJ = (N - 1) * (LA - 1) + 1\n",
      "ADJ = empty(N * N * LADJ, \"complex\")\n",
      "DET = empty(LDET, \"complex\")\n",
      "P = empty(N * LDET, \"complex\")\n",
      "(ADJ, P, DET, S) = ER.POMAIN(N, LA, A, ADJ, P, DET, S)\n",
      "print(\"ADJ, P, DET, S\", ADJ, P, DET, S)"
     ],
     "language": "python",
     "metadata": {},
     "outputs": [
      {
       "output_type": "stream",
       "stream": "stdout",
       "text": [
        "('ADJ, P, DET, S', array([  4.-0.j,  -2.+0.j,  -3.+0.j,   1.-0.j,   8.-0.j,  -6.+0.j,\n",
        "        -7.+0.j,   5.-0.j,  12.-0.j, -10.+0.j, -11.+0.j,   9.-0.j]), array([  5.00000000e+000 +0.00000000e+000j,\n",
        "         2.00000000e+000 +0.00000000e+000j,\n",
        "         1.30000000e+001 +0.00000000e+000j,\n",
        "         4.00000000e+000 +0.00000000e+000j,\n",
        "         2.10000000e+001 +0.00000000e+000j,\n",
        "         6.00000000e+000 +0.00000000e+000j,\n",
        "         2.12327441e-314 +2.12358735e-314j,\n",
        "         4.00000000e+000 +0.00000000e+000j,\n",
        "         0.00000000e+000 +0.00000000e+000j,\n",
        "         2.00000000e+000 +0.00000000e+000j]), array([-2.+0.j, -4.+0.j, -6.+0.j, -4.+0.j, -2.+0.j]), array([ 2.+0.j,  0.+0.j,  0.+0.j,  2.+0.j,  4.+0.j,  0.+0.j,  0.+0.j,\n",
        "        4.+0.j,  6.+0.j,  0.+0.j,  0.+0.j,  6.+0.j,  4.+0.j,  0.+0.j,\n",
        "        0.+0.j,  4.+0.j,  2.+0.j,  0.+0.j,  0.+0.j,  2.+0.j]))\n"
       ]
      }
     ],
     "prompt_number": 159
    },
    {
     "cell_type": "code",
     "collapsed": false,
     "input": [
      "import scipy.linalg\n",
      "W = numpy.array([[1135, -532], [-836, 477]])\n",
      "print(W)\n",
      "numpy.linalg.cholesky(W.T)\n"
     ],
     "language": "python",
     "metadata": {},
     "outputs": [
      {
       "output_type": "stream",
       "stream": "stdout",
       "text": [
        "[[1135 -532]\n",
        " [-836  477]]\n"
       ]
      },
      {
       "metadata": {},
       "output_type": "pyout",
       "prompt_number": 135,
       "text": [
        "array([[ 33.68976106,   0.        ],\n",
        "       [-15.79114791,  15.08773169]])"
       ]
      }
     ],
     "prompt_number": 135
    },
    {
     "cell_type": "code",
     "collapsed": false,
     "input": [
      "imp.reload(ER)\n",
      "M = 2\n",
      "N = 3\n",
      "BS = numpy.array([1, 0, 0, 1, -3, 14, 21, 1, 2, 5, -6, 14])\n",
      "R = numpy.empty(M * M * (2 * N - 1), \"complex\")\n",
      "OON = 0 + 0 * M + (N - 1) * M * M\n",
      "print(OON, R.shape)\n",
      "print(ER.HEAT(M, M, N, BS, M, M, N, BS, N, R[OON: ]))\n",
      "print(ER.HEAT_CPLX(M, M, N, BS, M, M, N, BS, N, R[OON: ]))"
     ],
     "language": "python",
     "metadata": {},
     "outputs": [
      {
       "output_type": "stream",
       "stream": "stdout",
       "text": [
        "(8, (20,))\n",
        "[ 491.  -95.  -95.  419. -135.  293.   43.   85.    2.    5.   -6.   14.]\n",
        "[ 491.+0.j  -95.+0.j  -95.+0.j  419.+0.j -135.+0.j  293.+0.j   43.+0.j\n",
        "   85.+0.j    2.+0.j    5.+0.j   -6.+0.j   14.+0.j]\n"
       ]
      }
     ],
     "prompt_number": 46
    },
    {
     "cell_type": "code",
     "collapsed": false,
     "input": [
      "imp.reload(ER)\n",
      "M = 2\n",
      "N = 2\n",
      "BS = numpy.array([2.0, 0, 1, 6, 1, 1, 0, 1])\n",
      "(LR, R, LAJ, AJ, LDETR, DETR, NZR, ZR, ZB, B) = ER.FACTOR(M, N, BS)\n",
      "print(\"R : \", R.real.round(2))\n",
      "print(\"AJ : \", AJ.real.round(2))\n",
      "print(\"DETR : \", DETR.real.round(2))\n",
      "print(\"ZR : \", ZR.real.round(2))\n",
      "print(\"ZB : \", ZB.real.round(2))\n",
      "print(\"B : \", B.real.round(2))"
     ],
     "language": "python",
     "metadata": {},
     "outputs": [
      {
       "output_type": "stream",
       "stream": "stdout",
       "text": [
        "('LR, LAJ, LDETR, LRR : ', 3, 3, 5, 4)\n",
        "('R : ', array([  2.,   0.,   3.,   6.,   6.,   7.,   7.,  38.,   2.,   3.,   0.,\n",
        "         6.]))\n",
        "('AJ : ', array([  6.,  -0.,  -3.,   2.,  38.,  -7.,  -7.,   6.,   6.,  -3.,  -0.,\n",
        "         2.]))\n",
        "('DETR : ', array([  -3.,   -4.,  194.,   91.,   12.]))\n",
        "('ZR : ', array([-0.25, -0.33, -3.  , -4.  ]))\n",
        "('ZB : ', array([-3., -4.]))\n",
        "('B : ', array([ 2.24,  2.68,  0.  ,  5.37,  0.89,  1.34, -0.45,  0.45]))\n"
       ]
      }
     ],
     "prompt_number": 9
    },
    {
     "cell_type": "heading",
     "level": 2,
     "metadata": {},
     "source": [
      "BRAINY"
     ]
    },
    {
     "cell_type": "code",
     "collapsed": false,
     "input": [
      "M = 2\n",
      "DIAG = numpy.array([1, 2., 3, 4])\n",
      "FACT = numpy.array([1, 2., 3, 4])\n",
      "P = numpy.array([1, 2., 3, 4, 5, 6, 7, 8])\n",
      "z = ER.BRAINY(M, M, 1, DIAG, M, M, 1, P, FACT)\n",
      "print(z)"
     ],
     "language": "python",
     "metadata": {},
     "outputs": [
      {
       "output_type": "stream",
       "stream": "stdout",
       "text": [
        "[  7.  10.  15.  22.]\n"
       ]
      }
     ],
     "prompt_number": 5
    },
    {
     "cell_type": "markdown",
     "metadata": {},
     "source": [
      "<h2> FADDEJ </h2>"
     ]
    },
    {
     "cell_type": "code",
     "collapsed": false,
     "input": [
      "imp.reload(ER)\n",
      "N = 4\n",
      "A = numpy.array([2., 0, -1, 1, -1, 1, 1, 1, 1, 1, 1, 1, 2, 0, 1, 0])\n",
      "AINV = numpy.zeros((N * N, ))\n",
      "ADJUG = numpy.zeros((N * N, ))\n",
      "P = numpy.zeros((N, ))\n",
      "DET = 0.\n",
      "(AINV, DET, ADJUG, P) = ER.FADDEJ(N, A, AINV, DET, ADJUG, P)\n",
      "print(AINV, DET, ADJUG, P)"
     ],
     "language": "python",
     "metadata": {},
     "outputs": [
      {
       "output_type": "stream",
       "stream": "stdout",
       "text": [
        "(array([-0. , -0.5,  0.5, -0. , -1. , -2.5,  3.5, -2. , -0. ,  1. , -1. ,\n",
        "        1. ,  1. ,  2. , -2. ,  1. ]), 2.0, array([-0., -1.,  1., -0., -2., -5.,  7., -4., -0.,  2., -2.,  2.,  2.,\n",
        "        4., -4.,  2.]), array([ 4., -2., -5., -2.]))\n"
       ]
      }
     ],
     "prompt_number": 63
    },
    {
     "cell_type": "markdown",
     "metadata": {},
     "source": [
      "<h2> FADDEJ_CPLX </h2>"
     ]
    },
    {
     "cell_type": "code",
     "collapsed": false,
     "input": [
      "imp.reload(ER)\n",
      "N = 4\n",
      "A = numpy.array([2., 0, -1, 1, -1, 1, 1, 1, 1, 1, 1, 1, 2, 0, 1, 0])\n",
      "AINV = numpy.zeros((N * N, ))\n",
      "ADJUG = numpy.zeros((N * N, ))\n",
      "P = numpy.zeros((N, ))\n",
      "DET = 0.\n",
      "(AINV, DET, ADJUG, P) = ER.FADDEJ_CPLX(N, A, AINV, DET, ADJUG, P)\n",
      "print(AINV, DET, ADJUG, P)"
     ],
     "language": "python",
     "metadata": {},
     "outputs": [
      {
       "output_type": "stream",
       "stream": "stdout",
       "text": [
        "(array([-0. , -0.5,  0.5, -0. , -1. , -2.5,  3.5, -2. , -0. ,  1. , -1. ,\n",
        "        1. ,  1. ,  2. , -2. ,  1. ]), 2.0, array([-0., -1.,  1., -0., -2., -5.,  7., -4., -0.,  2., -2.,  2.,  2.,\n",
        "        4., -4.,  2.]), array([ 4., -2., -5., -2.]))\n"
       ]
      }
     ],
     "prompt_number": 64
    },
    {
     "cell_type": "markdown",
     "metadata": {},
     "source": [
      "<h1> MAINV </h1>"
     ]
    },
    {
     "cell_type": "code",
     "collapsed": false,
     "input": [
      "imp.reload(ER)\n",
      "N = 2 \n",
      "A = numpy.array([1., 3, 2, 1])\n",
      "AINV = numpy.empty(4)\n",
      "DET = 0\n",
      "ADJUG = numpy.zeros(25*25)\n",
      "P = numpy.zeros(25)\n",
      "(AINV, DET, ADJUG, P) = ER.FADDEJ(N, A, AINV, DET, ADJUG, P)\n",
      "print(AINV)\n",
      "AINV = ER.MAINV(N, A, AINV)\n",
      "print(AINV)"
     ],
     "language": "python",
     "metadata": {},
     "outputs": [
      {
       "output_type": "stream",
       "stream": "stdout",
       "text": [
        "[-0.2  0.6  0.4 -0.2]\n",
        "[-0.2  0.6  0.4 -0.2]\n"
       ]
      }
     ],
     "prompt_number": 30
    },
    {
     "cell_type": "code",
     "collapsed": false,
     "input": [
      "A = numpy.matrix(\"[1, 2; 3, 1]\")\n",
      "print(A, A.I)"
     ],
     "language": "python",
     "metadata": {},
     "outputs": [
      {
       "output_type": "stream",
       "stream": "stdout",
       "text": [
        "(matrix([[1, 2],\n",
        "        [3, 1]]), matrix([[-0.2,  0.4],\n",
        "        [ 0.6, -0.2]]))\n"
       ]
      }
     ],
     "prompt_number": 31
    },
    {
     "cell_type": "markdown",
     "metadata": {},
     "source": [
      "<h2> MAINE</h2>"
     ]
    },
    {
     "cell_type": "code",
     "collapsed": false,
     "input": [
      "imp.reload(ER)\n",
      "N = 2 \n",
      "A = numpy.array([1., 2, 2, 1])\n",
      "B = numpy.empty(4)\n",
      "B = ER.MAINE(N, A, B)\n",
      "ER.RITE(1, 2, 2, 1, A)\n",
      "ER.RITE(1, 2, 2, 1, B)"
     ],
     "language": "python",
     "metadata": {},
     "outputs": [
      {
       "output_type": "stream",
       "stream": "stdout",
       "text": [
        "--\n",
        "('M', 1)\n",
        "[[-0.333333333333  0.666666666667] \n",
        " [0.666666666667  -0.333333333333]]\n",
        "\n",
        "--\n",
        "[[1.0  2.0] \n",
        " [2.0  1.0]]\n",
        "\n",
        "[[-0.333333333333  0.666666666667] \n",
        " [0.666666666667  -0.333333333333]]\n",
        "\n"
       ]
      }
     ],
     "prompt_number": 6
    },
    {
     "cell_type": "code",
     "collapsed": false,
     "input": [
      "A = matrix(\"[1., 2; 2, 1]\")\n",
      "print(A.I)\n",
      "print(A * A.I)\n"
     ],
     "language": "python",
     "metadata": {},
     "outputs": [
      {
       "output_type": "stream",
       "stream": "stdout",
       "text": [
        "[[-0.33333333  0.66666667]\n",
        " [ 0.66666667 -0.33333333]]\n",
        "[[ 1.  0.]\n",
        " [ 0.  1.]]\n"
       ]
      }
     ],
     "prompt_number": 4
    },
    {
     "cell_type": "code",
     "collapsed": false,
     "input": [],
     "language": "python",
     "metadata": {},
     "outputs": []
    }
   ],
   "metadata": {}
  }
 ]
}