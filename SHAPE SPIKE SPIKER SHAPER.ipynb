{
 "metadata": {
  "name": "",
  "signature": "sha256:f1977b60f47e637d002fbfea1ed98edf9c6495f40ec6ed784527a635b20d803e"
 },
 "nbformat": 3,
 "nbformat_minor": 0,
 "worksheets": [
  {
   "cells": [
    {
     "cell_type": "code",
     "collapsed": false,
     "input": [
      "%pylab inline\n",
      "import sys\n",
      "# sys.path.append(\"/Users/becqg/Documents/code/Robinson\")\n",
      "sys.path.append(\"C:\\Users\\Guillaume\\Documents\\projets\\code\\Robinson\")\n",
      "import ER\n",
      "import imp"
     ],
     "language": "python",
     "metadata": {},
     "outputs": [
      {
       "output_type": "stream",
       "stream": "stdout",
       "text": [
        "Populating the interactive namespace from numpy and matplotlib\n"
       ]
      }
     ],
     "prompt_number": 1
    },
    {
     "cell_type": "heading",
     "level": 1,
     "metadata": {},
     "source": [
      "SHAPE"
     ]
    },
    {
     "cell_type": "code",
     "collapsed": false,
     "input": [
      "imp.reload(ER)\n",
      "LB = 2\n",
      "B = numpy.array([-1.25, 1.0])\n",
      "LD = 5\n",
      "D = numpy.array([2.0, 1.0, 0.0, 1.0, 2.0])\n",
      "LA = 2\n",
      "A = numpy.empty(LA)\n",
      "LC = 3\n",
      "C = numpy.empty(LC)\n",
      "ASE = 0\n",
      "SPACE = numpy.empty(3*LA)\n",
      "(A, LC, C, ASE, SPACE) = ER.SHAPE(LB, B, LD, D, LA, A, LC, C, ASE, SPACE)\n",
      "print(A)\n",
      "print(LC)\n",
      "print(C)\n",
      "print(ASE)\n",
      "print(SPACE)\n",
      "plot(B, '.-', label=\"B\")\n",
      "plot(D, '.-', label=\"D\")\n",
      "plot(A, '.-', label=\"A\")\n",
      "plot(C, '.-', label=\"C\")\n",
      "legend()"
     ],
     "language": "python",
     "metadata": {},
     "outputs": [
      {
       "output_type": "stream",
       "stream": "stdout",
       "text": [
        "[-1.08040593 -1.01483216]\n",
        "3\n",
        "[ 1.35050742  0.18813427 -1.01483216]\n",
        "0.711085089774\n",
        "[ 2.5625     -1.25       -1.5        -1.25        1.          0.48780488]\n"
       ]
      },
      {
       "metadata": {},
       "output_type": "pyout",
       "prompt_number": 25,
       "text": [
        "<matplotlib.legend.Legend at 0x102239d10>"
       ]
      },
      {
       "metadata": {},
       "output_type": "display_data",
       "png": "[encoded data removed]",
       "text": [
        "<matplotlib.figure.Figure at 0x10f28b790>"
       ]
      }
     ],
     "prompt_number": 25
    },
    {
     "cell_type": "code",
     "collapsed": false,
     "input": [
      "LB = 2\n",
      "B = numpy.array([1.0, -1.25])\n",
      "LD = 5\n",
      "D = numpy.array([2.0, 1.0, 0.0, 1.0, 2.0])\n",
      "LA = 2\n",
      "A = numpy.empty(LA)\n",
      "LC = 3\n",
      "C = numpy.empty(LC)\n",
      "ASE = 0\n",
      "SPACE = numpy.empty(3*LA)\n",
      "(A, LC, C, ASE, SPACE) = ER.SHAPE(LB, B, LD, D, LA, A, LC, C, ASE, SPACE)\n",
      "print(A)\n",
      "print(LC)\n",
      "print(C)\n",
      "print(ASE)\n",
      "print(SPACE)\n",
      "plot(B, '.-', label=\"B\")\n",
      "plot(D, '.-', label=\"D\")\n",
      "plot(A, '.-', label=\"A\")\n",
      "plot(C, '.-', label=\"C\")\n",
      "legend()"
     ],
     "language": "python",
     "metadata": {},
     "outputs": [
      {
       "output_type": "stream",
       "stream": "stdout",
       "text": [
        "[ 0.63387978  0.69945355]\n",
        "3\n",
        "[ 0.63387978 -0.09289617 -0.87431694]\n",
        "0.882513661202\n",
        "[ 2.5625     -1.25        0.75        1.          1.          0.48780488]\n"
       ]
      },
      {
       "metadata": {},
       "output_type": "pyout",
       "prompt_number": 26,
       "text": [
        "<matplotlib.legend.Legend at 0x10efd4dd0>"
       ]
      },
      {
       "metadata": {},
       "output_type": "display_data",
       "png": "[encoded data removed]",
       "text": [
        "<matplotlib.figure.Figure at 0x102221950>"
       ]
      }
     ],
     "prompt_number": 26
    },
    {
     "cell_type": "code",
     "collapsed": false,
     "input": [
      "LB = 3\n",
      "B = numpy.array([1.5625, -1.7677, 1.0])\n",
      "LD = 5\n",
      "D = numpy.array([2.0, 1.0, 0.0, 1.0, 2.0])\n",
      "LA = 2\n",
      "A = numpy.empty(LA)\n",
      "LC = 4\n",
      "C = numpy.empty(LC)\n",
      "ASE = 0\n",
      "SPACE = numpy.empty(3*LA)\n",
      "(A, LC, C, ASE, SPACE) = ER.SHAPE(LB, B, LD, D, LA, A, LC, C, ASE, SPACE)\n",
      "print(A)\n",
      "print(LC)\n",
      "print(C)\n",
      "print(ASE)\n",
      "print(SPACE)\n",
      "plot(B, '.-', label=\"B\")\n",
      "plot(D, '.-', label=\"D\")\n",
      "plot(A, '.-', label=\"A\")\n",
      "plot(C, '.-', label=\"C\")\n",
      "legend()"
     ],
     "language": "python",
     "metadata": {},
     "outputs": [
      {
       "output_type": "stream",
       "stream": "stdout",
       "text": [
        "[ 0.90810727  1.01672395]\n",
        "4\n",
        "[ 1.4189176  -0.01663004 -0.88915567  1.01672395]\n",
        "0.616207087368\n",
        "[ 6.56616954 -4.52973125  1.3573      2.5625      1.          0.68985901]\n"
       ]
      },
      {
       "metadata": {},
       "output_type": "pyout",
       "prompt_number": 27,
       "text": [
        "<matplotlib.legend.Legend at 0x10f013750>"
       ]
      },
      {
       "metadata": {},
       "output_type": "display_data",
       "png": "[encoded data removed]",
       "text": [
        "<matplotlib.figure.Figure at 0x10efbffd0>"
       ]
      }
     ],
     "prompt_number": 27
    },
    {
     "cell_type": "code",
     "collapsed": false,
     "input": [
      "LB = 3\n",
      "B = numpy.array([1.0, -1.7677, 1.56250])\n",
      "LD = 5\n",
      "D = numpy.array([2.0, 1.0, 0.0, 1.0, 2.0])\n",
      "LA = 2\n",
      "A = numpy.empty(LA)\n",
      "LC = 4\n",
      "C = numpy.empty(LC)\n",
      "ASE = 0\n",
      "SPACE = numpy.empty(3*LA)\n",
      "(A, LC, C, ASE, SPACE) = ER.SHAPE(LB, B, LD, D, LA, A, LC, C, ASE, SPACE)\n",
      "print(A)\n",
      "print(LC)\n",
      "print(C)\n",
      "print(ASE)\n",
      "print(SPACE)"
     ],
     "language": "python",
     "metadata": {},
     "outputs": [
      {
       "output_type": "stream",
       "stream": "stdout",
       "text": [
        "[ 0.58119532  0.7912008 ]\n",
        "4\n",
        "[ 0.58119532 -0.23617816 -0.49048797  1.23625125]\n",
        "0.783753627953\n",
        "[ 6.56616954 -4.52973125  0.2323      2.5625      1.          0.68985901]\n"
       ]
      }
     ],
     "prompt_number": 19
    },
    {
     "cell_type": "code",
     "collapsed": false,
     "input": [
      "LB = 5\n",
      "B = numpy.array([2.0, 1.0, 0.0, -1.0, -2.0])\n",
      "LD = 5\n",
      "D = numpy.array([2.0, 1.0, 0.0, 1.0, 2.0])\n",
      "LA = 2\n",
      "A = numpy.empty(LA)\n",
      "LC = 6\n",
      "C = numpy.empty(LC)\n",
      "ASE = 0\n",
      "SPACE = numpy.empty(3*LA)\n",
      "(A, LC, C, ASE, SPACE) = ER.SHAPE(LB, B, LD, D, LA, A, LC, C, ASE, SPACE)\n",
      "print(A)\n",
      "print(LC)\n",
      "print(C)\n",
      "print(ASE)\n",
      "print(SPACE)\n",
      "plot(B, '.-', label=\"B\")\n",
      "plot(D, '.-', label=\"D\")\n",
      "plot(A, '.-', label=\"A\")\n",
      "plot(C, '.-', label=\"C\")\n",
      "legend()"
     ],
     "language": "python",
     "metadata": {},
     "outputs": [
      {
       "output_type": "stream",
       "stream": "stdout",
       "text": [
        "[ 0.  0.]\n",
        "6\n",
        "[ 0.  0.  0.  0.  0.  0.]\n",
        "1.0\n",
        "[ 10.    4.    0.    0.    1.   -0.4]\n"
       ]
      },
      {
       "metadata": {},
       "output_type": "pyout",
       "prompt_number": 28,
       "text": [
        "<matplotlib.legend.Legend at 0x10f047ed0>"
       ]
      },
      {
       "metadata": {},
       "output_type": "display_data",
       "png": "[encoded data removed]",
       "text": [
        "<matplotlib.figure.Figure at 0x10efdf210>"
       ]
      }
     ],
     "prompt_number": 28
    },
    {
     "cell_type": "code",
     "collapsed": false,
     "input": [
      "S = numpy.empty(3)\n",
      "I = ER.IMPULS(3, S, 0)\n",
      "print(I)"
     ],
     "language": "python",
     "metadata": {},
     "outputs": [
      {
       "output_type": "stream",
       "stream": "stdout",
       "text": [
        "[ 1.  0.  0.]\n"
       ]
      }
     ],
     "prompt_number": 11
    },
    {
     "cell_type": "code",
     "collapsed": false,
     "input": [
      "imp.reload(ER)\n",
      "LB = 5\n",
      "B = numpy.array([2.0, 1, 0, 1, 2])\n",
      "LA = 8\n",
      "A = numpy.empty((LA, ))\n",
      "INDEX = 0\n",
      "ASE = 0\n",
      "S = numpy.empty((2 * (LA + LB - 1) + 3 * LA, ))\n",
      "(A, INDEX, ASE, S) = ER.SPIKE(LB, B, LA, A, INDEX, ASE, S)\n",
      "print(numpy.round(A, 2))\n",
      "print(INDEX)\n",
      "print(ASE)\n",
      "print(S)"
     ],
     "language": "python",
     "metadata": {},
     "outputs": [
      {
       "output_type": "stream",
       "stream": "stdout",
       "text": [
        "12\n",
        "[ 0.36 -0.15  0.08 -0.15 -0.11  0.09 -0.04  0.11]\n",
        "0\n",
        "0.286100877654\n",
        "[  2.86100878e-01   3.50219657e-01   3.51498807e-01   3.59083486e-01\n",
        "   3.04580577e-01   3.48516596e-01   3.48516596e-01   3.04580577e-01\n",
        "   3.59083486e-01   3.51498807e-01   3.50219657e-01   2.86100878e-01\n",
        "   7.13899122e-01   5.08211818e-02  -1.07337361e-03   1.26608960e-01\n",
        "   1.97385807e-01  -1.48977398e-01   1.22575930e-02  -2.31430660e-01\n",
        "  -7.18177786e-03   1.46439491e-01   3.02379914e-02   2.19902553e-01\n",
        "   1.00000000e+01   4.00000000e+00   1.00000000e+00   4.00000000e+00\n",
        "   4.00000000e+00   0.00000000e+00   0.00000000e+00   0.00000000e+00\n",
        "   2.00000000e+00   0.00000000e+00   0.00000000e+00   0.00000000e+00\n",
        "   0.00000000e+00   0.00000000e+00   0.00000000e+00   0.00000000e+00\n",
        "   1.00000000e+00  -4.28811816e-01   2.12902371e-01  -4.29102656e-01\n",
        "  -2.94552990e-01   2.60955824e-01  -1.11659032e-01   3.08030289e-01]\n"
       ]
      }
     ],
     "prompt_number": 30
    },
    {
     "cell_type": "code",
     "collapsed": false,
     "input": [
      "imp.reload(ER)\n",
      "LB = 5\n",
      "B = numpy.array([2.0, 1, 0, -1, -2])\n",
      "LA = 8\n",
      "A = numpy.empty((LA, ))\n",
      "INDEX = 0\n",
      "ASE = 0\n",
      "S = numpy.empty((2 * (LA + LB - 1) + 3 * LA, ))\n",
      "(A, INDEX, ASE, S) = ER.SPIKE(LB, B, LA, A, INDEX, ASE, S)\n",
      "print(numpy.round(A, 2))\n",
      "print(INDEX)\n",
      "print(ASE)\n",
      "print(S)"
     ],
     "language": "python",
     "metadata": {},
     "outputs": [
      {
       "output_type": "stream",
       "stream": "stdout",
       "text": [
        "12\n",
        "[ 0.36 -0.16  0.07  0.1   0.11 -0.12  0.11  0.03]\n",
        "0\n",
        "0.286273055126\n",
        "[  0.28627306   0.2889933    0.38069828   0.38787973   0.32764258\n",
        "   0.32851306   0.32851306   0.32764258   0.38787973   0.38069828\n",
        "   0.2889933    0.28627306   0.71372694   0.03168676  -0.01562576\n",
        "  -0.09072931  -0.22506502   0.13640639  -0.12919361  -0.13866502\n",
        "  -0.08752931   0.11557424  -0.25631324  -0.05427306  10.           4.          -1.\n",
        "  -4.          -4.           0.           0.           0.           2.           0.\n",
        "   0.           0.           0.           0.           0.           0.           1.\n",
        "  -0.45560381   0.20590871   0.26992516   0.32189781  -0.3224799\n",
        "   0.32109859   0.07604176]\n"
       ]
      }
     ],
     "prompt_number": 31
    },
    {
     "cell_type": "heading",
     "level": 1,
     "metadata": {},
     "source": [
      "SPIKER"
     ]
    },
    {
     "cell_type": "code",
     "collapsed": false,
     "input": [
      "imp.reload(ER)\n",
      "H = 1\n",
      "LF = 2\n",
      "F = numpy.array([1, 0.9, 0.5])\n",
      "R = numpy.array([1, 0.4, 0.1])\n",
      "A = numpy.array([1, 2, 3.])\n",
      "F = ER.SIDE(H, LF, F, A, R)\n",
      "print(F)"
     ],
     "language": "python",
     "metadata": {},
     "outputs": [
      {
       "output_type": "stream",
       "stream": "stdout",
       "text": [
        "('A', array([ 1.,  2.,  3.]), 'R', array([ 1. ,  0.4,  0.1]))\n",
        "[ 0.73333333  0.66666667  0.5       ]\n"
       ]
      }
     ],
     "prompt_number": 55
    },
    {
     "cell_type": "code",
     "collapsed": false,
     "input": [
      "imp.reload(ER)\n",
      "LB = 7\n",
      "B = numpy.array([50., -65, 28, 68, 6, -9, -2])\n",
      "LA = 5\n",
      "A = numpy.empty(LA)\n",
      "SPACE = numpy.empty(3*LA)\n",
      "LC = 11\n",
      "C = numpy.zeros(LC)\n",
      "INDEX = 0.\n",
      "ERRORS = numpy.zeros(LC)\n",
      "(A, LC, C, INDEX, ERRORS) = ER.SPIKER(LB, B, LA, A, LC, C, INDEX, ERRORS, SPACE)\n",
      "print(\"A\", A)\n",
      "print(\"C\", C)\n",
      "print(\"INDEX\", INDEX)\n",
      "print(\"ERRORS\", ERRORS)"
     ],
     "language": "python",
     "metadata": {},
     "outputs": [
      {
       "output_type": "stream",
       "stream": "stdout",
       "text": [
        "('A', array([ 0.0036256 ,  0.00613757,  0.0051449 , -0.0023822 ,  0.00343802]))\n",
        "('C', array([ 0.18127979,  0.07121472, -0.04018015, -0.03513607,  0.90990932,\n",
        "        0.06387563, -0.09734468,  0.16091294,  0.03177808, -0.02617779,\n",
        "       -0.00687604]))\n",
        "('INDEX', 4)\n",
        "('ERRORS', array([ 0.75242232,  0.50181613,  0.44040022,  0.20884637,  0.09009068,\n",
        "        0.18396038,  0.29772128,  0.54482154,  0.98980966,  0.99050756,\n",
        "        0.99960388]))\n"
       ]
      }
     ],
     "prompt_number": 65
    },
    {
     "cell_type": "heading",
     "level": 1,
     "metadata": {},
     "source": [
      "SHAPER"
     ]
    },
    {
     "cell_type": "code",
     "collapsed": false,
     "input": [
      "imp.reload(ER)\n",
      "LB = 7\n",
      "B = numpy.array([50, -65, 28, 68, 6, -9, -2.0])\n",
      "LD = 5\n",
      "D = numpy.array([0.5, 0.8, 1.0, 0.8, 0.5])\n",
      "LA = 5\n",
      "A = numpy.empty(LA)\n",
      "LC = LA + LB - 1\n",
      "LCD = LC + LD - 1\n",
      "C = numpy.empty(LCD)\n",
      "INDEX = 0\n",
      "ERRORS = numpy.empty(LCD)\n",
      "S = numpy.empty(3 * LA)\n",
      "(A, LC, C, INDEX, ERRORS, S) = ER.SHAPER(LB, B, LD, D, LA, A, LC, C, INDEX, ERRORS, S)\n",
      "print(\"A\", A)\n",
      "print(\"LC\", LC)\n",
      "print(\"C\", C)\n",
      "print(\"INDEX\", INDEX)\n",
      "print(\"ERRORS\", ERRORS)\n",
      "print(\"S\", S)"
     ],
     "language": "python",
     "metadata": {},
     "outputs": [
      {
       "output_type": "stream",
       "stream": "stdout",
       "text": [
        "('LB', 7, 'B', array([ 50., -65.,  28.,  68.,   6.,  -9.,  -2.]), 'LD', 5, 'D', array([ 0.5,  0.8,  1. ,  0.8,  0.5]), 'LA', 5, 'A', array([  0.00000000e+000,   0.00000000e+000,   2.22952674e-314,\n",
        "         2.22954059e-314,   2.22955685e-314]), 'LC', 11, 'C', array([  0.00000000e+000,  -1.49166824e-154,   2.12422995e-314,\n",
        "         2.12358798e-314,   2.15765902e-314,   2.12358727e-314,\n",
        "         2.12358777e-314,   2.12358753e-314,   2.15766246e-314,\n",
        "         2.22948165e-314,   2.14006582e-314,   2.14006561e-314,\n",
        "         2.14006582e-314,   2.12595289e-314,   2.14202613e-314]), 'INDEX', 0, 'ERRORS', array([  0.00000000e+000,   2.31584192e+077,   2.12342047e-314,\n",
        "         2.23332812e-314,   2.12343414e-314,   2.23432050e-314,\n",
        "         2.23432052e-314,   2.23421541e-314,   2.12343412e-314,\n",
        "         2.23421539e-314,   2.12423420e-314,   2.12438194e-314,\n",
        "         2.12358753e-314,   2.15767028e-314,   2.22954047e-314]), 'S', array([  0.00000000e+000,  -1.49166824e-154,   2.23431884e-314,\n",
        "         2.12423540e-314,   2.23077597e-314,   2.12423479e-314,\n",
        "         2.23332816e-314,   2.12349960e-314,   2.23433376e-314,\n",
        "         2.23433643e-314,   2.23603647e-314,   2.23603676e-314,\n",
        "         2.23603614e-314,   2.23603496e-314,   2.23603662e-314]))\n",
        "('A', array([ 0.00595509,  0.01171018,  0.01337438,  0.01123284,  0.0060089 ]))\n",
        "('LC', 11)\n",
        "('C', array([ 0.29775463,  0.19842804,  0.0742997 ,  0.42513875,  0.77681577,\n",
        "        0.85006413,  0.8950266 ,  0.33221225, -0.09179092, -0.07654575,\n",
        "       -0.01201779]))\n",
        "('INDEX', 7)\n",
        "('ERRORS', array([ 1.        ,  0.9430037 ,  0.93983685,  0.93686295,  0.82800499,\n",
        "        0.61881635,  0.27428104,  0.15039171,  0.19931083,  0.51779723,\n",
        "        0.78541842,  0.9746531 ,  0.99606017,  0.99850888,  0.99996438]))\n",
        "('S', array([  1.22540000e+04,  -2.79400000e+03,  -3.47600000e+03,\n",
        "         2.62200000e+03,   8.29000000e+02,   2.82000000e+01,\n",
        "         6.62000000e+01,   5.82000000e+01,   5.84000000e+01,\n",
        "         3.14000000e+01,   1.00000000e+00,   2.92331904e-01,\n",
        "         3.18098084e-01,  -7.13408398e-02,  -5.62356470e-02]))\n"
       ]
      }
     ],
     "prompt_number": 75
    },
    {
     "cell_type": "code",
     "collapsed": false,
     "input": [
      "plot(B / 60, label=\"B / 60\")\n",
      "plot(D, label=\"D\")\n",
      "plot(C, label=\"C\")\n",
      "plot(A * 60, label=\"A * 60\")\n",
      "legend()"
     ],
     "language": "python",
     "metadata": {},
     "outputs": [
      {
       "metadata": {},
       "output_type": "pyout",
       "prompt_number": 87,
       "text": [
        "<matplotlib.legend.Legend at 0x10dac6bd0>"
       ]
      },
      {
       "metadata": {},
       "output_type": "display_data",
       "png": "[encoded data removed]",
       "text": [
        "<matplotlib.figure.Figure at 0x10db35850>"
       ]
      }
     ],
     "prompt_number": 87
    },
    {
     "cell_type": "code",
     "collapsed": false,
     "input": [],
     "language": "python",
     "metadata": {},
     "outputs": []
    }
   ],
   "metadata": {}
  }
 ]
}